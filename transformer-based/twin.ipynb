{
 "cells": [
  {
   "cell_type": "code",
   "execution_count": 2,
   "metadata": {},
   "outputs": [],
   "source": [
    "from fastai.vision.all import *\n",
    "import fastai\n",
    "import timm\n",
    "import torch\n",
    "import albumentations as A\n",
    "transform = A.load(\"/media/newhd/OPTRetina/DMAE/autoalbument-amd/outputs/2021-11-24/10-32-22/policy/latest.json\")\n",
    "\n",
    "class AlbumentationsTransform(Transform):\n",
    "    def __init__(self, aug): self.aug = aug\n",
    "    def encodes(self, img: PILImage):\n",
    "        aug_img = self.aug(image=np.array(img))['image']\n",
    "        return PILImage.create(aug_img)"
   ]
  },
  {
   "cell_type": "code",
   "execution_count": 3,
   "metadata": {},
   "outputs": [],
   "source": [
    "torch.cuda.set_device(0)"
   ]
  },
  {
   "cell_type": "code",
   "execution_count": 4,
   "metadata": {},
   "outputs": [],
   "source": [
    "df = pd.read_csv('../trainValid.csv')"
   ]
  },
  {
   "cell_type": "code",
   "execution_count": 5,
   "metadata": {},
   "outputs": [
    {
     "data": {
      "text/html": [
       "<div>\n",
       "<style scoped>\n",
       "    .dataframe tbody tr th:only-of-type {\n",
       "        vertical-align: middle;\n",
       "    }\n",
       "\n",
       "    .dataframe tbody tr th {\n",
       "        vertical-align: top;\n",
       "    }\n",
       "\n",
       "    .dataframe thead th {\n",
       "        text-align: right;\n",
       "    }\n",
       "</style>\n",
       "<table border=\"1\" class=\"dataframe\">\n",
       "  <thead>\n",
       "    <tr style=\"text-align: right;\">\n",
       "      <th></th>\n",
       "      <th>Unnamed: 0</th>\n",
       "      <th>nombre_foto</th>\n",
       "      <th>grado de DMAE</th>\n",
       "      <th>binary</th>\n",
       "      <th>set</th>\n",
       "    </tr>\n",
       "  </thead>\n",
       "  <tbody>\n",
       "    <tr>\n",
       "      <th>0</th>\n",
       "      <td>61504</td>\n",
       "      <td>anonymized_231059.jpg</td>\n",
       "      <td>normal</td>\n",
       "      <td>0</td>\n",
       "      <td>training</td>\n",
       "    </tr>\n",
       "    <tr>\n",
       "      <th>1</th>\n",
       "      <td>176989</td>\n",
       "      <td>anonymized_442122.jpg</td>\n",
       "      <td>normal</td>\n",
       "      <td>0</td>\n",
       "      <td>training</td>\n",
       "    </tr>\n",
       "    <tr>\n",
       "      <th>2</th>\n",
       "      <td>133399</td>\n",
       "      <td>anonymized_363034.jpg</td>\n",
       "      <td>normal</td>\n",
       "      <td>0</td>\n",
       "      <td>training</td>\n",
       "    </tr>\n",
       "    <tr>\n",
       "      <th>3</th>\n",
       "      <td>220150</td>\n",
       "      <td>anonymized_519072.jpg</td>\n",
       "      <td>normal</td>\n",
       "      <td>0</td>\n",
       "      <td>training</td>\n",
       "    </tr>\n",
       "    <tr>\n",
       "      <th>4</th>\n",
       "      <td>155853</td>\n",
       "      <td>anonymized_403989.jpg</td>\n",
       "      <td>normal</td>\n",
       "      <td>0</td>\n",
       "      <td>training</td>\n",
       "    </tr>\n",
       "    <tr>\n",
       "      <th>...</th>\n",
       "      <td>...</td>\n",
       "      <td>...</td>\n",
       "      <td>...</td>\n",
       "      <td>...</td>\n",
       "      <td>...</td>\n",
       "    </tr>\n",
       "    <tr>\n",
       "      <th>7797</th>\n",
       "      <td>224854</td>\n",
       "      <td>anonymized_528388.jpg</td>\n",
       "      <td>tardia</td>\n",
       "      <td>1</td>\n",
       "      <td>validation</td>\n",
       "    </tr>\n",
       "    <tr>\n",
       "      <th>7798</th>\n",
       "      <td>225492</td>\n",
       "      <td>anonymized_529721.jpg</td>\n",
       "      <td>intermedia</td>\n",
       "      <td>1</td>\n",
       "      <td>validation</td>\n",
       "    </tr>\n",
       "    <tr>\n",
       "      <th>7799</th>\n",
       "      <td>226322</td>\n",
       "      <td>anonymized_531350.jpg</td>\n",
       "      <td>precoz</td>\n",
       "      <td>1</td>\n",
       "      <td>validation</td>\n",
       "    </tr>\n",
       "    <tr>\n",
       "      <th>7800</th>\n",
       "      <td>227489</td>\n",
       "      <td>anonymized_533460.jpg</td>\n",
       "      <td>tardia</td>\n",
       "      <td>1</td>\n",
       "      <td>validation</td>\n",
       "    </tr>\n",
       "    <tr>\n",
       "      <th>7801</th>\n",
       "      <td>227547</td>\n",
       "      <td>anonymized_533591.jpg</td>\n",
       "      <td>intermedia</td>\n",
       "      <td>1</td>\n",
       "      <td>validation</td>\n",
       "    </tr>\n",
       "  </tbody>\n",
       "</table>\n",
       "<p>7802 rows × 5 columns</p>\n",
       "</div>"
      ],
      "text/plain": [
       "      Unnamed: 0            nombre_foto grado de DMAE  binary         set\n",
       "0          61504  anonymized_231059.jpg        normal       0    training\n",
       "1         176989  anonymized_442122.jpg        normal       0    training\n",
       "2         133399  anonymized_363034.jpg        normal       0    training\n",
       "3         220150  anonymized_519072.jpg        normal       0    training\n",
       "4         155853  anonymized_403989.jpg        normal       0    training\n",
       "...          ...                    ...           ...     ...         ...\n",
       "7797      224854  anonymized_528388.jpg        tardia       1  validation\n",
       "7798      225492  anonymized_529721.jpg    intermedia       1  validation\n",
       "7799      226322  anonymized_531350.jpg        precoz       1  validation\n",
       "7800      227489  anonymized_533460.jpg        tardia       1  validation\n",
       "7801      227547  anonymized_533591.jpg    intermedia       1  validation\n",
       "\n",
       "[7802 rows x 5 columns]"
      ]
     },
     "execution_count": 5,
     "metadata": {},
     "output_type": "execute_result"
    }
   ],
   "source": [
    "df"
   ]
  },
  {
   "cell_type": "code",
   "execution_count": 6,
   "metadata": {},
   "outputs": [],
   "source": [
    "def is_valid(path):\n",
    "    name = path[1]\n",
    "    return (df[df['nombre_foto']==name])['set'].values[0]=='validation'"
   ]
  },
  {
   "cell_type": "markdown",
   "metadata": {},
   "source": [
    "# 224"
   ]
  },
  {
   "cell_type": "code",
   "execution_count": 7,
   "metadata": {},
   "outputs": [],
   "source": [
    "from fastai.vision.all import *\n",
    "callbacks = [\n",
    "    ShowGraphCallback(),\n",
    "    EarlyStoppingCallback(patience=5),\n",
    "    SaveModelCallback(fname='twins_svt_base_b',monitor='f1_score'),\n",
    "    #ReduceLROnPlateau(patience=2)\n",
    "]"
   ]
  },
  {
   "cell_type": "code",
   "execution_count": 8,
   "metadata": {},
   "outputs": [],
   "source": [
    "db = DataBlock(blocks = (ImageBlock, CategoryBlock),\n",
    "                 splitter=FuncSplitter(is_valid),\n",
    "                 get_x = ColReader(1,pref=\"../amd/\"),\n",
    "                 get_y=ColReader(3),\n",
    "                 item_tfms = [Resize(384),AlbumentationsTransform(transform[0])], # CropPad(200,200)\n",
    "                 batch_tfms=[*aug_transforms(size=224, min_scale=0.75,do_flip=True,flip_vert=True,\n",
    "                      max_rotate=2.,max_zoom=1.1, max_warp=0.05,p_affine=0.9, p_lighting=0.8), \n",
    "                             Normalize.from_stats(*imagenet_stats)])"
   ]
  },
  {
   "cell_type": "code",
   "execution_count": 9,
   "metadata": {},
   "outputs": [],
   "source": [
    "dls = db.dataloaders(df.values,bs=32,num_workers=0)"
   ]
  },
  {
   "cell_type": "code",
   "execution_count": 10,
   "metadata": {},
   "outputs": [],
   "source": [
    "learn = Learner(dls,timm.create_model('visformer_small',num_classes=2,pretrained=True,drop_rate=0.5),\n",
    "                metrics=[accuracy,Precision(),Recall(),F1Score(),RocAucBinary()],\n",
    "                cbs=callbacks,\n",
    "                loss_func= FocalLossFlat()).to_fp16()"
   ]
  },
  {
   "cell_type": "code",
   "execution_count": 11,
   "metadata": {
    "scrolled": true
   },
   "outputs": [],
   "source": [
    "#learn.lr_find()"
   ]
  },
  {
   "cell_type": "code",
   "execution_count": null,
   "metadata": {},
   "outputs": [
    {
     "data": {
      "text/html": [
       "\n",
       "    <div>\n",
       "        <style>\n",
       "            /* Turns off some styling */\n",
       "            progress {\n",
       "                /* gets rid of default border in Firefox and Opera. */\n",
       "                border: none;\n",
       "                /* Needs to be in here for Safari polyfill so background images work as expected. */\n",
       "                background-size: auto;\n",
       "            }\n",
       "            .progress-bar-interrupted, .progress-bar-interrupted::-webkit-progress-bar {\n",
       "                background: #F44336;\n",
       "            }\n",
       "        </style>\n",
       "      <progress value='0' class='' max='1' style='width:300px; height:20px; vertical-align: middle;'></progress>\n",
       "      0.00% [0/1 00:00<00:00]\n",
       "    </div>\n",
       "    \n",
       "<table border=\"1\" class=\"dataframe\">\n",
       "  <thead>\n",
       "    <tr style=\"text-align: left;\">\n",
       "      <th>epoch</th>\n",
       "      <th>train_loss</th>\n",
       "      <th>valid_loss</th>\n",
       "      <th>accuracy</th>\n",
       "      <th>precision_score</th>\n",
       "      <th>recall_score</th>\n",
       "      <th>f1_score</th>\n",
       "      <th>roc_auc_score</th>\n",
       "      <th>time</th>\n",
       "    </tr>\n",
       "  </thead>\n",
       "  <tbody>\n",
       "  </tbody>\n",
       "</table><p>\n",
       "\n",
       "    <div>\n",
       "        <style>\n",
       "            /* Turns off some styling */\n",
       "            progress {\n",
       "                /* gets rid of default border in Firefox and Opera. */\n",
       "                border: none;\n",
       "                /* Needs to be in here for Safari polyfill so background images work as expected. */\n",
       "                background-size: auto;\n",
       "            }\n",
       "            .progress-bar-interrupted, .progress-bar-interrupted::-webkit-progress-bar {\n",
       "                background: #F44336;\n",
       "            }\n",
       "        </style>\n",
       "      <progress value='51' class='' max='219' style='width:300px; height:20px; vertical-align: middle;'></progress>\n",
       "      23.29% [51/219 00:25<01:24 0.1801]\n",
       "    </div>\n",
       "    "
      ],
      "text/plain": [
       "<IPython.core.display.HTML object>"
      ]
     },
     "metadata": {},
     "output_type": "display_data"
    }
   ],
   "source": [
    "learn.fine_tune(100,base_lr=2e-4)"
   ]
  },
  {
   "cell_type": "code",
   "execution_count": null,
   "metadata": {},
   "outputs": [],
   "source": [
    "dfTest = pd.read_csv('../testSample.csv')"
   ]
  },
  {
   "cell_type": "code",
   "execution_count": null,
   "metadata": {},
   "outputs": [],
   "source": [
    "def is_test(path):\n",
    "    name = path[1]\n",
    "    return (dfTest[dfTest['nombre_foto']==name])['set'].values[0]=='test'"
   ]
  },
  {
   "cell_type": "code",
   "execution_count": null,
   "metadata": {},
   "outputs": [],
   "source": [
    "dbTest = DataBlock(blocks = (ImageBlock, CategoryBlock),\n",
    "                 splitter=FuncSplitter(is_test),\n",
    "                 get_x = ColReader(1,pref=\"../amd/\"),\n",
    "                 get_y=ColReader(3),\n",
    "                 item_tfms = [Resize(384)], # CropPad(200,200)\n",
    "                 batch_tfms=[*aug_transforms(size=224, min_scale=0.75,do_flip=True,flip_vert=True,\n",
    "                      max_rotate=2.,max_zoom=1.1, max_warp=0.05,p_affine=0.9, p_lighting=0.8), \n",
    "                             Normalize.from_stats(*imagenet_stats)])"
   ]
  },
  {
   "cell_type": "code",
   "execution_count": null,
   "metadata": {},
   "outputs": [],
   "source": [
    "dlsTest = dbTest.dataloaders(dfTest.values,bs=32,num_workers=0)"
   ]
  },
  {
   "cell_type": "code",
   "execution_count": null,
   "metadata": {},
   "outputs": [],
   "source": [
    "learn.dls = dlsTest"
   ]
  },
  {
   "cell_type": "code",
   "execution_count": null,
   "metadata": {},
   "outputs": [],
   "source": [
    "learn.validate()"
   ]
  },
  {
   "cell_type": "code",
   "execution_count": null,
   "metadata": {},
   "outputs": [],
   "source": []
  }
 ],
 "metadata": {
  "kernelspec": {
   "display_name": "Python 3",
   "language": "python",
   "name": "python3"
  },
  "language_info": {
   "codemirror_mode": {
    "name": "ipython",
    "version": 3
   },
   "file_extension": ".py",
   "mimetype": "text/x-python",
   "name": "python",
   "nbconvert_exporter": "python",
   "pygments_lexer": "ipython3",
   "version": "3.6.7"
  }
 },
 "nbformat": 4,
 "nbformat_minor": 4
}
