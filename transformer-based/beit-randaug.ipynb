{
 "cells": [
  {
   "cell_type": "code",
   "execution_count": 2,
   "metadata": {},
   "outputs": [],
   "source": [
    "from fastai.vision.all import *\n",
    "import fastai\n",
    "import timm\n",
    "import torch\n",
    "\n",
    "import albumentations as A\n",
    "transform = A.load(\"/media/newhd/OPTRetina/DMAE/autoalbument-amd/outputs/2021-11-24/10-32-22/policy/latest.json\")\n",
    "\n",
    "class AlbumentationsTransform(Transform):\n",
    "    def __init__(self, aug): self.aug = aug\n",
    "    def encodes(self, img: PILImage):\n",
    "        aug_img = self.aug(image=np.array(img))['image']\n",
    "        return PILImage.create(aug_img)"
   ]
  },
  {
   "cell_type": "code",
   "execution_count": 3,
   "metadata": {},
   "outputs": [],
   "source": [
    "torch.cuda.set_device(2)"
   ]
  },
  {
   "cell_type": "code",
   "execution_count": 4,
   "metadata": {},
   "outputs": [],
   "source": [
    "df = pd.read_csv('../trainValid.csv')"
   ]
  },
  {
   "cell_type": "code",
   "execution_count": 5,
   "metadata": {},
   "outputs": [
    {
     "data": {
      "text/html": [
       "<div>\n",
       "<style scoped>\n",
       "    .dataframe tbody tr th:only-of-type {\n",
       "        vertical-align: middle;\n",
       "    }\n",
       "\n",
       "    .dataframe tbody tr th {\n",
       "        vertical-align: top;\n",
       "    }\n",
       "\n",
       "    .dataframe thead th {\n",
       "        text-align: right;\n",
       "    }\n",
       "</style>\n",
       "<table border=\"1\" class=\"dataframe\">\n",
       "  <thead>\n",
       "    <tr style=\"text-align: right;\">\n",
       "      <th></th>\n",
       "      <th>Unnamed: 0</th>\n",
       "      <th>nombre_foto</th>\n",
       "      <th>grado de DMAE</th>\n",
       "      <th>binary</th>\n",
       "      <th>set</th>\n",
       "    </tr>\n",
       "  </thead>\n",
       "  <tbody>\n",
       "    <tr>\n",
       "      <th>0</th>\n",
       "      <td>61504</td>\n",
       "      <td>anonymized_231059.jpg</td>\n",
       "      <td>normal</td>\n",
       "      <td>0</td>\n",
       "      <td>training</td>\n",
       "    </tr>\n",
       "    <tr>\n",
       "      <th>1</th>\n",
       "      <td>176989</td>\n",
       "      <td>anonymized_442122.jpg</td>\n",
       "      <td>normal</td>\n",
       "      <td>0</td>\n",
       "      <td>training</td>\n",
       "    </tr>\n",
       "    <tr>\n",
       "      <th>2</th>\n",
       "      <td>133399</td>\n",
       "      <td>anonymized_363034.jpg</td>\n",
       "      <td>normal</td>\n",
       "      <td>0</td>\n",
       "      <td>training</td>\n",
       "    </tr>\n",
       "    <tr>\n",
       "      <th>3</th>\n",
       "      <td>220150</td>\n",
       "      <td>anonymized_519072.jpg</td>\n",
       "      <td>normal</td>\n",
       "      <td>0</td>\n",
       "      <td>training</td>\n",
       "    </tr>\n",
       "    <tr>\n",
       "      <th>4</th>\n",
       "      <td>155853</td>\n",
       "      <td>anonymized_403989.jpg</td>\n",
       "      <td>normal</td>\n",
       "      <td>0</td>\n",
       "      <td>training</td>\n",
       "    </tr>\n",
       "    <tr>\n",
       "      <th>...</th>\n",
       "      <td>...</td>\n",
       "      <td>...</td>\n",
       "      <td>...</td>\n",
       "      <td>...</td>\n",
       "      <td>...</td>\n",
       "    </tr>\n",
       "    <tr>\n",
       "      <th>7797</th>\n",
       "      <td>224854</td>\n",
       "      <td>anonymized_528388.jpg</td>\n",
       "      <td>tardia</td>\n",
       "      <td>1</td>\n",
       "      <td>validation</td>\n",
       "    </tr>\n",
       "    <tr>\n",
       "      <th>7798</th>\n",
       "      <td>225492</td>\n",
       "      <td>anonymized_529721.jpg</td>\n",
       "      <td>intermedia</td>\n",
       "      <td>1</td>\n",
       "      <td>validation</td>\n",
       "    </tr>\n",
       "    <tr>\n",
       "      <th>7799</th>\n",
       "      <td>226322</td>\n",
       "      <td>anonymized_531350.jpg</td>\n",
       "      <td>precoz</td>\n",
       "      <td>1</td>\n",
       "      <td>validation</td>\n",
       "    </tr>\n",
       "    <tr>\n",
       "      <th>7800</th>\n",
       "      <td>227489</td>\n",
       "      <td>anonymized_533460.jpg</td>\n",
       "      <td>tardia</td>\n",
       "      <td>1</td>\n",
       "      <td>validation</td>\n",
       "    </tr>\n",
       "    <tr>\n",
       "      <th>7801</th>\n",
       "      <td>227547</td>\n",
       "      <td>anonymized_533591.jpg</td>\n",
       "      <td>intermedia</td>\n",
       "      <td>1</td>\n",
       "      <td>validation</td>\n",
       "    </tr>\n",
       "  </tbody>\n",
       "</table>\n",
       "<p>7802 rows × 5 columns</p>\n",
       "</div>"
      ],
      "text/plain": [
       "      Unnamed: 0            nombre_foto grado de DMAE  binary         set\n",
       "0          61504  anonymized_231059.jpg        normal       0    training\n",
       "1         176989  anonymized_442122.jpg        normal       0    training\n",
       "2         133399  anonymized_363034.jpg        normal       0    training\n",
       "3         220150  anonymized_519072.jpg        normal       0    training\n",
       "4         155853  anonymized_403989.jpg        normal       0    training\n",
       "...          ...                    ...           ...     ...         ...\n",
       "7797      224854  anonymized_528388.jpg        tardia       1  validation\n",
       "7798      225492  anonymized_529721.jpg    intermedia       1  validation\n",
       "7799      226322  anonymized_531350.jpg        precoz       1  validation\n",
       "7800      227489  anonymized_533460.jpg        tardia       1  validation\n",
       "7801      227547  anonymized_533591.jpg    intermedia       1  validation\n",
       "\n",
       "[7802 rows x 5 columns]"
      ]
     },
     "execution_count": 5,
     "metadata": {},
     "output_type": "execute_result"
    }
   ],
   "source": [
    "df"
   ]
  },
  {
   "cell_type": "code",
   "execution_count": 6,
   "metadata": {},
   "outputs": [],
   "source": [
    "def is_valid(path):\n",
    "    name = path[1]\n",
    "    return (df[df['nombre_foto']==name])['set'].values[0]=='validation'"
   ]
  },
  {
   "cell_type": "markdown",
   "metadata": {},
   "source": [
    "# 384"
   ]
  },
  {
   "cell_type": "code",
   "execution_count": 7,
   "metadata": {},
   "outputs": [],
   "source": [
    "from fastai.vision.all import *\n",
    "callbacks = [\n",
    "    ShowGraphCallback(),\n",
    "    EarlyStoppingCallback(patience=5),\n",
    "    SaveModelCallback(fname='beit_base_patch16_384_b',monitor='f1_score'),\n",
    "    #ReduceLROnPlateau(patience=2)\n",
    "]"
   ]
  },
  {
   "cell_type": "code",
   "execution_count": 8,
   "metadata": {},
   "outputs": [],
   "source": [
    "db = DataBlock(blocks = (ImageBlock, CategoryBlock),\n",
    "                 splitter=FuncSplitter(is_valid),\n",
    "                 get_x = ColReader(1,pref=\"../amd/\"),\n",
    "                 get_y=ColReader(3),\n",
    "                 item_tfms = [Resize(512),AlbumentationsTransform(transform[0])], # CropPad(200,200)\n",
    "                 batch_tfms=[*aug_transforms(size=384, min_scale=0.75,do_flip=True,flip_vert=True,\n",
    "                      max_rotate=2.,max_zoom=1.1, max_warp=0.05,p_affine=0.9, p_lighting=0.8), \n",
    "                             Normalize.from_stats(*imagenet_stats)])"
   ]
  },
  {
   "cell_type": "code",
   "execution_count": 9,
   "metadata": {},
   "outputs": [],
   "source": [
    "dls = db.dataloaders(df.values,bs=8,num_workers=0)"
   ]
  },
  {
   "cell_type": "code",
   "execution_count": 10,
   "metadata": {},
   "outputs": [],
   "source": [
    "learn = Learner(dls,timm.create_model('beit_base_patch16_384',num_classes=2,pretrained=True,drop_rate=0.5),\n",
    "                metrics=[accuracy,Precision(),Recall(),F1Score(),RocAucBinary()],\n",
    "                cbs=callbacks,\n",
    "                loss_func= FocalLossFlat()).to_fp16()"
   ]
  },
  {
   "cell_type": "code",
   "execution_count": 11,
   "metadata": {
    "scrolled": true
   },
   "outputs": [
    {
     "data": {
      "text/html": [],
      "text/plain": [
       "<IPython.core.display.HTML object>"
      ]
     },
     "metadata": {},
     "output_type": "display_data"
    },
    {
     "data": {
      "text/plain": [
       "SuggestedLRs(valley=8.31763736641733e-06)"
      ]
     },
     "execution_count": 11,
     "metadata": {},
     "output_type": "execute_result"
    },
    {
     "data": {
      "image/png": "[encoded data removed]",
      "text/plain": [
       "<Figure size 432x288 with 1 Axes>"
      ]
     },
     "metadata": {
      "needs_background": "light"
     },
     "output_type": "display_data"
    }
   ],
   "source": [
    "learn.lr_find()"
   ]
  },
  {
   "cell_type": "code",
   "execution_count": 12,
   "metadata": {},
   "outputs": [
    {
     "data": {
      "text/html": [
       "<table border=\"1\" class=\"dataframe\">\n",
       "  <thead>\n",
       "    <tr style=\"text-align: left;\">\n",
       "      <th>epoch</th>\n",
       "      <th>train_loss</th>\n",
       "      <th>valid_loss</th>\n",
       "      <th>accuracy</th>\n",
       "      <th>precision_score</th>\n",
       "      <th>recall_score</th>\n",
       "      <th>f1_score</th>\n",
       "      <th>roc_auc_score</th>\n",
       "      <th>time</th>\n",
       "    </tr>\n",
       "  </thead>\n",
       "  <tbody>\n",
       "    <tr>\n",
       "      <td>0</td>\n",
       "      <td>0.172229</td>\n",
       "      <td>0.171381</td>\n",
       "      <td>0.526923</td>\n",
       "      <td>0.515742</td>\n",
       "      <td>0.882051</td>\n",
       "      <td>0.650899</td>\n",
       "      <td>0.630273</td>\n",
       "      <td>05:38</td>\n",
       "    </tr>\n",
       "  </tbody>\n",
       "</table>"
      ],
      "text/plain": [
       "<IPython.core.display.HTML object>"
      ]
     },
     "metadata": {},
     "output_type": "display_data"
    },
    {
     "name": "stdout",
     "output_type": "stream",
     "text": [
      "Better model found at epoch 0 with f1_score value: 0.650898770104068.\n"
     ]
    },
    {
     "data": {
      "image/png": "[encoded data removed]",
      "text/plain": [
       "<Figure size 432x288 with 1 Axes>"
      ]
     },
     "metadata": {},
     "output_type": "display_data"
    },
    {
     "data": {
      "text/html": [
       "<table border=\"1\" class=\"dataframe\">\n",
       "  <thead>\n",
       "    <tr style=\"text-align: left;\">\n",
       "      <th>epoch</th>\n",
       "      <th>train_loss</th>\n",
       "      <th>valid_loss</th>\n",
       "      <th>accuracy</th>\n",
       "      <th>precision_score</th>\n",
       "      <th>recall_score</th>\n",
       "      <th>f1_score</th>\n",
       "      <th>roc_auc_score</th>\n",
       "      <th>time</th>\n",
       "    </tr>\n",
       "  </thead>\n",
       "  <tbody>\n",
       "    <tr>\n",
       "      <td>0</td>\n",
       "      <td>0.167893</td>\n",
       "      <td>0.176405</td>\n",
       "      <td>0.538462</td>\n",
       "      <td>0.521307</td>\n",
       "      <td>0.941026</td>\n",
       "      <td>0.670932</td>\n",
       "      <td>0.629523</td>\n",
       "      <td>05:41</td>\n",
       "    </tr>\n",
       "    <tr>\n",
       "      <td>1</td>\n",
       "      <td>0.166117</td>\n",
       "      <td>0.171871</td>\n",
       "      <td>0.561538</td>\n",
       "      <td>0.536145</td>\n",
       "      <td>0.912821</td>\n",
       "      <td>0.675522</td>\n",
       "      <td>0.653376</td>\n",
       "      <td>05:35</td>\n",
       "    </tr>\n",
       "    <tr>\n",
       "      <td>2</td>\n",
       "      <td>0.163901</td>\n",
       "      <td>0.171028</td>\n",
       "      <td>0.593590</td>\n",
       "      <td>0.571429</td>\n",
       "      <td>0.748718</td>\n",
       "      <td>0.648169</td>\n",
       "      <td>0.640588</td>\n",
       "      <td>05:36</td>\n",
       "    </tr>\n",
       "    <tr>\n",
       "      <td>3</td>\n",
       "      <td>0.161586</td>\n",
       "      <td>0.171963</td>\n",
       "      <td>0.584615</td>\n",
       "      <td>0.558304</td>\n",
       "      <td>0.810256</td>\n",
       "      <td>0.661088</td>\n",
       "      <td>0.659987</td>\n",
       "      <td>05:40</td>\n",
       "    </tr>\n",
       "    <tr>\n",
       "      <td>4</td>\n",
       "      <td>0.166018</td>\n",
       "      <td>0.169875</td>\n",
       "      <td>0.571795</td>\n",
       "      <td>0.543887</td>\n",
       "      <td>0.889744</td>\n",
       "      <td>0.675097</td>\n",
       "      <td>0.624287</td>\n",
       "      <td>05:40</td>\n",
       "    </tr>\n",
       "    <tr>\n",
       "      <td>5</td>\n",
       "      <td>0.161182</td>\n",
       "      <td>0.168051</td>\n",
       "      <td>0.588462</td>\n",
       "      <td>0.559585</td>\n",
       "      <td>0.830769</td>\n",
       "      <td>0.668731</td>\n",
       "      <td>0.625033</td>\n",
       "      <td>05:40</td>\n",
       "    </tr>\n",
       "    <tr>\n",
       "      <td>6</td>\n",
       "      <td>0.159261</td>\n",
       "      <td>0.175780</td>\n",
       "      <td>0.555128</td>\n",
       "      <td>0.531479</td>\n",
       "      <td>0.930769</td>\n",
       "      <td>0.676608</td>\n",
       "      <td>0.652110</td>\n",
       "      <td>05:40</td>\n",
       "    </tr>\n",
       "    <tr>\n",
       "      <td>7</td>\n",
       "      <td>0.163364</td>\n",
       "      <td>0.159916</td>\n",
       "      <td>0.619231</td>\n",
       "      <td>0.584392</td>\n",
       "      <td>0.825641</td>\n",
       "      <td>0.684378</td>\n",
       "      <td>0.682613</td>\n",
       "      <td>05:41</td>\n",
       "    </tr>\n",
       "    <tr>\n",
       "      <td>8</td>\n",
       "      <td>0.163200</td>\n",
       "      <td>0.168618</td>\n",
       "      <td>0.591026</td>\n",
       "      <td>0.554531</td>\n",
       "      <td>0.925641</td>\n",
       "      <td>0.693564</td>\n",
       "      <td>0.677479</td>\n",
       "      <td>05:40</td>\n",
       "    </tr>\n",
       "    <tr>\n",
       "      <td>9</td>\n",
       "      <td>0.160920</td>\n",
       "      <td>0.164650</td>\n",
       "      <td>0.619231</td>\n",
       "      <td>0.586916</td>\n",
       "      <td>0.805128</td>\n",
       "      <td>0.678919</td>\n",
       "      <td>0.678570</td>\n",
       "      <td>05:39</td>\n",
       "    </tr>\n",
       "    <tr>\n",
       "      <td>10</td>\n",
       "      <td>0.160064</td>\n",
       "      <td>0.165693</td>\n",
       "      <td>0.617949</td>\n",
       "      <td>0.571875</td>\n",
       "      <td>0.938462</td>\n",
       "      <td>0.710680</td>\n",
       "      <td>0.695842</td>\n",
       "      <td>05:41</td>\n",
       "    </tr>\n",
       "    <tr>\n",
       "      <td>11</td>\n",
       "      <td>0.157910</td>\n",
       "      <td>0.165889</td>\n",
       "      <td>0.605128</td>\n",
       "      <td>0.578846</td>\n",
       "      <td>0.771795</td>\n",
       "      <td>0.661538</td>\n",
       "      <td>0.681476</td>\n",
       "      <td>05:39</td>\n",
       "    </tr>\n",
       "    <tr>\n",
       "      <td>12</td>\n",
       "      <td>0.159679</td>\n",
       "      <td>0.162816</td>\n",
       "      <td>0.623077</td>\n",
       "      <td>0.584806</td>\n",
       "      <td>0.848718</td>\n",
       "      <td>0.692469</td>\n",
       "      <td>0.687206</td>\n",
       "      <td>05:37</td>\n",
       "    </tr>\n",
       "  </tbody>\n",
       "</table>"
      ],
      "text/plain": [
       "<IPython.core.display.HTML object>"
      ]
     },
     "metadata": {},
     "output_type": "display_data"
    },
    {
     "name": "stdout",
     "output_type": "stream",
     "text": [
      "Better model found at epoch 0 with f1_score value: 0.6709323583180988.\n"
     ]
    },
    {
     "data": {
      "image/png": "[encoded data removed]",
      "text/plain": [
       "<Figure size 432x288 with 1 Axes>"
      ]
     },
     "metadata": {},
     "output_type": "display_data"
    },
    {
     "name": "stdout",
     "output_type": "stream",
     "text": [
      "Better model found at epoch 1 with f1_score value: 0.6755218216318786.\n",
      "Better model found at epoch 6 with f1_score value: 0.6766076421248836.\n",
      "Better model found at epoch 7 with f1_score value: 0.6843783209351755.\n",
      "Better model found at epoch 8 with f1_score value: 0.6935638808837656.\n",
      "Better model found at epoch 10 with f1_score value: 0.7106796116504853.\n",
      "No improvement since epoch 7: early stopping\n"
     ]
    }
   ],
   "source": [
    "learn.fine_tune(100,base_lr=3e-4)"
   ]
  },
  {
   "cell_type": "code",
   "execution_count": 13,
   "metadata": {},
   "outputs": [],
   "source": [
    "dfTest = pd.read_csv('../testSample.csv')"
   ]
  },
  {
   "cell_type": "code",
   "execution_count": 14,
   "metadata": {},
   "outputs": [],
   "source": [
    "def is_test(path):\n",
    "    name = path[1]\n",
    "    return (dfTest[dfTest['nombre_foto']==name])['set'].values[0]=='test'"
   ]
  },
  {
   "cell_type": "code",
   "execution_count": 15,
   "metadata": {},
   "outputs": [],
   "source": [
    "dbTest = DataBlock(blocks = (ImageBlock, CategoryBlock),\n",
    "                 splitter=FuncSplitter(is_test),\n",
    "                 get_x = ColReader(1,pref=\"../amd/\"),\n",
    "                 get_y=ColReader(3),\n",
    "                 item_tfms = [Resize(512)], # CropPad(200,200)\n",
    "                 batch_tfms=[*aug_transforms(size=384, min_scale=0.75,do_flip=True,flip_vert=True,\n",
    "                      max_rotate=2.,max_zoom=1.1, max_warp=0.05,p_affine=0.9, p_lighting=0.8), \n",
    "                             Normalize.from_stats(*imagenet_stats)])"
   ]
  },
  {
   "cell_type": "code",
   "execution_count": 16,
   "metadata": {},
   "outputs": [],
   "source": [
    "dlsTest = dbTest.dataloaders(dfTest.values,bs=64,num_workers=0)"
   ]
  },
  {
   "cell_type": "code",
   "execution_count": 17,
   "metadata": {},
   "outputs": [],
   "source": [
    "learn.dls = dlsTest"
   ]
  },
  {
   "cell_type": "code",
   "execution_count": 18,
   "metadata": {},
   "outputs": [
    {
     "data": {
      "text/html": [],
      "text/plain": [
       "<IPython.core.display.HTML object>"
      ]
     },
     "metadata": {},
     "output_type": "display_data"
    },
    {
     "name": "stdout",
     "output_type": "stream",
     "text": [
      "Better model found at epoch 0 with f1_score value: 0.7268481262327416.\n"
     ]
    },
    {
     "data": {
      "text/plain": [
       "(#6) [0.16098664700984955,0.6317948698997498,0.5880740233036327,0.88,0.7050123253903041,0.7268481262327416]"
      ]
     },
     "execution_count": 18,
     "metadata": {},
     "output_type": "execute_result"
    }
   ],
   "source": [
    "learn.validate()"
   ]
  }
 ],
 "metadata": {
  "kernelspec": {
   "display_name": "Python 3",
   "language": "python",
   "name": "python3"
  },
  "language_info": {
   "codemirror_mode": {
    "name": "ipython",
    "version": 3
   },
   "file_extension": ".py",
   "mimetype": "text/x-python",
   "name": "python",
   "nbconvert_exporter": "python",
   "pygments_lexer": "ipython3",
   "version": "3.6.7"
  }
 },
 "nbformat": 4,
 "nbformat_minor": 4
}
