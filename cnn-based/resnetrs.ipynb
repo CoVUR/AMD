{
 "cells": [
  {
   "cell_type": "code",
   "execution_count": 1,
   "metadata": {},
   "outputs": [],
   "source": [
    "from fastai.vision.all import *\n",
    "import fastai\n",
    "import timm\n",
    "import torch"
   ]
  },
  {
   "cell_type": "code",
   "execution_count": null,
   "metadata": {},
   "outputs": [],
   "source": [
    "torch.cuda.set_device(2)"
   ]
  },
  {
   "cell_type": "code",
   "execution_count": 2,
   "metadata": {},
   "outputs": [],
   "source": [
    "df = pd.read_csv('../trainValid.csv')"
   ]
  },
  {
   "cell_type": "code",
   "execution_count": 3,
   "metadata": {},
   "outputs": [
    {
     "data": {
      "text/html": [
       "<div>\n",
       "<style scoped>\n",
       "    .dataframe tbody tr th:only-of-type {\n",
       "        vertical-align: middle;\n",
       "    }\n",
       "\n",
       "    .dataframe tbody tr th {\n",
       "        vertical-align: top;\n",
       "    }\n",
       "\n",
       "    .dataframe thead th {\n",
       "        text-align: right;\n",
       "    }\n",
       "</style>\n",
       "<table border=\"1\" class=\"dataframe\">\n",
       "  <thead>\n",
       "    <tr style=\"text-align: right;\">\n",
       "      <th></th>\n",
       "      <th>Unnamed: 0</th>\n",
       "      <th>nombre_foto</th>\n",
       "      <th>grado de DMAE</th>\n",
       "      <th>binary</th>\n",
       "      <th>set</th>\n",
       "    </tr>\n",
       "  </thead>\n",
       "  <tbody>\n",
       "    <tr>\n",
       "      <th>0</th>\n",
       "      <td>61504</td>\n",
       "      <td>anonymized_231059.jpg</td>\n",
       "      <td>normal</td>\n",
       "      <td>0</td>\n",
       "      <td>training</td>\n",
       "    </tr>\n",
       "    <tr>\n",
       "      <th>1</th>\n",
       "      <td>176989</td>\n",
       "      <td>anonymized_442122.jpg</td>\n",
       "      <td>normal</td>\n",
       "      <td>0</td>\n",
       "      <td>training</td>\n",
       "    </tr>\n",
       "    <tr>\n",
       "      <th>2</th>\n",
       "      <td>133399</td>\n",
       "      <td>anonymized_363034.jpg</td>\n",
       "      <td>normal</td>\n",
       "      <td>0</td>\n",
       "      <td>training</td>\n",
       "    </tr>\n",
       "    <tr>\n",
       "      <th>3</th>\n",
       "      <td>220150</td>\n",
       "      <td>anonymized_519072.jpg</td>\n",
       "      <td>normal</td>\n",
       "      <td>0</td>\n",
       "      <td>training</td>\n",
       "    </tr>\n",
       "    <tr>\n",
       "      <th>4</th>\n",
       "      <td>155853</td>\n",
       "      <td>anonymized_403989.jpg</td>\n",
       "      <td>normal</td>\n",
       "      <td>0</td>\n",
       "      <td>training</td>\n",
       "    </tr>\n",
       "    <tr>\n",
       "      <th>...</th>\n",
       "      <td>...</td>\n",
       "      <td>...</td>\n",
       "      <td>...</td>\n",
       "      <td>...</td>\n",
       "      <td>...</td>\n",
       "    </tr>\n",
       "    <tr>\n",
       "      <th>7797</th>\n",
       "      <td>224854</td>\n",
       "      <td>anonymized_528388.jpg</td>\n",
       "      <td>tardia</td>\n",
       "      <td>1</td>\n",
       "      <td>validation</td>\n",
       "    </tr>\n",
       "    <tr>\n",
       "      <th>7798</th>\n",
       "      <td>225492</td>\n",
       "      <td>anonymized_529721.jpg</td>\n",
       "      <td>intermedia</td>\n",
       "      <td>1</td>\n",
       "      <td>validation</td>\n",
       "    </tr>\n",
       "    <tr>\n",
       "      <th>7799</th>\n",
       "      <td>226322</td>\n",
       "      <td>anonymized_531350.jpg</td>\n",
       "      <td>precoz</td>\n",
       "      <td>1</td>\n",
       "      <td>validation</td>\n",
       "    </tr>\n",
       "    <tr>\n",
       "      <th>7800</th>\n",
       "      <td>227489</td>\n",
       "      <td>anonymized_533460.jpg</td>\n",
       "      <td>tardia</td>\n",
       "      <td>1</td>\n",
       "      <td>validation</td>\n",
       "    </tr>\n",
       "    <tr>\n",
       "      <th>7801</th>\n",
       "      <td>227547</td>\n",
       "      <td>anonymized_533591.jpg</td>\n",
       "      <td>intermedia</td>\n",
       "      <td>1</td>\n",
       "      <td>validation</td>\n",
       "    </tr>\n",
       "  </tbody>\n",
       "</table>\n",
       "<p>7802 rows × 5 columns</p>\n",
       "</div>"
      ],
      "text/plain": [
       "      Unnamed: 0            nombre_foto grado de DMAE  binary         set\n",
       "0          61504  anonymized_231059.jpg        normal       0    training\n",
       "1         176989  anonymized_442122.jpg        normal       0    training\n",
       "2         133399  anonymized_363034.jpg        normal       0    training\n",
       "3         220150  anonymized_519072.jpg        normal       0    training\n",
       "4         155853  anonymized_403989.jpg        normal       0    training\n",
       "...          ...                    ...           ...     ...         ...\n",
       "7797      224854  anonymized_528388.jpg        tardia       1  validation\n",
       "7798      225492  anonymized_529721.jpg    intermedia       1  validation\n",
       "7799      226322  anonymized_531350.jpg        precoz       1  validation\n",
       "7800      227489  anonymized_533460.jpg        tardia       1  validation\n",
       "7801      227547  anonymized_533591.jpg    intermedia       1  validation\n",
       "\n",
       "[7802 rows x 5 columns]"
      ]
     },
     "execution_count": 3,
     "metadata": {},
     "output_type": "execute_result"
    }
   ],
   "source": [
    "df"
   ]
  },
  {
   "cell_type": "code",
   "execution_count": 4,
   "metadata": {},
   "outputs": [],
   "source": [
    "def is_valid(path):\n",
    "    name = path[1]\n",
    "    return (df[df['nombre_foto']==name])['set'].values[0]=='validation'"
   ]
  },
  {
   "cell_type": "markdown",
   "metadata": {},
   "source": [
    "# 224"
   ]
  },
  {
   "cell_type": "code",
   "execution_count": 5,
   "metadata": {},
   "outputs": [],
   "source": [
    "from fastai.vision.all import *\n",
    "callbacks = [\n",
    "    ShowGraphCallback(),\n",
    "    EarlyStoppingCallback(patience=5),\n",
    "    SaveModelCallback(fname='resnetrs224',monitor='f1_score'),\n",
    "    #ReduceLROnPlateau(patience=2)\n",
    "]"
   ]
  },
  {
   "cell_type": "code",
   "execution_count": 6,
   "metadata": {},
   "outputs": [],
   "source": [
    "db = DataBlock(blocks = (ImageBlock, CategoryBlock),\n",
    "                 splitter=FuncSplitter(is_valid),\n",
    "                 get_x = ColReader(1,pref=\"../amd/\"),\n",
    "                 get_y=ColReader(3),\n",
    "                 item_tfms = [Resize(384)], # CropPad(200,200)\n",
    "                 batch_tfms=[*aug_transforms(size=224, min_scale=0.75,do_flip=True,flip_vert=True,\n",
    "                      max_rotate=2.,max_zoom=1.1, max_warp=0.05,p_affine=0.9, p_lighting=0.8), \n",
    "                             Normalize.from_stats(*imagenet_stats)])"
   ]
  },
  {
   "cell_type": "code",
   "execution_count": 7,
   "metadata": {},
   "outputs": [],
   "source": [
    "dls = db.dataloaders(df.values,bs=128,num_workers=0)"
   ]
  },
  {
   "cell_type": "code",
   "execution_count": 8,
   "metadata": {},
   "outputs": [],
   "source": [
    "learn = Learner(dls,timm.create_model('resnetrs50',num_classes=2,pretrained=True,drop_rate=0.5),\n",
    "                metrics=[accuracy,Precision(),Recall(),F1Score(),RocAucBinary()],\n",
    "                cbs=callbacks,\n",
    "                loss_func= FocalLossFlat()).to_fp16()"
   ]
  },
  {
   "cell_type": "code",
   "execution_count": 9,
   "metadata": {
    "scrolled": true
   },
   "outputs": [],
   "source": [
    "#learn.lr_find()"
   ]
  },
  {
   "cell_type": "code",
   "execution_count": 10,
   "metadata": {},
   "outputs": [
    {
     "data": {
      "text/html": [
       "<table border=\"1\" class=\"dataframe\">\n",
       "  <thead>\n",
       "    <tr style=\"text-align: left;\">\n",
       "      <th>epoch</th>\n",
       "      <th>train_loss</th>\n",
       "      <th>valid_loss</th>\n",
       "      <th>accuracy</th>\n",
       "      <th>precision_score</th>\n",
       "      <th>recall_score</th>\n",
       "      <th>f1_score</th>\n",
       "      <th>roc_auc_score</th>\n",
       "      <th>time</th>\n",
       "    </tr>\n",
       "  </thead>\n",
       "  <tbody>\n",
       "    <tr>\n",
       "      <td>0</td>\n",
       "      <td>0.101906</td>\n",
       "      <td>0.115896</td>\n",
       "      <td>0.879487</td>\n",
       "      <td>0.913408</td>\n",
       "      <td>0.838462</td>\n",
       "      <td>0.874332</td>\n",
       "      <td>0.947002</td>\n",
       "      <td>01:13</td>\n",
       "    </tr>\n",
       "  </tbody>\n",
       "</table>"
      ],
      "text/plain": [
       "<IPython.core.display.HTML object>"
      ]
     },
     "metadata": {},
     "output_type": "display_data"
    },
    {
     "name": "stdout",
     "output_type": "stream",
     "text": [
      "Better model found at epoch 0 with f1_score value: 0.8743315508021391.\n"
     ]
    },
    {
     "data": {
      "image/png": "[encoded data removed]",
      "text/plain": [
       "<Figure size 432x288 with 1 Axes>"
      ]
     },
     "metadata": {},
     "output_type": "display_data"
    },
    {
     "data": {
      "text/html": [
       "<table border=\"1\" class=\"dataframe\">\n",
       "  <thead>\n",
       "    <tr style=\"text-align: left;\">\n",
       "      <th>epoch</th>\n",
       "      <th>train_loss</th>\n",
       "      <th>valid_loss</th>\n",
       "      <th>accuracy</th>\n",
       "      <th>precision_score</th>\n",
       "      <th>recall_score</th>\n",
       "      <th>f1_score</th>\n",
       "      <th>roc_auc_score</th>\n",
       "      <th>time</th>\n",
       "    </tr>\n",
       "  </thead>\n",
       "  <tbody>\n",
       "    <tr>\n",
       "      <td>0</td>\n",
       "      <td>0.074802</td>\n",
       "      <td>0.072733</td>\n",
       "      <td>0.885897</td>\n",
       "      <td>0.941349</td>\n",
       "      <td>0.823077</td>\n",
       "      <td>0.878249</td>\n",
       "      <td>0.963498</td>\n",
       "      <td>01:09</td>\n",
       "    </tr>\n",
       "    <tr>\n",
       "      <td>1</td>\n",
       "      <td>0.068322</td>\n",
       "      <td>0.064578</td>\n",
       "      <td>0.905128</td>\n",
       "      <td>0.941341</td>\n",
       "      <td>0.864103</td>\n",
       "      <td>0.901070</td>\n",
       "      <td>0.966729</td>\n",
       "      <td>01:10</td>\n",
       "    </tr>\n",
       "    <tr>\n",
       "      <td>2</td>\n",
       "      <td>0.061443</td>\n",
       "      <td>0.076336</td>\n",
       "      <td>0.900000</td>\n",
       "      <td>0.926230</td>\n",
       "      <td>0.869231</td>\n",
       "      <td>0.896825</td>\n",
       "      <td>0.961762</td>\n",
       "      <td>01:11</td>\n",
       "    </tr>\n",
       "    <tr>\n",
       "      <td>3</td>\n",
       "      <td>0.058018</td>\n",
       "      <td>0.071820</td>\n",
       "      <td>0.906410</td>\n",
       "      <td>0.927224</td>\n",
       "      <td>0.882051</td>\n",
       "      <td>0.904074</td>\n",
       "      <td>0.961154</td>\n",
       "      <td>01:10</td>\n",
       "    </tr>\n",
       "    <tr>\n",
       "      <td>4</td>\n",
       "      <td>0.053636</td>\n",
       "      <td>0.093101</td>\n",
       "      <td>0.888462</td>\n",
       "      <td>0.939130</td>\n",
       "      <td>0.830769</td>\n",
       "      <td>0.881633</td>\n",
       "      <td>0.959773</td>\n",
       "      <td>01:11</td>\n",
       "    </tr>\n",
       "    <tr>\n",
       "      <td>5</td>\n",
       "      <td>0.050348</td>\n",
       "      <td>0.073120</td>\n",
       "      <td>0.911538</td>\n",
       "      <td>0.930295</td>\n",
       "      <td>0.889744</td>\n",
       "      <td>0.909567</td>\n",
       "      <td>0.963202</td>\n",
       "      <td>01:10</td>\n",
       "    </tr>\n",
       "    <tr>\n",
       "      <td>6</td>\n",
       "      <td>0.050071</td>\n",
       "      <td>0.090181</td>\n",
       "      <td>0.901282</td>\n",
       "      <td>0.875300</td>\n",
       "      <td>0.935897</td>\n",
       "      <td>0.904585</td>\n",
       "      <td>0.964316</td>\n",
       "      <td>01:10</td>\n",
       "    </tr>\n",
       "  </tbody>\n",
       "</table>"
      ],
      "text/plain": [
       "<IPython.core.display.HTML object>"
      ]
     },
     "metadata": {},
     "output_type": "display_data"
    },
    {
     "name": "stdout",
     "output_type": "stream",
     "text": [
      "Better model found at epoch 0 with f1_score value: 0.8782489740082079.\n"
     ]
    },
    {
     "data": {
      "image/png": "[encoded data removed]",
      "text/plain": [
       "<Figure size 432x288 with 1 Axes>"
      ]
     },
     "metadata": {},
     "output_type": "display_data"
    },
    {
     "name": "stdout",
     "output_type": "stream",
     "text": [
      "Better model found at epoch 1 with f1_score value: 0.9010695187165777.\n",
      "Better model found at epoch 3 with f1_score value: 0.9040735873850196.\n",
      "Better model found at epoch 5 with f1_score value: 0.90956749672346.\n",
      "No improvement since epoch 1: early stopping\n"
     ]
    }
   ],
   "source": [
    "learn.fine_tune(100,base_lr=3e-3)"
   ]
  },
  {
   "cell_type": "code",
   "execution_count": 11,
   "metadata": {},
   "outputs": [],
   "source": [
    "dfTest = pd.read_csv('../testSample.csv')"
   ]
  },
  {
   "cell_type": "code",
   "execution_count": 12,
   "metadata": {},
   "outputs": [],
   "source": [
    "def is_test(path):\n",
    "    name = path[1]\n",
    "    return (dfTest[dfTest['nombre_foto']==name])['set'].values[0]=='test'"
   ]
  },
  {
   "cell_type": "code",
   "execution_count": 13,
   "metadata": {},
   "outputs": [],
   "source": [
    "dbTest = DataBlock(blocks = (ImageBlock, CategoryBlock),\n",
    "                 splitter=FuncSplitter(is_test),\n",
    "                 get_x = ColReader(1,pref=\"../amd/\"),\n",
    "                 get_y=ColReader(3),\n",
    "                 item_tfms = [Resize(384)], # CropPad(200,200)\n",
    "                 batch_tfms=[*aug_transforms(size=224, min_scale=0.75,do_flip=True,flip_vert=True,\n",
    "                      max_rotate=2.,max_zoom=1.1, max_warp=0.05,p_affine=0.9, p_lighting=0.8), \n",
    "                             Normalize.from_stats(*imagenet_stats)])"
   ]
  },
  {
   "cell_type": "code",
   "execution_count": 14,
   "metadata": {},
   "outputs": [],
   "source": [
    "dlsTest = dbTest.dataloaders(dfTest.values,bs=128,num_workers=0)"
   ]
  },
  {
   "cell_type": "code",
   "execution_count": 15,
   "metadata": {},
   "outputs": [],
   "source": [
    "learn.dls = dlsTest"
   ]
  },
  {
   "cell_type": "code",
   "execution_count": 16,
   "metadata": {},
   "outputs": [
    {
     "data": {
      "text/html": [],
      "text/plain": [
       "<IPython.core.display.HTML object>"
      ]
     },
     "metadata": {},
     "output_type": "display_data"
    },
    {
     "name": "stdout",
     "output_type": "stream",
     "text": [
      "Better model found at epoch 0 with f1_score value: 0.9631258382642998.\n"
     ]
    },
    {
     "data": {
      "text/plain": [
       "(#6) [0.07377643883228302,0.9005128145217896,0.9239956568946797,0.8728205128205129,0.8976793248945147,0.9631258382642998]"
      ]
     },
     "execution_count": 16,
     "metadata": {},
     "output_type": "execute_result"
    }
   ],
   "source": [
    "learn.validate()"
   ]
  },
  {
   "cell_type": "markdown",
   "metadata": {},
   "source": [
    "# 384"
   ]
  },
  {
   "cell_type": "code",
   "execution_count": 5,
   "metadata": {},
   "outputs": [],
   "source": [
    "import torch\n",
    "torch.cuda.set_device(3)\n",
    "callbacks = [\n",
    "    ShowGraphCallback(),\n",
    "    EarlyStoppingCallback(patience=10),\n",
    "    SaveModelCallback(fname='resnetrs384',monitor='f1_score'),\n",
    "    #ReduceLROnPlateau(patience=2)\n",
    "]"
   ]
  },
  {
   "cell_type": "code",
   "execution_count": 6,
   "metadata": {},
   "outputs": [],
   "source": [
    "db = DataBlock(blocks = (ImageBlock, CategoryBlock),\n",
    "                 splitter=FuncSplitter(is_valid),\n",
    "                 get_x = ColReader(1,pref=\"../amd/\"),\n",
    "                 get_y=ColReader(3),\n",
    "                 item_tfms = [Resize(512)], # CropPad(200,200)\n",
    "                 batch_tfms=[*aug_transforms(size=384, min_scale=0.75,do_flip=True,flip_vert=True,\n",
    "                      max_rotate=2.,max_zoom=1.1, max_warp=0.05,p_affine=0.9, p_lighting=0.8), \n",
    "                             Normalize.from_stats(*imagenet_stats)])"
   ]
  },
  {
   "cell_type": "code",
   "execution_count": 7,
   "metadata": {},
   "outputs": [],
   "source": [
    "dls = db.dataloaders(df.values,bs=32,num_workers=0)"
   ]
  },
  {
   "cell_type": "code",
   "execution_count": 8,
   "metadata": {},
   "outputs": [],
   "source": [
    "learn = Learner(dls,timm.create_model('resnetrs50',num_classes=2,pretrained=True,drop_rate=0.5),\n",
    "                metrics=[accuracy,Precision(),Recall(),F1Score(),RocAucBinary()],\n",
    "                cbs=callbacks,\n",
    "                loss_func= FocalLossFlat()).to_fp16()"
   ]
  },
  {
   "cell_type": "code",
   "execution_count": 9,
   "metadata": {},
   "outputs": [
    {
     "name": "stderr",
     "output_type": "stream",
     "text": [
      "/home/jonathan/.virtualenvs/segmentation/lib/python3.6/site-packages/fastai/learner.py:56: UserWarning: Saved filed doesn't contain an optimizer state.\n",
      "  elif with_opt: warn(\"Saved filed doesn't contain an optimizer state.\")\n"
     ]
    },
    {
     "data": {
      "text/plain": [
       "<fastai.learner.Learner at 0x7f764c43aac8>"
      ]
     },
     "execution_count": 9,
     "metadata": {},
     "output_type": "execute_result"
    }
   ],
   "source": [
    "learn.load('resnetrs224')"
   ]
  },
  {
   "cell_type": "code",
   "execution_count": 10,
   "metadata": {},
   "outputs": [
    {
     "data": {
      "text/html": [],
      "text/plain": [
       "<IPython.core.display.HTML object>"
      ]
     },
     "metadata": {},
     "output_type": "display_data"
    },
    {
     "data": {
      "text/plain": [
       "SuggestedLRs(valley=6.30957365501672e-05)"
      ]
     },
     "execution_count": 10,
     "metadata": {},
     "output_type": "execute_result"
    },
    {
     "data": {
      "image/png": "[encoded data removed]",
      "text/plain": [
       "<Figure size 432x288 with 1 Axes>"
      ]
     },
     "metadata": {
      "needs_background": "light"
     },
     "output_type": "display_data"
    }
   ],
   "source": [
    "learn.lr_find()"
   ]
  },
  {
   "cell_type": "code",
   "execution_count": 10,
   "metadata": {},
   "outputs": [
    {
     "data": {
      "text/html": [
       "<table border=\"1\" class=\"dataframe\">\n",
       "  <thead>\n",
       "    <tr style=\"text-align: left;\">\n",
       "      <th>epoch</th>\n",
       "      <th>train_loss</th>\n",
       "      <th>valid_loss</th>\n",
       "      <th>accuracy</th>\n",
       "      <th>precision_score</th>\n",
       "      <th>recall_score</th>\n",
       "      <th>f1_score</th>\n",
       "      <th>roc_auc_score</th>\n",
       "      <th>time</th>\n",
       "    </tr>\n",
       "  </thead>\n",
       "  <tbody>\n",
       "    <tr>\n",
       "      <td>0</td>\n",
       "      <td>0.139660</td>\n",
       "      <td>0.161165</td>\n",
       "      <td>0.678205</td>\n",
       "      <td>0.931677</td>\n",
       "      <td>0.384615</td>\n",
       "      <td>0.544465</td>\n",
       "      <td>0.830759</td>\n",
       "      <td>01:52</td>\n",
       "    </tr>\n",
       "  </tbody>\n",
       "</table>"
      ],
      "text/plain": [
       "<IPython.core.display.HTML object>"
      ]
     },
     "metadata": {},
     "output_type": "display_data"
    },
    {
     "name": "stdout",
     "output_type": "stream",
     "text": [
      "Better model found at epoch 0 with f1_score value: 0.544464609800363.\n"
     ]
    },
    {
     "data": {
      "image/png": "[encoded data removed]",
      "text/plain": [
       "<Figure size 432x288 with 1 Axes>"
      ]
     },
     "metadata": {},
     "output_type": "display_data"
    },
    {
     "data": {
      "text/html": [
       "<table border=\"1\" class=\"dataframe\">\n",
       "  <thead>\n",
       "    <tr style=\"text-align: left;\">\n",
       "      <th>epoch</th>\n",
       "      <th>train_loss</th>\n",
       "      <th>valid_loss</th>\n",
       "      <th>accuracy</th>\n",
       "      <th>precision_score</th>\n",
       "      <th>recall_score</th>\n",
       "      <th>f1_score</th>\n",
       "      <th>roc_auc_score</th>\n",
       "      <th>time</th>\n",
       "    </tr>\n",
       "  </thead>\n",
       "  <tbody>\n",
       "    <tr>\n",
       "      <td>0</td>\n",
       "      <td>0.098049</td>\n",
       "      <td>0.096305</td>\n",
       "      <td>0.858974</td>\n",
       "      <td>0.951613</td>\n",
       "      <td>0.756410</td>\n",
       "      <td>0.842857</td>\n",
       "      <td>0.943406</td>\n",
       "      <td>01:49</td>\n",
       "    </tr>\n",
       "    <tr>\n",
       "      <td>1</td>\n",
       "      <td>0.090062</td>\n",
       "      <td>0.079051</td>\n",
       "      <td>0.879487</td>\n",
       "      <td>0.945783</td>\n",
       "      <td>0.805128</td>\n",
       "      <td>0.869806</td>\n",
       "      <td>0.952890</td>\n",
       "      <td>01:48</td>\n",
       "    </tr>\n",
       "    <tr>\n",
       "      <td>2</td>\n",
       "      <td>0.075953</td>\n",
       "      <td>0.069770</td>\n",
       "      <td>0.892308</td>\n",
       "      <td>0.922652</td>\n",
       "      <td>0.856410</td>\n",
       "      <td>0.888298</td>\n",
       "      <td>0.958514</td>\n",
       "      <td>01:48</td>\n",
       "    </tr>\n",
       "    <tr>\n",
       "      <td>3</td>\n",
       "      <td>0.077804</td>\n",
       "      <td>0.071945</td>\n",
       "      <td>0.880769</td>\n",
       "      <td>0.898123</td>\n",
       "      <td>0.858974</td>\n",
       "      <td>0.878113</td>\n",
       "      <td>0.955884</td>\n",
       "      <td>01:48</td>\n",
       "    </tr>\n",
       "    <tr>\n",
       "      <td>4</td>\n",
       "      <td>0.078118</td>\n",
       "      <td>0.074196</td>\n",
       "      <td>0.885897</td>\n",
       "      <td>0.873449</td>\n",
       "      <td>0.902564</td>\n",
       "      <td>0.887768</td>\n",
       "      <td>0.953849</td>\n",
       "      <td>01:49</td>\n",
       "    </tr>\n",
       "    <tr>\n",
       "      <td>5</td>\n",
       "      <td>0.068638</td>\n",
       "      <td>0.070875</td>\n",
       "      <td>0.893590</td>\n",
       "      <td>0.932394</td>\n",
       "      <td>0.848718</td>\n",
       "      <td>0.888591</td>\n",
       "      <td>0.959497</td>\n",
       "      <td>01:49</td>\n",
       "    </tr>\n",
       "    <tr>\n",
       "      <td>6</td>\n",
       "      <td>0.075182</td>\n",
       "      <td>0.068550</td>\n",
       "      <td>0.884615</td>\n",
       "      <td>0.936047</td>\n",
       "      <td>0.825641</td>\n",
       "      <td>0.877384</td>\n",
       "      <td>0.965454</td>\n",
       "      <td>01:48</td>\n",
       "    </tr>\n",
       "    <tr>\n",
       "      <td>7</td>\n",
       "      <td>0.072260</td>\n",
       "      <td>0.072139</td>\n",
       "      <td>0.893590</td>\n",
       "      <td>0.915989</td>\n",
       "      <td>0.866667</td>\n",
       "      <td>0.890646</td>\n",
       "      <td>0.957281</td>\n",
       "      <td>01:48</td>\n",
       "    </tr>\n",
       "    <tr>\n",
       "      <td>8</td>\n",
       "      <td>0.063858</td>\n",
       "      <td>0.071204</td>\n",
       "      <td>0.902564</td>\n",
       "      <td>0.948571</td>\n",
       "      <td>0.851282</td>\n",
       "      <td>0.897297</td>\n",
       "      <td>0.962226</td>\n",
       "      <td>01:49</td>\n",
       "    </tr>\n",
       "    <tr>\n",
       "      <td>9</td>\n",
       "      <td>0.074151</td>\n",
       "      <td>0.068095</td>\n",
       "      <td>0.888462</td>\n",
       "      <td>0.944282</td>\n",
       "      <td>0.825641</td>\n",
       "      <td>0.880985</td>\n",
       "      <td>0.964533</td>\n",
       "      <td>01:49</td>\n",
       "    </tr>\n",
       "    <tr>\n",
       "      <td>10</td>\n",
       "      <td>0.067121</td>\n",
       "      <td>0.079727</td>\n",
       "      <td>0.901282</td>\n",
       "      <td>0.948424</td>\n",
       "      <td>0.848718</td>\n",
       "      <td>0.895805</td>\n",
       "      <td>0.965108</td>\n",
       "      <td>01:48</td>\n",
       "    </tr>\n",
       "    <tr>\n",
       "      <td>11</td>\n",
       "      <td>0.073360</td>\n",
       "      <td>0.073185</td>\n",
       "      <td>0.889744</td>\n",
       "      <td>0.949704</td>\n",
       "      <td>0.823077</td>\n",
       "      <td>0.881868</td>\n",
       "      <td>0.961502</td>\n",
       "      <td>01:48</td>\n",
       "    </tr>\n",
       "    <tr>\n",
       "      <td>12</td>\n",
       "      <td>0.069367</td>\n",
       "      <td>0.071546</td>\n",
       "      <td>0.896154</td>\n",
       "      <td>0.953079</td>\n",
       "      <td>0.833333</td>\n",
       "      <td>0.889193</td>\n",
       "      <td>0.963646</td>\n",
       "      <td>01:49</td>\n",
       "    </tr>\n",
       "    <tr>\n",
       "      <td>13</td>\n",
       "      <td>0.073202</td>\n",
       "      <td>0.066016</td>\n",
       "      <td>0.911538</td>\n",
       "      <td>0.939726</td>\n",
       "      <td>0.879487</td>\n",
       "      <td>0.908609</td>\n",
       "      <td>0.962298</td>\n",
       "      <td>01:48</td>\n",
       "    </tr>\n",
       "    <tr>\n",
       "      <td>14</td>\n",
       "      <td>0.073584</td>\n",
       "      <td>0.066855</td>\n",
       "      <td>0.897436</td>\n",
       "      <td>0.912234</td>\n",
       "      <td>0.879487</td>\n",
       "      <td>0.895561</td>\n",
       "      <td>0.964869</td>\n",
       "      <td>01:48</td>\n",
       "    </tr>\n",
       "    <tr>\n",
       "      <td>15</td>\n",
       "      <td>0.068710</td>\n",
       "      <td>0.068110</td>\n",
       "      <td>0.892308</td>\n",
       "      <td>0.939655</td>\n",
       "      <td>0.838462</td>\n",
       "      <td>0.886179</td>\n",
       "      <td>0.966509</td>\n",
       "      <td>01:48</td>\n",
       "    </tr>\n",
       "    <tr>\n",
       "      <td>16</td>\n",
       "      <td>0.070529</td>\n",
       "      <td>0.079952</td>\n",
       "      <td>0.898718</td>\n",
       "      <td>0.882064</td>\n",
       "      <td>0.920513</td>\n",
       "      <td>0.900878</td>\n",
       "      <td>0.959306</td>\n",
       "      <td>01:49</td>\n",
       "    </tr>\n",
       "    <tr>\n",
       "      <td>17</td>\n",
       "      <td>0.073612</td>\n",
       "      <td>0.093648</td>\n",
       "      <td>0.860256</td>\n",
       "      <td>0.957655</td>\n",
       "      <td>0.753846</td>\n",
       "      <td>0.843615</td>\n",
       "      <td>0.959974</td>\n",
       "      <td>01:48</td>\n",
       "    </tr>\n",
       "    <tr>\n",
       "      <td>18</td>\n",
       "      <td>0.070248</td>\n",
       "      <td>0.091759</td>\n",
       "      <td>0.897436</td>\n",
       "      <td>0.918919</td>\n",
       "      <td>0.871795</td>\n",
       "      <td>0.894737</td>\n",
       "      <td>0.955776</td>\n",
       "      <td>01:48</td>\n",
       "    </tr>\n",
       "    <tr>\n",
       "      <td>19</td>\n",
       "      <td>0.077642</td>\n",
       "      <td>0.060003</td>\n",
       "      <td>0.911538</td>\n",
       "      <td>0.921260</td>\n",
       "      <td>0.900000</td>\n",
       "      <td>0.910506</td>\n",
       "      <td>0.970559</td>\n",
       "      <td>01:48</td>\n",
       "    </tr>\n",
       "    <tr>\n",
       "      <td>20</td>\n",
       "      <td>0.072147</td>\n",
       "      <td>0.072388</td>\n",
       "      <td>0.885897</td>\n",
       "      <td>0.854118</td>\n",
       "      <td>0.930769</td>\n",
       "      <td>0.890798</td>\n",
       "      <td>0.962406</td>\n",
       "      <td>01:49</td>\n",
       "    </tr>\n",
       "    <tr>\n",
       "      <td>21</td>\n",
       "      <td>0.073134</td>\n",
       "      <td>0.089263</td>\n",
       "      <td>0.850000</td>\n",
       "      <td>0.959596</td>\n",
       "      <td>0.730769</td>\n",
       "      <td>0.829694</td>\n",
       "      <td>0.961121</td>\n",
       "      <td>01:49</td>\n",
       "    </tr>\n",
       "    <tr>\n",
       "      <td>22</td>\n",
       "      <td>0.070026</td>\n",
       "      <td>0.074498</td>\n",
       "      <td>0.888462</td>\n",
       "      <td>0.912807</td>\n",
       "      <td>0.858974</td>\n",
       "      <td>0.885073</td>\n",
       "      <td>0.954694</td>\n",
       "      <td>01:49</td>\n",
       "    </tr>\n",
       "    <tr>\n",
       "      <td>23</td>\n",
       "      <td>0.072870</td>\n",
       "      <td>0.077929</td>\n",
       "      <td>0.891026</td>\n",
       "      <td>0.947214</td>\n",
       "      <td>0.828205</td>\n",
       "      <td>0.883721</td>\n",
       "      <td>0.961578</td>\n",
       "      <td>01:49</td>\n",
       "    </tr>\n",
       "    <tr>\n",
       "      <td>24</td>\n",
       "      <td>0.080422</td>\n",
       "      <td>0.074380</td>\n",
       "      <td>0.889744</td>\n",
       "      <td>0.900000</td>\n",
       "      <td>0.876923</td>\n",
       "      <td>0.888312</td>\n",
       "      <td>0.956305</td>\n",
       "      <td>01:49</td>\n",
       "    </tr>\n",
       "    <tr>\n",
       "      <td>25</td>\n",
       "      <td>0.075860</td>\n",
       "      <td>0.075429</td>\n",
       "      <td>0.888462</td>\n",
       "      <td>0.917355</td>\n",
       "      <td>0.853846</td>\n",
       "      <td>0.884462</td>\n",
       "      <td>0.950940</td>\n",
       "      <td>01:48</td>\n",
       "    </tr>\n",
       "    <tr>\n",
       "      <td>26</td>\n",
       "      <td>0.073098</td>\n",
       "      <td>0.078104</td>\n",
       "      <td>0.876923</td>\n",
       "      <td>0.953704</td>\n",
       "      <td>0.792308</td>\n",
       "      <td>0.865546</td>\n",
       "      <td>0.963560</td>\n",
       "      <td>01:49</td>\n",
       "    </tr>\n",
       "    <tr>\n",
       "      <td>27</td>\n",
       "      <td>0.070949</td>\n",
       "      <td>0.080343</td>\n",
       "      <td>0.867949</td>\n",
       "      <td>0.818182</td>\n",
       "      <td>0.946154</td>\n",
       "      <td>0.877527</td>\n",
       "      <td>0.962390</td>\n",
       "      <td>01:49</td>\n",
       "    </tr>\n",
       "    <tr>\n",
       "      <td>28</td>\n",
       "      <td>0.075461</td>\n",
       "      <td>0.067717</td>\n",
       "      <td>0.891026</td>\n",
       "      <td>0.915531</td>\n",
       "      <td>0.861538</td>\n",
       "      <td>0.887715</td>\n",
       "      <td>0.960464</td>\n",
       "      <td>01:49</td>\n",
       "    </tr>\n",
       "    <tr>\n",
       "      <td>29</td>\n",
       "      <td>0.072074</td>\n",
       "      <td>0.073065</td>\n",
       "      <td>0.885897</td>\n",
       "      <td>0.921569</td>\n",
       "      <td>0.843590</td>\n",
       "      <td>0.880857</td>\n",
       "      <td>0.958146</td>\n",
       "      <td>01:49</td>\n",
       "    </tr>\n",
       "  </tbody>\n",
       "</table>"
      ],
      "text/plain": [
       "<IPython.core.display.HTML object>"
      ]
     },
     "metadata": {},
     "output_type": "display_data"
    },
    {
     "name": "stdout",
     "output_type": "stream",
     "text": [
      "Better model found at epoch 0 with f1_score value: 0.8428571428571429.\n"
     ]
    },
    {
     "data": {
      "image/png": "[encoded data removed]",
      "text/plain": [
       "<Figure size 432x288 with 1 Axes>"
      ]
     },
     "metadata": {},
     "output_type": "display_data"
    },
    {
     "name": "stdout",
     "output_type": "stream",
     "text": [
      "Better model found at epoch 1 with f1_score value: 0.8698060941828255.\n",
      "Better model found at epoch 2 with f1_score value: 0.8882978723404255.\n",
      "Better model found at epoch 5 with f1_score value: 0.8885906040268456.\n",
      "Better model found at epoch 7 with f1_score value: 0.8906455862977603.\n",
      "Better model found at epoch 8 with f1_score value: 0.8972972972972973.\n",
      "Better model found at epoch 13 with f1_score value: 0.9086092715231788.\n",
      "Better model found at epoch 19 with f1_score value: 0.9105058365758755.\n",
      "No improvement since epoch 19: early stopping\n"
     ]
    }
   ],
   "source": [
    "learn.fine_tune(100,base_lr=3e-3)"
   ]
  },
  {
   "cell_type": "code",
   "execution_count": 11,
   "metadata": {},
   "outputs": [],
   "source": [
    "dfTest = pd.read_csv('../testSample.csv')"
   ]
  },
  {
   "cell_type": "code",
   "execution_count": 18,
   "metadata": {},
   "outputs": [],
   "source": [
    "def is_test(path):\n",
    "    name = path[1]\n",
    "    return (dfTest[dfTest['nombre_foto']==name])['set'].values[0]=='test'"
   ]
  },
  {
   "cell_type": "code",
   "execution_count": 19,
   "metadata": {},
   "outputs": [],
   "source": [
    "dbTest = DataBlock(blocks = (ImageBlock, CategoryBlock),\n",
    "                 splitter=FuncSplitter(is_test),\n",
    "                 get_x = ColReader(1,pref=\"../amd/\"),\n",
    "                 get_y=ColReader(3),\n",
    "                 item_tfms = [Resize(512)], # CropPad(200,200)\n",
    "                 batch_tfms=[*aug_transforms(size=384, min_scale=0.75,do_flip=True,flip_vert=True,\n",
    "                      max_rotate=2.,max_zoom=1.1, max_warp=0.05,p_affine=0.9, p_lighting=0.8), \n",
    "                             Normalize.from_stats(*imagenet_stats)])"
   ]
  },
  {
   "cell_type": "code",
   "execution_count": 20,
   "metadata": {},
   "outputs": [],
   "source": [
    "dlsTest = dbTest.dataloaders(dfTest.values,bs=64,num_workers=0)"
   ]
  },
  {
   "cell_type": "code",
   "execution_count": 21,
   "metadata": {},
   "outputs": [],
   "source": [
    "learn.dls = dlsTest"
   ]
  },
  {
   "cell_type": "code",
   "execution_count": 16,
   "metadata": {},
   "outputs": [
    {
     "data": {
      "text/html": [],
      "text/plain": [
       "<IPython.core.display.HTML object>"
      ]
     },
     "metadata": {},
     "output_type": "display_data"
    },
    {
     "name": "stdout",
     "output_type": "stream",
     "text": [
      "Better model found at epoch 0 with f1_score value: 0.9545072978303748.\n"
     ]
    },
    {
     "data": {
      "text/plain": [
       "(#6) [0.07982497662305832,0.8964102268218994,0.9064143007360673,0.884102564102564,0.8951194184839044,0.9545072978303748]"
      ]
     },
     "execution_count": 16,
     "metadata": {},
     "output_type": "execute_result"
    }
   ],
   "source": [
    "learn.validate()"
   ]
  },
  {
   "cell_type": "code",
   "execution_count": 17,
   "metadata": {},
   "outputs": [],
   "source": [
    "dfTest = pd.read_csv('../test.csv')"
   ]
  },
  {
   "cell_type": "code",
   "execution_count": 22,
   "metadata": {},
   "outputs": [
    {
     "data": {
      "text/html": [],
      "text/plain": [
       "<IPython.core.display.HTML object>"
      ]
     },
     "metadata": {},
     "output_type": "display_data"
    },
    {
     "name": "stdout",
     "output_type": "stream",
     "text": [
      "Better model found at epoch 0 with f1_score value: 0.9584182476716109.\n"
     ]
    },
    {
     "data": {
      "text/plain": [
       "(#6) [0.0762489065527916,0.910301685333252,0.17820963407070498,0.884102564102564,0.29662766689607706,0.9584182476716109]"
      ]
     },
     "execution_count": 22,
     "metadata": {},
     "output_type": "execute_result"
    }
   ],
   "source": [
    "learn.validate()"
   ]
  },
  {
   "cell_type": "markdown",
   "metadata": {},
   "source": [
    "# 512"
   ]
  },
  {
   "cell_type": "code",
   "execution_count": 5,
   "metadata": {},
   "outputs": [],
   "source": [
    "import torch\n",
    "torch.cuda.set_device(1)\n",
    "callbacks = [\n",
    "    ShowGraphCallback(),\n",
    "    EarlyStoppingCallback(patience=5),\n",
    "    SaveModelCallback(fname='resnetrs512',monitor='f1_score'),\n",
    "    #ReduceLROnPlateau(patience=2)\n",
    "]"
   ]
  },
  {
   "cell_type": "code",
   "execution_count": 6,
   "metadata": {},
   "outputs": [],
   "source": [
    "db = DataBlock(blocks = (ImageBlock, CategoryBlock),\n",
    "                 splitter=FuncSplitter(is_valid),\n",
    "                 get_x = ColReader(1,pref=\"../amd/\"),\n",
    "                 get_y=ColReader(3),\n",
    "                 item_tfms = [Resize(640)], # CropPad(200,200)\n",
    "                 batch_tfms=[*aug_transforms(size=512, min_scale=0.75,do_flip=True,flip_vert=True,\n",
    "                      max_rotate=2.,max_zoom=1.1, max_warp=0.05,p_affine=0.9, p_lighting=0.8), \n",
    "                             Normalize.from_stats(*imagenet_stats)])"
   ]
  },
  {
   "cell_type": "code",
   "execution_count": 7,
   "metadata": {},
   "outputs": [],
   "source": [
    "dls = db.dataloaders(df.values,bs=8,num_workers=0)"
   ]
  },
  {
   "cell_type": "code",
   "execution_count": 8,
   "metadata": {},
   "outputs": [],
   "source": [
    "learn = Learner(dls,timm.create_model('resnetrs50',num_classes=2,pretrained=True,drop_rate=0.5),\n",
    "                metrics=[accuracy,Precision(),Recall(),F1Score(),RocAucBinary()],\n",
    "                cbs=callbacks,\n",
    "                loss_func= FocalLossFlat()).to_fp16()"
   ]
  },
  {
   "cell_type": "code",
   "execution_count": 9,
   "metadata": {},
   "outputs": [
    {
     "name": "stderr",
     "output_type": "stream",
     "text": [
      "/home/jonathan/.virtualenvs/segmentation/lib/python3.6/site-packages/fastai/learner.py:56: UserWarning: Saved filed doesn't contain an optimizer state.\n",
      "  elif with_opt: warn(\"Saved filed doesn't contain an optimizer state.\")\n"
     ]
    },
    {
     "data": {
      "text/plain": [
       "<fastai.learner.Learner at 0x7f56ae645b38>"
      ]
     },
     "execution_count": 9,
     "metadata": {},
     "output_type": "execute_result"
    }
   ],
   "source": [
    "learn.load('resnetrs384')"
   ]
  },
  {
   "cell_type": "code",
   "execution_count": 10,
   "metadata": {},
   "outputs": [
    {
     "data": {
      "text/html": [],
      "text/plain": [
       "<IPython.core.display.HTML object>"
      ]
     },
     "metadata": {},
     "output_type": "display_data"
    },
    {
     "data": {
      "text/plain": [
       "SuggestedLRs(valley=0.00013182566908653826)"
      ]
     },
     "execution_count": 10,
     "metadata": {},
     "output_type": "execute_result"
    },
    {
     "data": {
      "image/png": "[encoded data removed]",
      "text/plain": [
       "<Figure size 432x288 with 1 Axes>"
      ]
     },
     "metadata": {
      "needs_background": "light"
     },
     "output_type": "display_data"
    }
   ],
   "source": [
    "learn.lr_find()"
   ]
  },
  {
   "cell_type": "code",
   "execution_count": 11,
   "metadata": {},
   "outputs": [
    {
     "data": {
      "text/html": [
       "<table border=\"1\" class=\"dataframe\">\n",
       "  <thead>\n",
       "    <tr style=\"text-align: left;\">\n",
       "      <th>epoch</th>\n",
       "      <th>train_loss</th>\n",
       "      <th>valid_loss</th>\n",
       "      <th>accuracy</th>\n",
       "      <th>precision_score</th>\n",
       "      <th>recall_score</th>\n",
       "      <th>f1_score</th>\n",
       "      <th>roc_auc_score</th>\n",
       "      <th>time</th>\n",
       "    </tr>\n",
       "  </thead>\n",
       "  <tbody>\n",
       "    <tr>\n",
       "      <td>0</td>\n",
       "      <td>0.086929</td>\n",
       "      <td>0.070947</td>\n",
       "      <td>0.883333</td>\n",
       "      <td>0.938416</td>\n",
       "      <td>0.820513</td>\n",
       "      <td>0.875513</td>\n",
       "      <td>0.960736</td>\n",
       "      <td>03:52</td>\n",
       "    </tr>\n",
       "  </tbody>\n",
       "</table>"
      ],
      "text/plain": [
       "<IPython.core.display.HTML object>"
      ]
     },
     "metadata": {},
     "output_type": "display_data"
    },
    {
     "name": "stdout",
     "output_type": "stream",
     "text": [
      "Better model found at epoch 0 with f1_score value: 0.8755129958960328.\n"
     ]
    },
    {
     "data": {
      "image/png": "[encoded data removed]",
      "text/plain": [
       "<Figure size 432x288 with 1 Axes>"
      ]
     },
     "metadata": {},
     "output_type": "display_data"
    },
    {
     "data": {
      "text/html": [
       "<table border=\"1\" class=\"dataframe\">\n",
       "  <thead>\n",
       "    <tr style=\"text-align: left;\">\n",
       "      <th>epoch</th>\n",
       "      <th>train_loss</th>\n",
       "      <th>valid_loss</th>\n",
       "      <th>accuracy</th>\n",
       "      <th>precision_score</th>\n",
       "      <th>recall_score</th>\n",
       "      <th>f1_score</th>\n",
       "      <th>roc_auc_score</th>\n",
       "      <th>time</th>\n",
       "    </tr>\n",
       "  </thead>\n",
       "  <tbody>\n",
       "    <tr>\n",
       "      <td>0</td>\n",
       "      <td>0.085658</td>\n",
       "      <td>0.070940</td>\n",
       "      <td>0.888462</td>\n",
       "      <td>0.939130</td>\n",
       "      <td>0.830769</td>\n",
       "      <td>0.881633</td>\n",
       "      <td>0.960664</td>\n",
       "      <td>03:53</td>\n",
       "    </tr>\n",
       "    <tr>\n",
       "      <td>1</td>\n",
       "      <td>0.087159</td>\n",
       "      <td>0.068849</td>\n",
       "      <td>0.887179</td>\n",
       "      <td>0.933908</td>\n",
       "      <td>0.833333</td>\n",
       "      <td>0.880759</td>\n",
       "      <td>0.961966</td>\n",
       "      <td>03:53</td>\n",
       "    </tr>\n",
       "    <tr>\n",
       "      <td>2</td>\n",
       "      <td>0.088839</td>\n",
       "      <td>0.067670</td>\n",
       "      <td>0.900000</td>\n",
       "      <td>0.926230</td>\n",
       "      <td>0.869231</td>\n",
       "      <td>0.896825</td>\n",
       "      <td>0.961492</td>\n",
       "      <td>03:53</td>\n",
       "    </tr>\n",
       "    <tr>\n",
       "      <td>3</td>\n",
       "      <td>0.090075</td>\n",
       "      <td>0.067001</td>\n",
       "      <td>0.901282</td>\n",
       "      <td>0.919571</td>\n",
       "      <td>0.879487</td>\n",
       "      <td>0.899083</td>\n",
       "      <td>0.962130</td>\n",
       "      <td>03:53</td>\n",
       "    </tr>\n",
       "    <tr>\n",
       "      <td>4</td>\n",
       "      <td>0.073644</td>\n",
       "      <td>0.067760</td>\n",
       "      <td>0.900000</td>\n",
       "      <td>0.938202</td>\n",
       "      <td>0.856410</td>\n",
       "      <td>0.895442</td>\n",
       "      <td>0.962620</td>\n",
       "      <td>03:53</td>\n",
       "    </tr>\n",
       "    <tr>\n",
       "      <td>5</td>\n",
       "      <td>0.078974</td>\n",
       "      <td>0.066747</td>\n",
       "      <td>0.900000</td>\n",
       "      <td>0.919355</td>\n",
       "      <td>0.876923</td>\n",
       "      <td>0.897638</td>\n",
       "      <td>0.962410</td>\n",
       "      <td>03:55</td>\n",
       "    </tr>\n",
       "    <tr>\n",
       "      <td>6</td>\n",
       "      <td>0.090215</td>\n",
       "      <td>0.067426</td>\n",
       "      <td>0.898718</td>\n",
       "      <td>0.923706</td>\n",
       "      <td>0.869231</td>\n",
       "      <td>0.895641</td>\n",
       "      <td>0.962383</td>\n",
       "      <td>03:55</td>\n",
       "    </tr>\n",
       "    <tr>\n",
       "      <td>7</td>\n",
       "      <td>0.080297</td>\n",
       "      <td>0.067715</td>\n",
       "      <td>0.903846</td>\n",
       "      <td>0.941176</td>\n",
       "      <td>0.861538</td>\n",
       "      <td>0.899598</td>\n",
       "      <td>0.962761</td>\n",
       "      <td>03:56</td>\n",
       "    </tr>\n",
       "    <tr>\n",
       "      <td>8</td>\n",
       "      <td>0.084159</td>\n",
       "      <td>0.065479</td>\n",
       "      <td>0.900000</td>\n",
       "      <td>0.912698</td>\n",
       "      <td>0.884615</td>\n",
       "      <td>0.898438</td>\n",
       "      <td>0.963991</td>\n",
       "      <td>03:56</td>\n",
       "    </tr>\n",
       "    <tr>\n",
       "      <td>9</td>\n",
       "      <td>0.085471</td>\n",
       "      <td>0.067032</td>\n",
       "      <td>0.896154</td>\n",
       "      <td>0.925620</td>\n",
       "      <td>0.861538</td>\n",
       "      <td>0.892430</td>\n",
       "      <td>0.962413</td>\n",
       "      <td>03:56</td>\n",
       "    </tr>\n",
       "    <tr>\n",
       "      <td>10</td>\n",
       "      <td>0.083338</td>\n",
       "      <td>0.067091</td>\n",
       "      <td>0.898718</td>\n",
       "      <td>0.923706</td>\n",
       "      <td>0.869231</td>\n",
       "      <td>0.895641</td>\n",
       "      <td>0.962597</td>\n",
       "      <td>03:56</td>\n",
       "    </tr>\n",
       "    <tr>\n",
       "      <td>11</td>\n",
       "      <td>0.080184</td>\n",
       "      <td>0.065755</td>\n",
       "      <td>0.898718</td>\n",
       "      <td>0.919137</td>\n",
       "      <td>0.874359</td>\n",
       "      <td>0.896189</td>\n",
       "      <td>0.963669</td>\n",
       "      <td>03:56</td>\n",
       "    </tr>\n",
       "    <tr>\n",
       "      <td>12</td>\n",
       "      <td>0.079977</td>\n",
       "      <td>0.065586</td>\n",
       "      <td>0.900000</td>\n",
       "      <td>0.917112</td>\n",
       "      <td>0.879487</td>\n",
       "      <td>0.897906</td>\n",
       "      <td>0.963544</td>\n",
       "      <td>03:56</td>\n",
       "    </tr>\n",
       "    <tr>\n",
       "      <td>13</td>\n",
       "      <td>0.087506</td>\n",
       "      <td>0.065286</td>\n",
       "      <td>0.900000</td>\n",
       "      <td>0.910526</td>\n",
       "      <td>0.887179</td>\n",
       "      <td>0.898701</td>\n",
       "      <td>0.963748</td>\n",
       "      <td>03:56</td>\n",
       "    </tr>\n",
       "    <tr>\n",
       "      <td>14</td>\n",
       "      <td>0.081146</td>\n",
       "      <td>0.065185</td>\n",
       "      <td>0.897436</td>\n",
       "      <td>0.905759</td>\n",
       "      <td>0.887179</td>\n",
       "      <td>0.896373</td>\n",
       "      <td>0.963721</td>\n",
       "      <td>03:56</td>\n",
       "    </tr>\n",
       "    <tr>\n",
       "      <td>15</td>\n",
       "      <td>0.081251</td>\n",
       "      <td>0.066801</td>\n",
       "      <td>0.900000</td>\n",
       "      <td>0.933333</td>\n",
       "      <td>0.861538</td>\n",
       "      <td>0.896000</td>\n",
       "      <td>0.963797</td>\n",
       "      <td>03:56</td>\n",
       "    </tr>\n",
       "    <tr>\n",
       "      <td>16</td>\n",
       "      <td>0.086108</td>\n",
       "      <td>0.064865</td>\n",
       "      <td>0.902564</td>\n",
       "      <td>0.926630</td>\n",
       "      <td>0.874359</td>\n",
       "      <td>0.899736</td>\n",
       "      <td>0.964635</td>\n",
       "      <td>03:56</td>\n",
       "    </tr>\n",
       "    <tr>\n",
       "      <td>17</td>\n",
       "      <td>0.071090</td>\n",
       "      <td>0.065286</td>\n",
       "      <td>0.902564</td>\n",
       "      <td>0.931319</td>\n",
       "      <td>0.869231</td>\n",
       "      <td>0.899204</td>\n",
       "      <td>0.964293</td>\n",
       "      <td>03:56</td>\n",
       "    </tr>\n",
       "    <tr>\n",
       "      <td>18</td>\n",
       "      <td>0.076819</td>\n",
       "      <td>0.066591</td>\n",
       "      <td>0.901282</td>\n",
       "      <td>0.940845</td>\n",
       "      <td>0.856410</td>\n",
       "      <td>0.896644</td>\n",
       "      <td>0.964517</td>\n",
       "      <td>03:57</td>\n",
       "    </tr>\n",
       "    <tr>\n",
       "      <td>19</td>\n",
       "      <td>0.069464</td>\n",
       "      <td>0.064261</td>\n",
       "      <td>0.901282</td>\n",
       "      <td>0.919571</td>\n",
       "      <td>0.879487</td>\n",
       "      <td>0.899083</td>\n",
       "      <td>0.964944</td>\n",
       "      <td>03:56</td>\n",
       "    </tr>\n",
       "    <tr>\n",
       "      <td>20</td>\n",
       "      <td>0.082842</td>\n",
       "      <td>0.065488</td>\n",
       "      <td>0.906410</td>\n",
       "      <td>0.941504</td>\n",
       "      <td>0.866667</td>\n",
       "      <td>0.902537</td>\n",
       "      <td>0.965316</td>\n",
       "      <td>03:57</td>\n",
       "    </tr>\n",
       "    <tr>\n",
       "      <td>21</td>\n",
       "      <td>0.075247</td>\n",
       "      <td>0.067251</td>\n",
       "      <td>0.901282</td>\n",
       "      <td>0.943343</td>\n",
       "      <td>0.853846</td>\n",
       "      <td>0.896366</td>\n",
       "      <td>0.965325</td>\n",
       "      <td>03:56</td>\n",
       "    </tr>\n",
       "    <tr>\n",
       "      <td>22</td>\n",
       "      <td>0.085328</td>\n",
       "      <td>0.064168</td>\n",
       "      <td>0.908974</td>\n",
       "      <td>0.929919</td>\n",
       "      <td>0.884615</td>\n",
       "      <td>0.906702</td>\n",
       "      <td>0.965253</td>\n",
       "      <td>03:57</td>\n",
       "    </tr>\n",
       "    <tr>\n",
       "      <td>23</td>\n",
       "      <td>0.075591</td>\n",
       "      <td>0.063500</td>\n",
       "      <td>0.903846</td>\n",
       "      <td>0.917772</td>\n",
       "      <td>0.887179</td>\n",
       "      <td>0.902216</td>\n",
       "      <td>0.965750</td>\n",
       "      <td>03:57</td>\n",
       "    </tr>\n",
       "    <tr>\n",
       "      <td>24</td>\n",
       "      <td>0.088589</td>\n",
       "      <td>0.062976</td>\n",
       "      <td>0.901282</td>\n",
       "      <td>0.912929</td>\n",
       "      <td>0.887179</td>\n",
       "      <td>0.899870</td>\n",
       "      <td>0.966137</td>\n",
       "      <td>03:57</td>\n",
       "    </tr>\n",
       "    <tr>\n",
       "      <td>25</td>\n",
       "      <td>0.080570</td>\n",
       "      <td>0.063520</td>\n",
       "      <td>0.898718</td>\n",
       "      <td>0.901809</td>\n",
       "      <td>0.894872</td>\n",
       "      <td>0.898327</td>\n",
       "      <td>0.965526</td>\n",
       "      <td>03:57</td>\n",
       "    </tr>\n",
       "    <tr>\n",
       "      <td>26</td>\n",
       "      <td>0.076550</td>\n",
       "      <td>0.063361</td>\n",
       "      <td>0.906410</td>\n",
       "      <td>0.924933</td>\n",
       "      <td>0.884615</td>\n",
       "      <td>0.904325</td>\n",
       "      <td>0.966098</td>\n",
       "      <td>03:57</td>\n",
       "    </tr>\n",
       "    <tr>\n",
       "      <td>27</td>\n",
       "      <td>0.082250</td>\n",
       "      <td>0.065228</td>\n",
       "      <td>0.902564</td>\n",
       "      <td>0.928962</td>\n",
       "      <td>0.871795</td>\n",
       "      <td>0.899471</td>\n",
       "      <td>0.965845</td>\n",
       "      <td>03:57</td>\n",
       "    </tr>\n",
       "    <tr>\n",
       "      <td>28</td>\n",
       "      <td>0.072974</td>\n",
       "      <td>0.063167</td>\n",
       "      <td>0.903846</td>\n",
       "      <td>0.922252</td>\n",
       "      <td>0.882051</td>\n",
       "      <td>0.901704</td>\n",
       "      <td>0.966325</td>\n",
       "      <td>03:57</td>\n",
       "    </tr>\n",
       "    <tr>\n",
       "      <td>29</td>\n",
       "      <td>0.076986</td>\n",
       "      <td>0.062821</td>\n",
       "      <td>0.901282</td>\n",
       "      <td>0.910761</td>\n",
       "      <td>0.889744</td>\n",
       "      <td>0.900130</td>\n",
       "      <td>0.966246</td>\n",
       "      <td>03:57</td>\n",
       "    </tr>\n",
       "    <tr>\n",
       "      <td>30</td>\n",
       "      <td>0.069452</td>\n",
       "      <td>0.063745</td>\n",
       "      <td>0.905128</td>\n",
       "      <td>0.929348</td>\n",
       "      <td>0.876923</td>\n",
       "      <td>0.902375</td>\n",
       "      <td>0.966450</td>\n",
       "      <td>03:57</td>\n",
       "    </tr>\n",
       "    <tr>\n",
       "      <td>31</td>\n",
       "      <td>0.077612</td>\n",
       "      <td>0.064675</td>\n",
       "      <td>0.908974</td>\n",
       "      <td>0.939394</td>\n",
       "      <td>0.874359</td>\n",
       "      <td>0.905710</td>\n",
       "      <td>0.966082</td>\n",
       "      <td>03:59</td>\n",
       "    </tr>\n",
       "    <tr>\n",
       "      <td>32</td>\n",
       "      <td>0.080127</td>\n",
       "      <td>0.064892</td>\n",
       "      <td>0.903846</td>\n",
       "      <td>0.931507</td>\n",
       "      <td>0.871795</td>\n",
       "      <td>0.900662</td>\n",
       "      <td>0.966943</td>\n",
       "      <td>03:56</td>\n",
       "    </tr>\n",
       "    <tr>\n",
       "      <td>33</td>\n",
       "      <td>0.083511</td>\n",
       "      <td>0.063929</td>\n",
       "      <td>0.902564</td>\n",
       "      <td>0.928962</td>\n",
       "      <td>0.871795</td>\n",
       "      <td>0.899471</td>\n",
       "      <td>0.966640</td>\n",
       "      <td>03:56</td>\n",
       "    </tr>\n",
       "    <tr>\n",
       "      <td>34</td>\n",
       "      <td>0.075421</td>\n",
       "      <td>0.065133</td>\n",
       "      <td>0.907692</td>\n",
       "      <td>0.939227</td>\n",
       "      <td>0.871795</td>\n",
       "      <td>0.904255</td>\n",
       "      <td>0.966134</td>\n",
       "      <td>03:57</td>\n",
       "    </tr>\n",
       "  </tbody>\n",
       "</table>"
      ],
      "text/plain": [
       "<IPython.core.display.HTML object>"
      ]
     },
     "metadata": {},
     "output_type": "display_data"
    },
    {
     "name": "stdout",
     "output_type": "stream",
     "text": [
      "Better model found at epoch 0 with f1_score value: 0.8816326530612245.\n"
     ]
    },
    {
     "data": {
      "image/png": "[encoded data removed]",
      "text/plain": [
       "<Figure size 432x288 with 1 Axes>"
      ]
     },
     "metadata": {},
     "output_type": "display_data"
    },
    {
     "name": "stdout",
     "output_type": "stream",
     "text": [
      "Better model found at epoch 2 with f1_score value: 0.8968253968253969.\n",
      "Better model found at epoch 3 with f1_score value: 0.8990825688073394.\n",
      "Better model found at epoch 7 with f1_score value: 0.8995983935742972.\n",
      "Better model found at epoch 16 with f1_score value: 0.899736147757256.\n",
      "Better model found at epoch 20 with f1_score value: 0.9025367156208277.\n",
      "Better model found at epoch 22 with f1_score value: 0.9067017082785809.\n",
      "No improvement since epoch 29: early stopping\n"
     ]
    }
   ],
   "source": [
    "learn.fine_tune(100,base_lr=3e-6)"
   ]
  },
  {
   "cell_type": "code",
   "execution_count": 12,
   "metadata": {},
   "outputs": [],
   "source": [
    "dfTest = pd.read_csv('../testSample.csv')"
   ]
  },
  {
   "cell_type": "code",
   "execution_count": 13,
   "metadata": {},
   "outputs": [],
   "source": [
    "def is_test(path):\n",
    "    name = path[1]\n",
    "    return (dfTest[dfTest['nombre_foto']==name])['set'].values[0]=='test'"
   ]
  },
  {
   "cell_type": "code",
   "execution_count": 14,
   "metadata": {},
   "outputs": [],
   "source": [
    "dbTest = DataBlock(blocks = (ImageBlock, CategoryBlock),\n",
    "                 splitter=FuncSplitter(is_test),\n",
    "                 get_x = ColReader(1,pref=\"../amd/\"),\n",
    "                 get_y=ColReader(3),\n",
    "                 item_tfms = [Resize(640)], # CropPad(200,200)\n",
    "                 batch_tfms=[*aug_transforms(size=512, min_scale=0.75,do_flip=True,flip_vert=True,\n",
    "                      max_rotate=2.,max_zoom=1.1, max_warp=0.05,p_affine=0.9, p_lighting=0.8), \n",
    "                             Normalize.from_stats(*imagenet_stats)])"
   ]
  },
  {
   "cell_type": "code",
   "execution_count": 15,
   "metadata": {},
   "outputs": [],
   "source": [
    "dlsTest = dbTest.dataloaders(dfTest.values,bs=8,num_workers=0)"
   ]
  },
  {
   "cell_type": "code",
   "execution_count": 16,
   "metadata": {},
   "outputs": [],
   "source": [
    "learn.dls = dlsTest"
   ]
  },
  {
   "cell_type": "code",
   "execution_count": 17,
   "metadata": {},
   "outputs": [
    {
     "data": {
      "text/html": [],
      "text/plain": [
       "<IPython.core.display.HTML object>"
      ]
     },
     "metadata": {},
     "output_type": "display_data"
    },
    {
     "name": "stdout",
     "output_type": "stream",
     "text": [
      "Better model found at epoch 0 with f1_score value: 0.9564749506903353.\n"
     ]
    },
    {
     "data": {
      "text/plain": [
       "(#6) [0.0725322812795639,0.8928205370903015,0.9065817409766455,0.8758974358974358,0.8909754825247783,0.9564749506903353]"
      ]
     },
     "execution_count": 17,
     "metadata": {},
     "output_type": "execute_result"
    }
   ],
   "source": [
    "learn.validate()"
   ]
  },
  {
   "cell_type": "code",
   "execution_count": 19,
   "metadata": {},
   "outputs": [
    {
     "data": {
      "text/html": [
       "\n",
       "    <div>\n",
       "        <style>\n",
       "            /* Turns off some styling */\n",
       "            progress {\n",
       "                /* gets rid of default border in Firefox and Opera. */\n",
       "                border: none;\n",
       "                /* Needs to be in here for Safari polyfill so background images work as expected. */\n",
       "                background-size: auto;\n",
       "            }\n",
       "            .progress-bar-interrupted, .progress-bar-interrupted::-webkit-progress-bar {\n",
       "                background: #F44336;\n",
       "            }\n",
       "        </style>\n",
       "      <progress value='0' class='' max='100' style='width:300px; height:20px; vertical-align: middle;'></progress>\n",
       "      \n",
       "    </div>\n",
       "    \n"
      ],
      "text/plain": [
       "<IPython.core.display.HTML object>"
      ]
     },
     "metadata": {},
     "output_type": "display_data"
    },
    {
     "data": {
      "text/html": [],
      "text/plain": [
       "<IPython.core.display.HTML object>"
      ]
     },
     "metadata": {},
     "output_type": "display_data"
    }
   ],
   "source": [
    "preds,y=learn.tta()"
   ]
  },
  {
   "cell_type": "code",
   "execution_count": 20,
   "metadata": {},
   "outputs": [],
   "source": [
    "from sklearn.metrics import precision_score, recall_score, f1_score"
   ]
  },
  {
   "cell_type": "code",
   "execution_count": 21,
   "metadata": {},
   "outputs": [],
   "source": [
    "import numpy as np"
   ]
  },
  {
   "cell_type": "code",
   "execution_count": 22,
   "metadata": {},
   "outputs": [
    {
     "data": {
      "text/plain": [
       "tensor([0, 0, 0,  ..., 1, 1, 0])"
      ]
     },
     "execution_count": 22,
     "metadata": {},
     "output_type": "execute_result"
    }
   ],
   "source": [
    "np.argmax(preds,axis=1)"
   ]
  },
  {
   "cell_type": "code",
   "execution_count": 23,
   "metadata": {},
   "outputs": [
    {
     "data": {
      "text/plain": [
       "0.9001040582726326"
      ]
     },
     "execution_count": 23,
     "metadata": {},
     "output_type": "execute_result"
    }
   ],
   "source": [
    "f1_score(np.argmax(preds,axis=1),y)"
   ]
  },
  {
   "cell_type": "code",
   "execution_count": 24,
   "metadata": {},
   "outputs": [
    {
     "data": {
      "text/plain": [
       "0.8871794871794871"
      ]
     },
     "execution_count": 24,
     "metadata": {},
     "output_type": "execute_result"
    }
   ],
   "source": [
    "precision_score(np.argmax(preds,axis=1),y)"
   ]
  },
  {
   "cell_type": "code",
   "execution_count": 25,
   "metadata": {},
   "outputs": [
    {
     "data": {
      "text/plain": [
       "0.9134107708553326"
      ]
     },
     "execution_count": 25,
     "metadata": {},
     "output_type": "execute_result"
    }
   ],
   "source": [
    "recall_score(np.argmax(preds,axis=1),y)"
   ]
  },
  {
   "cell_type": "code",
   "execution_count": null,
   "metadata": {},
   "outputs": [],
   "source": []
  }
 ],
 "metadata": {
  "kernelspec": {
   "display_name": "Python 3",
   "language": "python",
   "name": "python3"
  },
  "language_info": {
   "codemirror_mode": {
    "name": "ipython",
    "version": 3
   },
   "file_extension": ".py",
   "mimetype": "text/x-python",
   "name": "python",
   "nbconvert_exporter": "python",
   "pygments_lexer": "ipython3",
   "version": "3.6.7"
  }
 },
 "nbformat": 4,
 "nbformat_minor": 4
}
