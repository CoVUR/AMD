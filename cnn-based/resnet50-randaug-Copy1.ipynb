{
 "cells": [
  {
   "cell_type": "code",
   "execution_count": 1,
   "metadata": {},
   "outputs": [],
   "source": [
    "from fastai.vision.all import *\n",
    "import fastai\n",
    "import timm\n",
    "import torch\n",
    "import albumentations as A\n",
    "transform = A.load(\"/media/newhd/OPTRetina/DMAE/autoalbument-amd/outputs/2021-11-24/10-32-22/policy/latest.json\")"
   ]
  },
  {
   "cell_type": "code",
   "execution_count": 2,
   "metadata": {},
   "outputs": [],
   "source": [
    "torch.cuda.set_device(2)"
   ]
  },
  {
   "cell_type": "code",
   "execution_count": 3,
   "metadata": {},
   "outputs": [],
   "source": [
    "df = pd.read_csv('../trainValid.csv')"
   ]
  },
  {
   "cell_type": "code",
   "execution_count": 4,
   "metadata": {},
   "outputs": [
    {
     "data": {
      "text/html": [
       "<div>\n",
       "<style scoped>\n",
       "    .dataframe tbody tr th:only-of-type {\n",
       "        vertical-align: middle;\n",
       "    }\n",
       "\n",
       "    .dataframe tbody tr th {\n",
       "        vertical-align: top;\n",
       "    }\n",
       "\n",
       "    .dataframe thead th {\n",
       "        text-align: right;\n",
       "    }\n",
       "</style>\n",
       "<table border=\"1\" class=\"dataframe\">\n",
       "  <thead>\n",
       "    <tr style=\"text-align: right;\">\n",
       "      <th></th>\n",
       "      <th>Unnamed: 0</th>\n",
       "      <th>nombre_foto</th>\n",
       "      <th>grado de DMAE</th>\n",
       "      <th>binary</th>\n",
       "      <th>set</th>\n",
       "    </tr>\n",
       "  </thead>\n",
       "  <tbody>\n",
       "    <tr>\n",
       "      <th>0</th>\n",
       "      <td>61504</td>\n",
       "      <td>anonymized_231059.jpg</td>\n",
       "      <td>normal</td>\n",
       "      <td>0</td>\n",
       "      <td>training</td>\n",
       "    </tr>\n",
       "    <tr>\n",
       "      <th>1</th>\n",
       "      <td>176989</td>\n",
       "      <td>anonymized_442122.jpg</td>\n",
       "      <td>normal</td>\n",
       "      <td>0</td>\n",
       "      <td>training</td>\n",
       "    </tr>\n",
       "    <tr>\n",
       "      <th>2</th>\n",
       "      <td>133399</td>\n",
       "      <td>anonymized_363034.jpg</td>\n",
       "      <td>normal</td>\n",
       "      <td>0</td>\n",
       "      <td>training</td>\n",
       "    </tr>\n",
       "    <tr>\n",
       "      <th>3</th>\n",
       "      <td>220150</td>\n",
       "      <td>anonymized_519072.jpg</td>\n",
       "      <td>normal</td>\n",
       "      <td>0</td>\n",
       "      <td>training</td>\n",
       "    </tr>\n",
       "    <tr>\n",
       "      <th>4</th>\n",
       "      <td>155853</td>\n",
       "      <td>anonymized_403989.jpg</td>\n",
       "      <td>normal</td>\n",
       "      <td>0</td>\n",
       "      <td>training</td>\n",
       "    </tr>\n",
       "    <tr>\n",
       "      <th>...</th>\n",
       "      <td>...</td>\n",
       "      <td>...</td>\n",
       "      <td>...</td>\n",
       "      <td>...</td>\n",
       "      <td>...</td>\n",
       "    </tr>\n",
       "    <tr>\n",
       "      <th>7797</th>\n",
       "      <td>224854</td>\n",
       "      <td>anonymized_528388.jpg</td>\n",
       "      <td>tardia</td>\n",
       "      <td>1</td>\n",
       "      <td>validation</td>\n",
       "    </tr>\n",
       "    <tr>\n",
       "      <th>7798</th>\n",
       "      <td>225492</td>\n",
       "      <td>anonymized_529721.jpg</td>\n",
       "      <td>intermedia</td>\n",
       "      <td>1</td>\n",
       "      <td>validation</td>\n",
       "    </tr>\n",
       "    <tr>\n",
       "      <th>7799</th>\n",
       "      <td>226322</td>\n",
       "      <td>anonymized_531350.jpg</td>\n",
       "      <td>precoz</td>\n",
       "      <td>1</td>\n",
       "      <td>validation</td>\n",
       "    </tr>\n",
       "    <tr>\n",
       "      <th>7800</th>\n",
       "      <td>227489</td>\n",
       "      <td>anonymized_533460.jpg</td>\n",
       "      <td>tardia</td>\n",
       "      <td>1</td>\n",
       "      <td>validation</td>\n",
       "    </tr>\n",
       "    <tr>\n",
       "      <th>7801</th>\n",
       "      <td>227547</td>\n",
       "      <td>anonymized_533591.jpg</td>\n",
       "      <td>intermedia</td>\n",
       "      <td>1</td>\n",
       "      <td>validation</td>\n",
       "    </tr>\n",
       "  </tbody>\n",
       "</table>\n",
       "<p>7802 rows × 5 columns</p>\n",
       "</div>"
      ],
      "text/plain": [
       "      Unnamed: 0            nombre_foto grado de DMAE  binary         set\n",
       "0          61504  anonymized_231059.jpg        normal       0    training\n",
       "1         176989  anonymized_442122.jpg        normal       0    training\n",
       "2         133399  anonymized_363034.jpg        normal       0    training\n",
       "3         220150  anonymized_519072.jpg        normal       0    training\n",
       "4         155853  anonymized_403989.jpg        normal       0    training\n",
       "...          ...                    ...           ...     ...         ...\n",
       "7797      224854  anonymized_528388.jpg        tardia       1  validation\n",
       "7798      225492  anonymized_529721.jpg    intermedia       1  validation\n",
       "7799      226322  anonymized_531350.jpg        precoz       1  validation\n",
       "7800      227489  anonymized_533460.jpg        tardia       1  validation\n",
       "7801      227547  anonymized_533591.jpg    intermedia       1  validation\n",
       "\n",
       "[7802 rows x 5 columns]"
      ]
     },
     "execution_count": 4,
     "metadata": {},
     "output_type": "execute_result"
    }
   ],
   "source": [
    "df"
   ]
  },
  {
   "cell_type": "code",
   "execution_count": 5,
   "metadata": {},
   "outputs": [],
   "source": [
    "def is_valid(path):\n",
    "    name = path[1]\n",
    "    return (df[df['nombre_foto']==name])['set'].values[0]=='validation'"
   ]
  },
  {
   "cell_type": "markdown",
   "metadata": {},
   "source": [
    "# 224"
   ]
  },
  {
   "cell_type": "code",
   "execution_count": 6,
   "metadata": {},
   "outputs": [],
   "source": [
    "from fastai.vision.all import *\n",
    "callbacks = [\n",
    "    ShowGraphCallback(),\n",
    "    EarlyStoppingCallback(patience=5),\n",
    "    SaveModelCallback(fname='resnet_224_c',monitor='f1_score'),\n",
    "    #ReduceLROnPlateau(patience=2)\n",
    "]"
   ]
  },
  {
   "cell_type": "code",
   "execution_count": 7,
   "metadata": {},
   "outputs": [],
   "source": [
    "class AlbumentationsTransform(Transform):\n",
    "    def __init__(self, aug): self.aug = aug\n",
    "    def encodes(self, img: PILImage):\n",
    "        aug_img = self.aug(image=np.array(img))['image']\n",
    "        return PILImage.create(aug_img)"
   ]
  },
  {
   "cell_type": "code",
   "execution_count": 8,
   "metadata": {},
   "outputs": [],
   "source": [
    "db = DataBlock(blocks = (ImageBlock, CategoryBlock),\n",
    "                 splitter=FuncSplitter(is_valid),\n",
    "                 get_x = ColReader(1,pref=\"../amd/\"),\n",
    "                 get_y=ColReader(3),\n",
    "                 item_tfms = [Resize(384),AlbumentationsTransform(transform[0])], # CropPad(200,200)\n",
    "                 batch_tfms=[*aug_transforms(size=224, min_scale=0.75,do_flip=True,flip_vert=True,\n",
    "                      max_rotate=2.,max_zoom=1.1, max_warp=0.05,p_affine=0.9, p_lighting=0.8), \n",
    "                             Normalize.from_stats(*imagenet_stats)])"
   ]
  },
  {
   "cell_type": "code",
   "execution_count": 9,
   "metadata": {},
   "outputs": [],
   "source": [
    "dls = db.dataloaders(df.values,bs=128,num_workers=0)"
   ]
  },
  {
   "cell_type": "code",
   "execution_count": 10,
   "metadata": {},
   "outputs": [],
   "source": [
    "learn = cnn_learner(dls,resnet50,\n",
    "                metrics=[accuracy,Precision(),Recall(),F1Score(),RocAucBinary()],\n",
    "                cbs=callbacks,\n",
    "                loss_func= FocalLossFlat()).to_fp16()"
   ]
  },
  {
   "cell_type": "code",
   "execution_count": 11,
   "metadata": {},
   "outputs": [
    {
     "data": {
      "text/html": [
       "<table border=\"1\" class=\"dataframe\">\n",
       "  <thead>\n",
       "    <tr style=\"text-align: left;\">\n",
       "      <th>epoch</th>\n",
       "      <th>train_loss</th>\n",
       "      <th>valid_loss</th>\n",
       "      <th>accuracy</th>\n",
       "      <th>precision_score</th>\n",
       "      <th>recall_score</th>\n",
       "      <th>f1_score</th>\n",
       "      <th>roc_auc_score</th>\n",
       "      <th>time</th>\n",
       "    </tr>\n",
       "  </thead>\n",
       "  <tbody>\n",
       "    <tr>\n",
       "      <td>0</td>\n",
       "      <td>0.762002</td>\n",
       "      <td>0.608299</td>\n",
       "      <td>0.715385</td>\n",
       "      <td>0.734637</td>\n",
       "      <td>0.674359</td>\n",
       "      <td>0.703209</td>\n",
       "      <td>0.778593</td>\n",
       "      <td>01:38</td>\n",
       "    </tr>\n",
       "  </tbody>\n",
       "</table>"
      ],
      "text/plain": [
       "<IPython.core.display.HTML object>"
      ]
     },
     "metadata": {},
     "output_type": "display_data"
    },
    {
     "name": "stdout",
     "output_type": "stream",
     "text": [
      "Better model found at epoch 0 with f1_score value: 0.7032085561497325.\n"
     ]
    },
    {
     "data": {
      "image/png": "[encoded data removed]",
      "text/plain": [
       "<Figure size 432x288 with 1 Axes>"
      ]
     },
     "metadata": {},
     "output_type": "display_data"
    },
    {
     "data": {
      "text/html": [
       "<table border=\"1\" class=\"dataframe\">\n",
       "  <thead>\n",
       "    <tr style=\"text-align: left;\">\n",
       "      <th>epoch</th>\n",
       "      <th>train_loss</th>\n",
       "      <th>valid_loss</th>\n",
       "      <th>accuracy</th>\n",
       "      <th>precision_score</th>\n",
       "      <th>recall_score</th>\n",
       "      <th>f1_score</th>\n",
       "      <th>roc_auc_score</th>\n",
       "      <th>time</th>\n",
       "    </tr>\n",
       "  </thead>\n",
       "  <tbody>\n",
       "    <tr>\n",
       "      <td>0</td>\n",
       "      <td>0.540278</td>\n",
       "      <td>0.285551</td>\n",
       "      <td>0.758974</td>\n",
       "      <td>0.795322</td>\n",
       "      <td>0.697436</td>\n",
       "      <td>0.743169</td>\n",
       "      <td>0.839563</td>\n",
       "      <td>01:47</td>\n",
       "    </tr>\n",
       "    <tr>\n",
       "      <td>1</td>\n",
       "      <td>0.469716</td>\n",
       "      <td>0.241081</td>\n",
       "      <td>0.800000</td>\n",
       "      <td>0.854545</td>\n",
       "      <td>0.723077</td>\n",
       "      <td>0.783333</td>\n",
       "      <td>0.870888</td>\n",
       "      <td>01:45</td>\n",
       "    </tr>\n",
       "    <tr>\n",
       "      <td>2</td>\n",
       "      <td>0.433275</td>\n",
       "      <td>0.218485</td>\n",
       "      <td>0.788462</td>\n",
       "      <td>0.833828</td>\n",
       "      <td>0.720513</td>\n",
       "      <td>0.773040</td>\n",
       "      <td>0.880769</td>\n",
       "      <td>01:42</td>\n",
       "    </tr>\n",
       "    <tr>\n",
       "      <td>3</td>\n",
       "      <td>0.391097</td>\n",
       "      <td>0.174204</td>\n",
       "      <td>0.806410</td>\n",
       "      <td>0.852507</td>\n",
       "      <td>0.741026</td>\n",
       "      <td>0.792867</td>\n",
       "      <td>0.895927</td>\n",
       "      <td>01:47</td>\n",
       "    </tr>\n",
       "    <tr>\n",
       "      <td>4</td>\n",
       "      <td>0.354607</td>\n",
       "      <td>0.170699</td>\n",
       "      <td>0.794872</td>\n",
       "      <td>0.809140</td>\n",
       "      <td>0.771795</td>\n",
       "      <td>0.790026</td>\n",
       "      <td>0.885299</td>\n",
       "      <td>01:48</td>\n",
       "    </tr>\n",
       "    <tr>\n",
       "      <td>5</td>\n",
       "      <td>0.320646</td>\n",
       "      <td>0.161048</td>\n",
       "      <td>0.817949</td>\n",
       "      <td>0.873494</td>\n",
       "      <td>0.743590</td>\n",
       "      <td>0.803324</td>\n",
       "      <td>0.905076</td>\n",
       "      <td>01:48</td>\n",
       "    </tr>\n",
       "    <tr>\n",
       "      <td>6</td>\n",
       "      <td>0.294335</td>\n",
       "      <td>0.155075</td>\n",
       "      <td>0.803846</td>\n",
       "      <td>0.822888</td>\n",
       "      <td>0.774359</td>\n",
       "      <td>0.797886</td>\n",
       "      <td>0.889977</td>\n",
       "      <td>01:49</td>\n",
       "    </tr>\n",
       "    <tr>\n",
       "      <td>7</td>\n",
       "      <td>0.261627</td>\n",
       "      <td>0.126275</td>\n",
       "      <td>0.814103</td>\n",
       "      <td>0.851003</td>\n",
       "      <td>0.761538</td>\n",
       "      <td>0.803789</td>\n",
       "      <td>0.906953</td>\n",
       "      <td>01:49</td>\n",
       "    </tr>\n",
       "    <tr>\n",
       "      <td>8</td>\n",
       "      <td>0.236913</td>\n",
       "      <td>0.124806</td>\n",
       "      <td>0.817949</td>\n",
       "      <td>0.848315</td>\n",
       "      <td>0.774359</td>\n",
       "      <td>0.809651</td>\n",
       "      <td>0.912426</td>\n",
       "      <td>01:49</td>\n",
       "    </tr>\n",
       "    <tr>\n",
       "      <td>9</td>\n",
       "      <td>0.219632</td>\n",
       "      <td>0.115412</td>\n",
       "      <td>0.825641</td>\n",
       "      <td>0.864943</td>\n",
       "      <td>0.771795</td>\n",
       "      <td>0.815718</td>\n",
       "      <td>0.905141</td>\n",
       "      <td>01:48</td>\n",
       "    </tr>\n",
       "    <tr>\n",
       "      <td>10</td>\n",
       "      <td>0.196500</td>\n",
       "      <td>0.106185</td>\n",
       "      <td>0.833333</td>\n",
       "      <td>0.867232</td>\n",
       "      <td>0.787179</td>\n",
       "      <td>0.825269</td>\n",
       "      <td>0.917607</td>\n",
       "      <td>01:45</td>\n",
       "    </tr>\n",
       "    <tr>\n",
       "      <td>11</td>\n",
       "      <td>0.173514</td>\n",
       "      <td>0.095917</td>\n",
       "      <td>0.843590</td>\n",
       "      <td>0.889535</td>\n",
       "      <td>0.784615</td>\n",
       "      <td>0.833787</td>\n",
       "      <td>0.932028</td>\n",
       "      <td>01:45</td>\n",
       "    </tr>\n",
       "    <tr>\n",
       "      <td>12</td>\n",
       "      <td>0.160828</td>\n",
       "      <td>0.100022</td>\n",
       "      <td>0.839744</td>\n",
       "      <td>0.895522</td>\n",
       "      <td>0.769231</td>\n",
       "      <td>0.827586</td>\n",
       "      <td>0.921509</td>\n",
       "      <td>01:48</td>\n",
       "    </tr>\n",
       "    <tr>\n",
       "      <td>13</td>\n",
       "      <td>0.149179</td>\n",
       "      <td>0.101432</td>\n",
       "      <td>0.826923</td>\n",
       "      <td>0.843666</td>\n",
       "      <td>0.802564</td>\n",
       "      <td>0.822602</td>\n",
       "      <td>0.917909</td>\n",
       "      <td>01:49</td>\n",
       "    </tr>\n",
       "    <tr>\n",
       "      <td>14</td>\n",
       "      <td>0.136416</td>\n",
       "      <td>0.087837</td>\n",
       "      <td>0.844872</td>\n",
       "      <td>0.921630</td>\n",
       "      <td>0.753846</td>\n",
       "      <td>0.829337</td>\n",
       "      <td>0.937120</td>\n",
       "      <td>01:49</td>\n",
       "    </tr>\n",
       "    <tr>\n",
       "      <td>15</td>\n",
       "      <td>0.126970</td>\n",
       "      <td>0.094652</td>\n",
       "      <td>0.835897</td>\n",
       "      <td>0.889881</td>\n",
       "      <td>0.766667</td>\n",
       "      <td>0.823691</td>\n",
       "      <td>0.932074</td>\n",
       "      <td>01:48</td>\n",
       "    </tr>\n",
       "    <tr>\n",
       "      <td>16</td>\n",
       "      <td>0.113742</td>\n",
       "      <td>0.088244</td>\n",
       "      <td>0.843590</td>\n",
       "      <td>0.889535</td>\n",
       "      <td>0.784615</td>\n",
       "      <td>0.833787</td>\n",
       "      <td>0.932676</td>\n",
       "      <td>01:49</td>\n",
       "    </tr>\n",
       "    <tr>\n",
       "      <td>17</td>\n",
       "      <td>0.105914</td>\n",
       "      <td>0.090824</td>\n",
       "      <td>0.841026</td>\n",
       "      <td>0.882184</td>\n",
       "      <td>0.787179</td>\n",
       "      <td>0.831978</td>\n",
       "      <td>0.935007</td>\n",
       "      <td>01:49</td>\n",
       "    </tr>\n",
       "    <tr>\n",
       "      <td>18</td>\n",
       "      <td>0.100938</td>\n",
       "      <td>0.085750</td>\n",
       "      <td>0.843590</td>\n",
       "      <td>0.872222</td>\n",
       "      <td>0.805128</td>\n",
       "      <td>0.837333</td>\n",
       "      <td>0.935381</td>\n",
       "      <td>01:47</td>\n",
       "    </tr>\n",
       "    <tr>\n",
       "      <td>19</td>\n",
       "      <td>0.095127</td>\n",
       "      <td>0.089317</td>\n",
       "      <td>0.855128</td>\n",
       "      <td>0.873315</td>\n",
       "      <td>0.830769</td>\n",
       "      <td>0.851511</td>\n",
       "      <td>0.935362</td>\n",
       "      <td>01:48</td>\n",
       "    </tr>\n",
       "    <tr>\n",
       "      <td>20</td>\n",
       "      <td>0.089297</td>\n",
       "      <td>0.092688</td>\n",
       "      <td>0.844872</td>\n",
       "      <td>0.887608</td>\n",
       "      <td>0.789744</td>\n",
       "      <td>0.835821</td>\n",
       "      <td>0.927311</td>\n",
       "      <td>01:48</td>\n",
       "    </tr>\n",
       "    <tr>\n",
       "      <td>21</td>\n",
       "      <td>0.085005</td>\n",
       "      <td>0.083075</td>\n",
       "      <td>0.857692</td>\n",
       "      <td>0.913947</td>\n",
       "      <td>0.789744</td>\n",
       "      <td>0.847318</td>\n",
       "      <td>0.942745</td>\n",
       "      <td>01:48</td>\n",
       "    </tr>\n",
       "    <tr>\n",
       "      <td>22</td>\n",
       "      <td>0.080200</td>\n",
       "      <td>0.082278</td>\n",
       "      <td>0.861538</td>\n",
       "      <td>0.877005</td>\n",
       "      <td>0.841026</td>\n",
       "      <td>0.858639</td>\n",
       "      <td>0.941709</td>\n",
       "      <td>01:48</td>\n",
       "    </tr>\n",
       "    <tr>\n",
       "      <td>23</td>\n",
       "      <td>0.076489</td>\n",
       "      <td>0.085198</td>\n",
       "      <td>0.870513</td>\n",
       "      <td>0.867684</td>\n",
       "      <td>0.874359</td>\n",
       "      <td>0.871009</td>\n",
       "      <td>0.940339</td>\n",
       "      <td>01:48</td>\n",
       "    </tr>\n",
       "    <tr>\n",
       "      <td>24</td>\n",
       "      <td>0.071420</td>\n",
       "      <td>0.081174</td>\n",
       "      <td>0.869231</td>\n",
       "      <td>0.889189</td>\n",
       "      <td>0.843590</td>\n",
       "      <td>0.865789</td>\n",
       "      <td>0.946473</td>\n",
       "      <td>01:48</td>\n",
       "    </tr>\n",
       "    <tr>\n",
       "      <td>25</td>\n",
       "      <td>0.069878</td>\n",
       "      <td>0.090766</td>\n",
       "      <td>0.848718</td>\n",
       "      <td>0.895349</td>\n",
       "      <td>0.789744</td>\n",
       "      <td>0.839237</td>\n",
       "      <td>0.934638</td>\n",
       "      <td>01:47</td>\n",
       "    </tr>\n",
       "    <tr>\n",
       "      <td>26</td>\n",
       "      <td>0.067489</td>\n",
       "      <td>0.085669</td>\n",
       "      <td>0.855128</td>\n",
       "      <td>0.903790</td>\n",
       "      <td>0.794872</td>\n",
       "      <td>0.845839</td>\n",
       "      <td>0.943823</td>\n",
       "      <td>01:48</td>\n",
       "    </tr>\n",
       "    <tr>\n",
       "      <td>27</td>\n",
       "      <td>0.067597</td>\n",
       "      <td>0.083420</td>\n",
       "      <td>0.875641</td>\n",
       "      <td>0.908078</td>\n",
       "      <td>0.835897</td>\n",
       "      <td>0.870494</td>\n",
       "      <td>0.944898</td>\n",
       "      <td>01:48</td>\n",
       "    </tr>\n",
       "    <tr>\n",
       "      <td>28</td>\n",
       "      <td>0.067021</td>\n",
       "      <td>0.086557</td>\n",
       "      <td>0.870513</td>\n",
       "      <td>0.902507</td>\n",
       "      <td>0.830769</td>\n",
       "      <td>0.865154</td>\n",
       "      <td>0.939063</td>\n",
       "      <td>01:48</td>\n",
       "    </tr>\n",
       "    <tr>\n",
       "      <td>29</td>\n",
       "      <td>0.063677</td>\n",
       "      <td>0.086675</td>\n",
       "      <td>0.865385</td>\n",
       "      <td>0.872063</td>\n",
       "      <td>0.856410</td>\n",
       "      <td>0.864166</td>\n",
       "      <td>0.942909</td>\n",
       "      <td>01:47</td>\n",
       "    </tr>\n",
       "  </tbody>\n",
       "</table>"
      ],
      "text/plain": [
       "<IPython.core.display.HTML object>"
      ]
     },
     "metadata": {},
     "output_type": "display_data"
    },
    {
     "name": "stdout",
     "output_type": "stream",
     "text": [
      "Better model found at epoch 0 with f1_score value: 0.7431693989071038.\n"
     ]
    },
    {
     "data": {
      "image/png": "[encoded data removed]",
      "text/plain": [
       "<Figure size 432x288 with 1 Axes>"
      ]
     },
     "metadata": {},
     "output_type": "display_data"
    },
    {
     "name": "stdout",
     "output_type": "stream",
     "text": [
      "Better model found at epoch 1 with f1_score value: 0.7833333333333332.\n",
      "Better model found at epoch 3 with f1_score value: 0.7928669410150893.\n",
      "Better model found at epoch 5 with f1_score value: 0.8033240997229917.\n",
      "Better model found at epoch 7 with f1_score value: 0.8037889039242219.\n",
      "Better model found at epoch 8 with f1_score value: 0.8096514745308311.\n",
      "Better model found at epoch 9 with f1_score value: 0.8157181571815718.\n",
      "Better model found at epoch 10 with f1_score value: 0.825268817204301.\n",
      "Better model found at epoch 11 with f1_score value: 0.8337874659400544.\n",
      "Better model found at epoch 18 with f1_score value: 0.8373333333333333.\n",
      "Better model found at epoch 19 with f1_score value: 0.8515111695137977.\n",
      "Better model found at epoch 22 with f1_score value: 0.8586387434554973.\n",
      "Better model found at epoch 23 with f1_score value: 0.8710089399744574.\n",
      "No improvement since epoch 24: early stopping\n"
     ]
    }
   ],
   "source": [
    "learn.fine_tune(100,base_lr=1e-3)"
   ]
  },
  {
   "cell_type": "code",
   "execution_count": 12,
   "metadata": {},
   "outputs": [],
   "source": [
    "dfTest = pd.read_csv('../testSample.csv')"
   ]
  },
  {
   "cell_type": "code",
   "execution_count": 13,
   "metadata": {},
   "outputs": [],
   "source": [
    "def is_test(path):\n",
    "    name = path[1]\n",
    "    return (dfTest[dfTest['nombre_foto']==name])['set'].values[0]=='test'"
   ]
  },
  {
   "cell_type": "code",
   "execution_count": 14,
   "metadata": {},
   "outputs": [],
   "source": [
    "dbTest = DataBlock(blocks = (ImageBlock, CategoryBlock),\n",
    "                 splitter=FuncSplitter(is_test),\n",
    "                 get_x = ColReader(1,pref=\"../amd/\"),\n",
    "                 get_y=ColReader(3),\n",
    "                 item_tfms = [Resize(384)], # CropPad(200,200)\n",
    "                 batch_tfms=[*aug_transforms(size=224, min_scale=0.75,do_flip=True,flip_vert=True,\n",
    "                      max_rotate=2.,max_zoom=1.1, max_warp=0.05,p_affine=0.9, p_lighting=0.8), \n",
    "                             Normalize.from_stats(*imagenet_stats)])"
   ]
  },
  {
   "cell_type": "code",
   "execution_count": 15,
   "metadata": {},
   "outputs": [],
   "source": [
    "dlsTest = dbTest.dataloaders(dfTest.values,bs=64,num_workers=0)"
   ]
  },
  {
   "cell_type": "code",
   "execution_count": 16,
   "metadata": {},
   "outputs": [],
   "source": [
    "learn.dls = dlsTest"
   ]
  },
  {
   "cell_type": "code",
   "execution_count": 17,
   "metadata": {},
   "outputs": [
    {
     "data": {
      "text/html": [],
      "text/plain": [
       "<IPython.core.display.HTML object>"
      ]
     },
     "metadata": {},
     "output_type": "display_data"
    },
    {
     "name": "stdout",
     "output_type": "stream",
     "text": [
      "Better model found at epoch 0 with f1_score value: 0.9614106508875738.\n"
     ]
    },
    {
     "data": {
      "text/plain": [
       "(#6) [0.0736546516418457,0.9005128145217896,0.9149840595111584,0.8830769230769231,0.8987473903966596,0.9614106508875738]"
      ]
     },
     "execution_count": 17,
     "metadata": {},
     "output_type": "execute_result"
    }
   ],
   "source": [
    "learn.validate()"
   ]
  },
  {
   "cell_type": "markdown",
   "metadata": {},
   "source": [
    "# 384"
   ]
  },
  {
   "cell_type": "code",
   "execution_count": 18,
   "metadata": {},
   "outputs": [],
   "source": [
    "import torch\n",
    "callbacks = [\n",
    "    ShowGraphCallback(),\n",
    "    EarlyStoppingCallback(patience=5),\n",
    "    SaveModelCallback(fname='resnet50_384_c',monitor='f1_score'),\n",
    "    #ReduceLROnPlateau(patience=2)\n",
    "]"
   ]
  },
  {
   "cell_type": "code",
   "execution_count": 19,
   "metadata": {},
   "outputs": [],
   "source": [
    "db = DataBlock(blocks = (ImageBlock, CategoryBlock),\n",
    "                 splitter=FuncSplitter(is_valid),\n",
    "                 get_x = ColReader(1,pref=\"../amd/\"),\n",
    "                 get_y=ColReader(3),\n",
    "                 item_tfms = [Resize(512),AlbumentationsTransform(transform[0])], # CropPad(200,200)\n",
    "                 batch_tfms=[*aug_transforms(size=384, min_scale=0.75,do_flip=True,flip_vert=True,\n",
    "                      max_rotate=2.,max_zoom=1.1, max_warp=0.05,p_affine=0.9, p_lighting=0.8), \n",
    "                             Normalize.from_stats(*imagenet_stats)])"
   ]
  },
  {
   "cell_type": "code",
   "execution_count": 20,
   "metadata": {},
   "outputs": [],
   "source": [
    "dls = db.dataloaders(df.values,bs=32,num_workers=0)"
   ]
  },
  {
   "cell_type": "code",
   "execution_count": 21,
   "metadata": {},
   "outputs": [],
   "source": [
    "learn = cnn_learner(dls,resnet50,\n",
    "                metrics=[accuracy,Precision(),Recall(),F1Score(),RocAucBinary()],\n",
    "                cbs=callbacks,\n",
    "                loss_func= FocalLossFlat()).to_fp16()"
   ]
  },
  {
   "cell_type": "code",
   "execution_count": 22,
   "metadata": {},
   "outputs": [
    {
     "name": "stderr",
     "output_type": "stream",
     "text": [
      "/home/jonathan/.virtualenvs/segmentation/lib/python3.6/site-packages/fastai/learner.py:56: UserWarning: Saved filed doesn't contain an optimizer state.\n",
      "  elif with_opt: warn(\"Saved filed doesn't contain an optimizer state.\")\n"
     ]
    },
    {
     "data": {
      "text/plain": [
       "<fastai.learner.Learner at 0x7ff7385e12b0>"
      ]
     },
     "execution_count": 22,
     "metadata": {},
     "output_type": "execute_result"
    }
   ],
   "source": [
    "learn.load('resnet_224_c')"
   ]
  },
  {
   "cell_type": "code",
   "execution_count": 23,
   "metadata": {},
   "outputs": [
    {
     "data": {
      "text/html": [],
      "text/plain": [
       "<IPython.core.display.HTML object>"
      ]
     },
     "metadata": {},
     "output_type": "display_data"
    },
    {
     "data": {
      "text/plain": [
       "SuggestedLRs(valley=0.0002290867705596611)"
      ]
     },
     "execution_count": 23,
     "metadata": {},
     "output_type": "execute_result"
    },
    {
     "data": {
      "image/png": "[encoded data removed]",
      "text/plain": [
       "<Figure size 432x288 with 1 Axes>"
      ]
     },
     "metadata": {
      "needs_background": "light"
     },
     "output_type": "display_data"
    }
   ],
   "source": [
    "learn.lr_find()"
   ]
  },
  {
   "cell_type": "code",
   "execution_count": 24,
   "metadata": {},
   "outputs": [
    {
     "data": {
      "text/html": [
       "<table border=\"1\" class=\"dataframe\">\n",
       "  <thead>\n",
       "    <tr style=\"text-align: left;\">\n",
       "      <th>epoch</th>\n",
       "      <th>train_loss</th>\n",
       "      <th>valid_loss</th>\n",
       "      <th>accuracy</th>\n",
       "      <th>precision_score</th>\n",
       "      <th>recall_score</th>\n",
       "      <th>f1_score</th>\n",
       "      <th>roc_auc_score</th>\n",
       "      <th>time</th>\n",
       "    </tr>\n",
       "  </thead>\n",
       "  <tbody>\n",
       "    <tr>\n",
       "      <td>0</td>\n",
       "      <td>0.139962</td>\n",
       "      <td>0.112070</td>\n",
       "      <td>0.821795</td>\n",
       "      <td>0.890966</td>\n",
       "      <td>0.733333</td>\n",
       "      <td>0.804501</td>\n",
       "      <td>0.914241</td>\n",
       "      <td>02:04</td>\n",
       "    </tr>\n",
       "  </tbody>\n",
       "</table>"
      ],
      "text/plain": [
       "<IPython.core.display.HTML object>"
      ]
     },
     "metadata": {},
     "output_type": "display_data"
    },
    {
     "name": "stdout",
     "output_type": "stream",
     "text": [
      "Better model found at epoch 0 with f1_score value: 0.8045007032348803.\n"
     ]
    },
    {
     "data": {
      "image/png": "[encoded data removed]",
      "text/plain": [
       "<Figure size 432x288 with 1 Axes>"
      ]
     },
     "metadata": {},
     "output_type": "display_data"
    },
    {
     "data": {
      "text/html": [
       "<table border=\"1\" class=\"dataframe\">\n",
       "  <thead>\n",
       "    <tr style=\"text-align: left;\">\n",
       "      <th>epoch</th>\n",
       "      <th>train_loss</th>\n",
       "      <th>valid_loss</th>\n",
       "      <th>accuracy</th>\n",
       "      <th>precision_score</th>\n",
       "      <th>recall_score</th>\n",
       "      <th>f1_score</th>\n",
       "      <th>roc_auc_score</th>\n",
       "      <th>time</th>\n",
       "    </tr>\n",
       "  </thead>\n",
       "  <tbody>\n",
       "    <tr>\n",
       "      <td>0</td>\n",
       "      <td>0.099323</td>\n",
       "      <td>0.089000</td>\n",
       "      <td>0.870513</td>\n",
       "      <td>0.900277</td>\n",
       "      <td>0.833333</td>\n",
       "      <td>0.865513</td>\n",
       "      <td>0.936456</td>\n",
       "      <td>02:15</td>\n",
       "    </tr>\n",
       "    <tr>\n",
       "      <td>1</td>\n",
       "      <td>0.097607</td>\n",
       "      <td>0.085978</td>\n",
       "      <td>0.861538</td>\n",
       "      <td>0.898305</td>\n",
       "      <td>0.815385</td>\n",
       "      <td>0.854839</td>\n",
       "      <td>0.942617</td>\n",
       "      <td>02:15</td>\n",
       "    </tr>\n",
       "    <tr>\n",
       "      <td>2</td>\n",
       "      <td>0.097365</td>\n",
       "      <td>0.094279</td>\n",
       "      <td>0.857692</td>\n",
       "      <td>0.904348</td>\n",
       "      <td>0.800000</td>\n",
       "      <td>0.848980</td>\n",
       "      <td>0.938879</td>\n",
       "      <td>02:15</td>\n",
       "    </tr>\n",
       "    <tr>\n",
       "      <td>3</td>\n",
       "      <td>0.087900</td>\n",
       "      <td>0.082773</td>\n",
       "      <td>0.860256</td>\n",
       "      <td>0.904899</td>\n",
       "      <td>0.805128</td>\n",
       "      <td>0.852103</td>\n",
       "      <td>0.946660</td>\n",
       "      <td>02:15</td>\n",
       "    </tr>\n",
       "    <tr>\n",
       "      <td>4</td>\n",
       "      <td>0.081987</td>\n",
       "      <td>0.084710</td>\n",
       "      <td>0.870513</td>\n",
       "      <td>0.902507</td>\n",
       "      <td>0.830769</td>\n",
       "      <td>0.865154</td>\n",
       "      <td>0.938609</td>\n",
       "      <td>02:14</td>\n",
       "    </tr>\n",
       "    <tr>\n",
       "      <td>5</td>\n",
       "      <td>0.076521</td>\n",
       "      <td>0.081743</td>\n",
       "      <td>0.874359</td>\n",
       "      <td>0.892473</td>\n",
       "      <td>0.851282</td>\n",
       "      <td>0.871391</td>\n",
       "      <td>0.947771</td>\n",
       "      <td>02:15</td>\n",
       "    </tr>\n",
       "    <tr>\n",
       "      <td>6</td>\n",
       "      <td>0.082469</td>\n",
       "      <td>0.084569</td>\n",
       "      <td>0.865385</td>\n",
       "      <td>0.840095</td>\n",
       "      <td>0.902564</td>\n",
       "      <td>0.870210</td>\n",
       "      <td>0.948419</td>\n",
       "      <td>02:15</td>\n",
       "    </tr>\n",
       "    <tr>\n",
       "      <td>7</td>\n",
       "      <td>0.076894</td>\n",
       "      <td>0.088662</td>\n",
       "      <td>0.861538</td>\n",
       "      <td>0.885246</td>\n",
       "      <td>0.830769</td>\n",
       "      <td>0.857143</td>\n",
       "      <td>0.937975</td>\n",
       "      <td>02:15</td>\n",
       "    </tr>\n",
       "    <tr>\n",
       "      <td>8</td>\n",
       "      <td>0.082913</td>\n",
       "      <td>0.083835</td>\n",
       "      <td>0.870513</td>\n",
       "      <td>0.916427</td>\n",
       "      <td>0.815385</td>\n",
       "      <td>0.862958</td>\n",
       "      <td>0.950736</td>\n",
       "      <td>02:15</td>\n",
       "    </tr>\n",
       "    <tr>\n",
       "      <td>9</td>\n",
       "      <td>0.080916</td>\n",
       "      <td>0.080276</td>\n",
       "      <td>0.853846</td>\n",
       "      <td>0.877049</td>\n",
       "      <td>0.823077</td>\n",
       "      <td>0.849206</td>\n",
       "      <td>0.944885</td>\n",
       "      <td>02:15</td>\n",
       "    </tr>\n",
       "    <tr>\n",
       "      <td>10</td>\n",
       "      <td>0.083868</td>\n",
       "      <td>0.085395</td>\n",
       "      <td>0.855128</td>\n",
       "      <td>0.885794</td>\n",
       "      <td>0.815385</td>\n",
       "      <td>0.849132</td>\n",
       "      <td>0.941101</td>\n",
       "      <td>02:14</td>\n",
       "    </tr>\n",
       "    <tr>\n",
       "      <td>11</td>\n",
       "      <td>0.079082</td>\n",
       "      <td>0.078358</td>\n",
       "      <td>0.875641</td>\n",
       "      <td>0.890667</td>\n",
       "      <td>0.856410</td>\n",
       "      <td>0.873203</td>\n",
       "      <td>0.947265</td>\n",
       "      <td>02:14</td>\n",
       "    </tr>\n",
       "    <tr>\n",
       "      <td>12</td>\n",
       "      <td>0.080263</td>\n",
       "      <td>0.121953</td>\n",
       "      <td>0.842308</td>\n",
       "      <td>0.832918</td>\n",
       "      <td>0.856410</td>\n",
       "      <td>0.844501</td>\n",
       "      <td>0.913126</td>\n",
       "      <td>02:14</td>\n",
       "    </tr>\n",
       "    <tr>\n",
       "      <td>13</td>\n",
       "      <td>0.081963</td>\n",
       "      <td>0.070947</td>\n",
       "      <td>0.884615</td>\n",
       "      <td>0.905405</td>\n",
       "      <td>0.858974</td>\n",
       "      <td>0.881579</td>\n",
       "      <td>0.956479</td>\n",
       "      <td>02:15</td>\n",
       "    </tr>\n",
       "    <tr>\n",
       "      <td>14</td>\n",
       "      <td>0.078263</td>\n",
       "      <td>0.089445</td>\n",
       "      <td>0.857692</td>\n",
       "      <td>0.886427</td>\n",
       "      <td>0.820513</td>\n",
       "      <td>0.852197</td>\n",
       "      <td>0.935095</td>\n",
       "      <td>02:14</td>\n",
       "    </tr>\n",
       "    <tr>\n",
       "      <td>15</td>\n",
       "      <td>0.084625</td>\n",
       "      <td>0.088860</td>\n",
       "      <td>0.850000</td>\n",
       "      <td>0.927900</td>\n",
       "      <td>0.758974</td>\n",
       "      <td>0.834979</td>\n",
       "      <td>0.944957</td>\n",
       "      <td>02:10</td>\n",
       "    </tr>\n",
       "    <tr>\n",
       "      <td>16</td>\n",
       "      <td>0.079230</td>\n",
       "      <td>0.090450</td>\n",
       "      <td>0.879487</td>\n",
       "      <td>0.895722</td>\n",
       "      <td>0.858974</td>\n",
       "      <td>0.876963</td>\n",
       "      <td>0.947794</td>\n",
       "      <td>02:09</td>\n",
       "    </tr>\n",
       "    <tr>\n",
       "      <td>17</td>\n",
       "      <td>0.091477</td>\n",
       "      <td>0.100811</td>\n",
       "      <td>0.866667</td>\n",
       "      <td>0.855721</td>\n",
       "      <td>0.882051</td>\n",
       "      <td>0.868687</td>\n",
       "      <td>0.946969</td>\n",
       "      <td>02:09</td>\n",
       "    </tr>\n",
       "    <tr>\n",
       "      <td>18</td>\n",
       "      <td>0.085904</td>\n",
       "      <td>0.081808</td>\n",
       "      <td>0.888462</td>\n",
       "      <td>0.917355</td>\n",
       "      <td>0.853846</td>\n",
       "      <td>0.884462</td>\n",
       "      <td>0.952291</td>\n",
       "      <td>02:09</td>\n",
       "    </tr>\n",
       "  </tbody>\n",
       "</table>"
      ],
      "text/plain": [
       "<IPython.core.display.HTML object>"
      ]
     },
     "metadata": {},
     "output_type": "display_data"
    },
    {
     "name": "stdout",
     "output_type": "stream",
     "text": [
      "Better model found at epoch 0 with f1_score value: 0.8655126498002662.\n"
     ]
    },
    {
     "data": {
      "image/png": "[encoded data removed]",
      "text/plain": [
       "<Figure size 432x288 with 1 Axes>"
      ]
     },
     "metadata": {},
     "output_type": "display_data"
    },
    {
     "name": "stdout",
     "output_type": "stream",
     "text": [
      "Better model found at epoch 5 with f1_score value: 0.8713910761154856.\n",
      "Better model found at epoch 11 with f1_score value: 0.8732026143790849.\n",
      "Better model found at epoch 13 with f1_score value: 0.881578947368421.\n",
      "Better model found at epoch 18 with f1_score value: 0.8844621513944224.\n",
      "No improvement since epoch 13: early stopping\n"
     ]
    }
   ],
   "source": [
    "learn.fine_tune(100,base_lr=3e-3)"
   ]
  },
  {
   "cell_type": "code",
   "execution_count": 25,
   "metadata": {},
   "outputs": [],
   "source": [
    "dfTest = pd.read_csv('../testSample.csv')"
   ]
  },
  {
   "cell_type": "code",
   "execution_count": 26,
   "metadata": {},
   "outputs": [],
   "source": [
    "def is_test(path):\n",
    "    name = path[1]\n",
    "    return (dfTest[dfTest['nombre_foto']==name])['set'].values[0]=='test'"
   ]
  },
  {
   "cell_type": "code",
   "execution_count": 27,
   "metadata": {},
   "outputs": [],
   "source": [
    "dbTest = DataBlock(blocks = (ImageBlock, CategoryBlock),\n",
    "                 splitter=FuncSplitter(is_test),\n",
    "                 get_x = ColReader(1,pref=\"../amd/\"),\n",
    "                 get_y=ColReader(3),\n",
    "                 item_tfms = [Resize(512)], # CropPad(200,200)\n",
    "                 batch_tfms=[*aug_transforms(size=384, min_scale=0.75,do_flip=True,flip_vert=True,\n",
    "                      max_rotate=2.,max_zoom=1.1, max_warp=0.05,p_affine=0.9, p_lighting=0.8), \n",
    "                             Normalize.from_stats(*imagenet_stats)])"
   ]
  },
  {
   "cell_type": "code",
   "execution_count": 28,
   "metadata": {},
   "outputs": [],
   "source": [
    "dlsTest = dbTest.dataloaders(dfTest.values,bs=64,num_workers=0)"
   ]
  },
  {
   "cell_type": "code",
   "execution_count": 29,
   "metadata": {},
   "outputs": [],
   "source": [
    "learn.dls = dlsTest"
   ]
  },
  {
   "cell_type": "code",
   "execution_count": 30,
   "metadata": {},
   "outputs": [
    {
     "data": {
      "text/html": [],
      "text/plain": [
       "<IPython.core.display.HTML object>"
      ]
     },
     "metadata": {},
     "output_type": "display_data"
    },
    {
     "name": "stdout",
     "output_type": "stream",
     "text": [
      "Better model found at epoch 0 with f1_score value: 0.9611939513477975.\n"
     ]
    },
    {
     "data": {
      "text/plain": [
       "(#6) [0.08134358376264572,0.9056410193443298,0.9360529217199559,0.8707692307692307,0.9022316684378321,0.9611939513477975]"
      ]
     },
     "execution_count": 30,
     "metadata": {},
     "output_type": "execute_result"
    }
   ],
   "source": [
    "learn.validate()"
   ]
  },
  {
   "cell_type": "markdown",
   "metadata": {},
   "source": [
    "# 512"
   ]
  },
  {
   "cell_type": "code",
   "execution_count": 31,
   "metadata": {},
   "outputs": [],
   "source": [
    "import torch\n",
    "callbacks = [\n",
    "    ShowGraphCallback(),\n",
    "    EarlyStoppingCallback(patience=5),\n",
    "    SaveModelCallback(fname='resnet50_512_c',monitor='f1_score'),\n",
    "    #ReduceLROnPlateau(patience=2)\n",
    "]"
   ]
  },
  {
   "cell_type": "code",
   "execution_count": 32,
   "metadata": {},
   "outputs": [],
   "source": [
    "db = DataBlock(blocks = (ImageBlock, CategoryBlock),\n",
    "                 splitter=FuncSplitter(is_valid),\n",
    "                 get_x = ColReader(1,pref=\"../amd/\"),\n",
    "                 get_y=ColReader(3),\n",
    "                 item_tfms = [Resize(640),AlbumentationsTransform(transform[0])], # CropPad(200,200)\n",
    "                 batch_tfms=[*aug_transforms(size=512, min_scale=0.75,do_flip=True,flip_vert=True,\n",
    "                      max_rotate=2.,max_zoom=1.1, max_warp=0.05,p_affine=0.9, p_lighting=0.8), \n",
    "                             Normalize.from_stats(*imagenet_stats)])"
   ]
  },
  {
   "cell_type": "code",
   "execution_count": 33,
   "metadata": {},
   "outputs": [],
   "source": [
    "dls = db.dataloaders(df.values,bs=8,num_workers=0)"
   ]
  },
  {
   "cell_type": "code",
   "execution_count": 34,
   "metadata": {},
   "outputs": [],
   "source": [
    "learn = cnn_learner(dls,resnet50,\n",
    "                metrics=[accuracy,Precision(),Recall(),F1Score(),RocAucBinary()],\n",
    "                cbs=callbacks,\n",
    "                loss_func= FocalLossFlat()).to_fp16()"
   ]
  },
  {
   "cell_type": "code",
   "execution_count": 35,
   "metadata": {},
   "outputs": [
    {
     "name": "stderr",
     "output_type": "stream",
     "text": [
      "/home/jonathan/.virtualenvs/segmentation/lib/python3.6/site-packages/fastai/learner.py:56: UserWarning: Saved filed doesn't contain an optimizer state.\n",
      "  elif with_opt: warn(\"Saved filed doesn't contain an optimizer state.\")\n"
     ]
    },
    {
     "data": {
      "text/plain": [
       "<fastai.learner.Learner at 0x7ff742ea1748>"
      ]
     },
     "execution_count": 35,
     "metadata": {},
     "output_type": "execute_result"
    }
   ],
   "source": [
    "learn.load('resnet50_384_c')"
   ]
  },
  {
   "cell_type": "code",
   "execution_count": 36,
   "metadata": {},
   "outputs": [
    {
     "data": {
      "text/html": [],
      "text/plain": [
       "<IPython.core.display.HTML object>"
      ]
     },
     "metadata": {},
     "output_type": "display_data"
    },
    {
     "data": {
      "text/plain": [
       "SuggestedLRs(valley=4.786300905834651e-06)"
      ]
     },
     "execution_count": 36,
     "metadata": {},
     "output_type": "execute_result"
    },
    {
     "data": {
      "image/png": "[encoded data removed]",
      "text/plain": [
       "<Figure size 432x288 with 1 Axes>"
      ]
     },
     "metadata": {
      "needs_background": "light"
     },
     "output_type": "display_data"
    }
   ],
   "source": [
    "learn.lr_find()"
   ]
  },
  {
   "cell_type": "code",
   "execution_count": 37,
   "metadata": {},
   "outputs": [
    {
     "data": {
      "text/html": [
       "<table border=\"1\" class=\"dataframe\">\n",
       "  <thead>\n",
       "    <tr style=\"text-align: left;\">\n",
       "      <th>epoch</th>\n",
       "      <th>train_loss</th>\n",
       "      <th>valid_loss</th>\n",
       "      <th>accuracy</th>\n",
       "      <th>precision_score</th>\n",
       "      <th>recall_score</th>\n",
       "      <th>f1_score</th>\n",
       "      <th>roc_auc_score</th>\n",
       "      <th>time</th>\n",
       "    </tr>\n",
       "  </thead>\n",
       "  <tbody>\n",
       "    <tr>\n",
       "      <td>0</td>\n",
       "      <td>0.185298</td>\n",
       "      <td>0.118845</td>\n",
       "      <td>0.862821</td>\n",
       "      <td>0.826790</td>\n",
       "      <td>0.917949</td>\n",
       "      <td>0.869988</td>\n",
       "      <td>0.936907</td>\n",
       "      <td>03:26</td>\n",
       "    </tr>\n",
       "  </tbody>\n",
       "</table>"
      ],
      "text/plain": [
       "<IPython.core.display.HTML object>"
      ]
     },
     "metadata": {},
     "output_type": "display_data"
    },
    {
     "name": "stdout",
     "output_type": "stream",
     "text": [
      "Better model found at epoch 0 with f1_score value: 0.8699878493317132.\n"
     ]
    },
    {
     "data": {
      "image/png": "[encoded data removed]",
      "text/plain": [
       "<Figure size 432x288 with 1 Axes>"
      ]
     },
     "metadata": {},
     "output_type": "display_data"
    },
    {
     "data": {
      "text/html": [
       "<table border=\"1\" class=\"dataframe\">\n",
       "  <thead>\n",
       "    <tr style=\"text-align: left;\">\n",
       "      <th>epoch</th>\n",
       "      <th>train_loss</th>\n",
       "      <th>valid_loss</th>\n",
       "      <th>accuracy</th>\n",
       "      <th>precision_score</th>\n",
       "      <th>recall_score</th>\n",
       "      <th>f1_score</th>\n",
       "      <th>roc_auc_score</th>\n",
       "      <th>time</th>\n",
       "    </tr>\n",
       "  </thead>\n",
       "  <tbody>\n",
       "    <tr>\n",
       "      <td>0</td>\n",
       "      <td>0.120041</td>\n",
       "      <td>0.074590</td>\n",
       "      <td>0.880769</td>\n",
       "      <td>0.887728</td>\n",
       "      <td>0.871795</td>\n",
       "      <td>0.879690</td>\n",
       "      <td>0.952597</td>\n",
       "      <td>03:57</td>\n",
       "    </tr>\n",
       "    <tr>\n",
       "      <td>1</td>\n",
       "      <td>0.125028</td>\n",
       "      <td>0.171015</td>\n",
       "      <td>0.803846</td>\n",
       "      <td>0.773672</td>\n",
       "      <td>0.858974</td>\n",
       "      <td>0.814095</td>\n",
       "      <td>0.872991</td>\n",
       "      <td>03:57</td>\n",
       "    </tr>\n",
       "    <tr>\n",
       "      <td>2</td>\n",
       "      <td>0.105527</td>\n",
       "      <td>0.087765</td>\n",
       "      <td>0.864103</td>\n",
       "      <td>0.860406</td>\n",
       "      <td>0.869231</td>\n",
       "      <td>0.864796</td>\n",
       "      <td>0.942883</td>\n",
       "      <td>03:56</td>\n",
       "    </tr>\n",
       "    <tr>\n",
       "      <td>3</td>\n",
       "      <td>0.097957</td>\n",
       "      <td>0.076767</td>\n",
       "      <td>0.864103</td>\n",
       "      <td>0.908046</td>\n",
       "      <td>0.810256</td>\n",
       "      <td>0.856369</td>\n",
       "      <td>0.949918</td>\n",
       "      <td>03:56</td>\n",
       "    </tr>\n",
       "    <tr>\n",
       "      <td>4</td>\n",
       "      <td>0.099394</td>\n",
       "      <td>0.084140</td>\n",
       "      <td>0.858974</td>\n",
       "      <td>0.900000</td>\n",
       "      <td>0.807692</td>\n",
       "      <td>0.851351</td>\n",
       "      <td>0.942709</td>\n",
       "      <td>03:55</td>\n",
       "    </tr>\n",
       "    <tr>\n",
       "      <td>5</td>\n",
       "      <td>0.095853</td>\n",
       "      <td>0.077788</td>\n",
       "      <td>0.871795</td>\n",
       "      <td>0.887701</td>\n",
       "      <td>0.851282</td>\n",
       "      <td>0.869110</td>\n",
       "      <td>0.949241</td>\n",
       "      <td>03:54</td>\n",
       "    </tr>\n",
       "  </tbody>\n",
       "</table>"
      ],
      "text/plain": [
       "<IPython.core.display.HTML object>"
      ]
     },
     "metadata": {},
     "output_type": "display_data"
    },
    {
     "name": "stdout",
     "output_type": "stream",
     "text": [
      "Better model found at epoch 0 with f1_score value: 0.8796895213454076.\n"
     ]
    },
    {
     "data": {
      "image/png": "[encoded data removed]",
      "text/plain": [
       "<Figure size 432x288 with 1 Axes>"
      ]
     },
     "metadata": {},
     "output_type": "display_data"
    },
    {
     "name": "stdout",
     "output_type": "stream",
     "text": [
      "No improvement since epoch 0: early stopping\n"
     ]
    }
   ],
   "source": [
    "learn.fine_tune(100,base_lr=3e-3)"
   ]
  },
  {
   "cell_type": "code",
   "execution_count": 38,
   "metadata": {},
   "outputs": [],
   "source": [
    "dfTest = pd.read_csv('../testSample.csv')"
   ]
  },
  {
   "cell_type": "code",
   "execution_count": 39,
   "metadata": {},
   "outputs": [],
   "source": [
    "def is_test(path):\n",
    "    name = path[1]\n",
    "    return (dfTest[dfTest['nombre_foto']==name])['set'].values[0]=='test'"
   ]
  },
  {
   "cell_type": "code",
   "execution_count": 40,
   "metadata": {},
   "outputs": [],
   "source": [
    "dbTest = DataBlock(blocks = (ImageBlock, CategoryBlock),\n",
    "                 splitter=FuncSplitter(is_test),\n",
    "                 get_x = ColReader(1,pref=\"../amd/\"),\n",
    "                 get_y=ColReader(3),\n",
    "                 item_tfms = [Resize(640)], # CropPad(200,200)\n",
    "                 batch_tfms=[*aug_transforms(size=512, min_scale=0.75,do_flip=True,flip_vert=True,\n",
    "                      max_rotate=2.,max_zoom=1.1, max_warp=0.05,p_affine=0.9, p_lighting=0.8), \n",
    "                             Normalize.from_stats(*imagenet_stats)])"
   ]
  },
  {
   "cell_type": "code",
   "execution_count": 41,
   "metadata": {},
   "outputs": [],
   "source": [
    "dlsTest = dbTest.dataloaders(dfTest.values,bs=8,num_workers=0)"
   ]
  },
  {
   "cell_type": "code",
   "execution_count": 42,
   "metadata": {},
   "outputs": [],
   "source": [
    "learn.dls = dlsTest"
   ]
  },
  {
   "cell_type": "code",
   "execution_count": 43,
   "metadata": {},
   "outputs": [
    {
     "data": {
      "text/html": [],
      "text/plain": [
       "<IPython.core.display.HTML object>"
      ]
     },
     "metadata": {},
     "output_type": "display_data"
    },
    {
     "name": "stdout",
     "output_type": "stream",
     "text": [
      "Better model found at epoch 0 with f1_score value: 0.9513940828402367.\n"
     ]
    },
    {
     "data": {
      "text/plain": [
       "(#6) [0.09123686701059341,0.892307698726654,0.8828828828828829,0.9046153846153846,0.8936170212765958,0.9513940828402367]"
      ]
     },
     "execution_count": 43,
     "metadata": {},
     "output_type": "execute_result"
    }
   ],
   "source": [
    "learn.validate()"
   ]
  },
  {
   "cell_type": "code",
   "execution_count": null,
   "metadata": {},
   "outputs": [],
   "source": []
  }
 ],
 "metadata": {
  "kernelspec": {
   "display_name": "Python 3",
   "language": "python",
   "name": "python3"
  },
  "language_info": {
   "codemirror_mode": {
    "name": "ipython",
    "version": 3
   },
   "file_extension": ".py",
   "mimetype": "text/x-python",
   "name": "python",
   "nbconvert_exporter": "python",
   "pygments_lexer": "ipython3",
   "version": "3.6.7"
  }
 },
 "nbformat": 4,
 "nbformat_minor": 4
}
