{
 "cells": [
  {
   "cell_type": "code",
   "execution_count": 1,
   "metadata": {},
   "outputs": [],
   "source": [
    "from fastai.vision.all import *\n",
    "import fastai\n",
    "import timm\n",
    "import torch"
   ]
  },
  {
   "cell_type": "code",
   "execution_count": 2,
   "metadata": {},
   "outputs": [],
   "source": [
    "torch.cuda.set_device(0)"
   ]
  },
  {
   "cell_type": "code",
   "execution_count": 3,
   "metadata": {},
   "outputs": [],
   "source": [
    "df = pd.read_csv('../trainValid.csv')"
   ]
  },
  {
   "cell_type": "code",
   "execution_count": 4,
   "metadata": {},
   "outputs": [
    {
     "data": {
      "text/html": [
       "<div>\n",
       "<style scoped>\n",
       "    .dataframe tbody tr th:only-of-type {\n",
       "        vertical-align: middle;\n",
       "    }\n",
       "\n",
       "    .dataframe tbody tr th {\n",
       "        vertical-align: top;\n",
       "    }\n",
       "\n",
       "    .dataframe thead th {\n",
       "        text-align: right;\n",
       "    }\n",
       "</style>\n",
       "<table border=\"1\" class=\"dataframe\">\n",
       "  <thead>\n",
       "    <tr style=\"text-align: right;\">\n",
       "      <th></th>\n",
       "      <th>Unnamed: 0</th>\n",
       "      <th>nombre_foto</th>\n",
       "      <th>grado de DMAE</th>\n",
       "      <th>binary</th>\n",
       "      <th>set</th>\n",
       "    </tr>\n",
       "  </thead>\n",
       "  <tbody>\n",
       "    <tr>\n",
       "      <th>0</th>\n",
       "      <td>61504</td>\n",
       "      <td>anonymized_231059.jpg</td>\n",
       "      <td>normal</td>\n",
       "      <td>0</td>\n",
       "      <td>training</td>\n",
       "    </tr>\n",
       "    <tr>\n",
       "      <th>1</th>\n",
       "      <td>176989</td>\n",
       "      <td>anonymized_442122.jpg</td>\n",
       "      <td>normal</td>\n",
       "      <td>0</td>\n",
       "      <td>training</td>\n",
       "    </tr>\n",
       "    <tr>\n",
       "      <th>2</th>\n",
       "      <td>133399</td>\n",
       "      <td>anonymized_363034.jpg</td>\n",
       "      <td>normal</td>\n",
       "      <td>0</td>\n",
       "      <td>training</td>\n",
       "    </tr>\n",
       "    <tr>\n",
       "      <th>3</th>\n",
       "      <td>220150</td>\n",
       "      <td>anonymized_519072.jpg</td>\n",
       "      <td>normal</td>\n",
       "      <td>0</td>\n",
       "      <td>training</td>\n",
       "    </tr>\n",
       "    <tr>\n",
       "      <th>4</th>\n",
       "      <td>155853</td>\n",
       "      <td>anonymized_403989.jpg</td>\n",
       "      <td>normal</td>\n",
       "      <td>0</td>\n",
       "      <td>training</td>\n",
       "    </tr>\n",
       "    <tr>\n",
       "      <th>...</th>\n",
       "      <td>...</td>\n",
       "      <td>...</td>\n",
       "      <td>...</td>\n",
       "      <td>...</td>\n",
       "      <td>...</td>\n",
       "    </tr>\n",
       "    <tr>\n",
       "      <th>7797</th>\n",
       "      <td>224854</td>\n",
       "      <td>anonymized_528388.jpg</td>\n",
       "      <td>tardia</td>\n",
       "      <td>1</td>\n",
       "      <td>validation</td>\n",
       "    </tr>\n",
       "    <tr>\n",
       "      <th>7798</th>\n",
       "      <td>225492</td>\n",
       "      <td>anonymized_529721.jpg</td>\n",
       "      <td>intermedia</td>\n",
       "      <td>1</td>\n",
       "      <td>validation</td>\n",
       "    </tr>\n",
       "    <tr>\n",
       "      <th>7799</th>\n",
       "      <td>226322</td>\n",
       "      <td>anonymized_531350.jpg</td>\n",
       "      <td>precoz</td>\n",
       "      <td>1</td>\n",
       "      <td>validation</td>\n",
       "    </tr>\n",
       "    <tr>\n",
       "      <th>7800</th>\n",
       "      <td>227489</td>\n",
       "      <td>anonymized_533460.jpg</td>\n",
       "      <td>tardia</td>\n",
       "      <td>1</td>\n",
       "      <td>validation</td>\n",
       "    </tr>\n",
       "    <tr>\n",
       "      <th>7801</th>\n",
       "      <td>227547</td>\n",
       "      <td>anonymized_533591.jpg</td>\n",
       "      <td>intermedia</td>\n",
       "      <td>1</td>\n",
       "      <td>validation</td>\n",
       "    </tr>\n",
       "  </tbody>\n",
       "</table>\n",
       "<p>7802 rows × 5 columns</p>\n",
       "</div>"
      ],
      "text/plain": [
       "      Unnamed: 0            nombre_foto grado de DMAE  binary         set\n",
       "0          61504  anonymized_231059.jpg        normal       0    training\n",
       "1         176989  anonymized_442122.jpg        normal       0    training\n",
       "2         133399  anonymized_363034.jpg        normal       0    training\n",
       "3         220150  anonymized_519072.jpg        normal       0    training\n",
       "4         155853  anonymized_403989.jpg        normal       0    training\n",
       "...          ...                    ...           ...     ...         ...\n",
       "7797      224854  anonymized_528388.jpg        tardia       1  validation\n",
       "7798      225492  anonymized_529721.jpg    intermedia       1  validation\n",
       "7799      226322  anonymized_531350.jpg        precoz       1  validation\n",
       "7800      227489  anonymized_533460.jpg        tardia       1  validation\n",
       "7801      227547  anonymized_533591.jpg    intermedia       1  validation\n",
       "\n",
       "[7802 rows x 5 columns]"
      ]
     },
     "execution_count": 4,
     "metadata": {},
     "output_type": "execute_result"
    }
   ],
   "source": [
    "df"
   ]
  },
  {
   "cell_type": "code",
   "execution_count": 5,
   "metadata": {},
   "outputs": [],
   "source": [
    "def is_valid(path):\n",
    "    name = path[1]\n",
    "    return (df[df['nombre_foto']==name])['set'].values[0]=='validation'"
   ]
  },
  {
   "cell_type": "markdown",
   "metadata": {},
   "source": [
    "# 224"
   ]
  },
  {
   "cell_type": "code",
   "execution_count": 6,
   "metadata": {},
   "outputs": [],
   "source": [
    "from fastai.vision.all import *\n",
    "callbacks = [\n",
    "    ShowGraphCallback(),\n",
    "    EarlyStoppingCallback(patience=5),\n",
    "    SaveModelCallback(fname='efficientnet_b3_244',monitor='f1_score'),\n",
    "    #ReduceLROnPlateau(patience=2)\n",
    "]"
   ]
  },
  {
   "cell_type": "code",
   "execution_count": 7,
   "metadata": {},
   "outputs": [],
   "source": [
    "db = DataBlock(blocks = (ImageBlock, CategoryBlock),\n",
    "                 splitter=FuncSplitter(is_valid),\n",
    "                 get_x = ColReader(1,pref=\"../amd/\"),\n",
    "                 get_y=ColReader(3),\n",
    "                 item_tfms = [Resize(384)], # CropPad(200,200)\n",
    "                 batch_tfms=[*aug_transforms(size=224, min_scale=0.75,do_flip=True,flip_vert=True,\n",
    "                      max_rotate=2.,max_zoom=1.1, max_warp=0.05,p_affine=0.9, p_lighting=0.8), \n",
    "                             Normalize.from_stats(*imagenet_stats)])"
   ]
  },
  {
   "cell_type": "code",
   "execution_count": 8,
   "metadata": {},
   "outputs": [],
   "source": [
    "dls = db.dataloaders(df.values,bs=64,num_workers=0)"
   ]
  },
  {
   "cell_type": "code",
   "execution_count": 9,
   "metadata": {},
   "outputs": [],
   "source": [
    "learn = Learner(dls,timm.create_model('efficientnet_b3',num_classes=2,pretrained=True,drop_rate=0.5),\n",
    "                metrics=[accuracy,Precision(),Recall(),F1Score(),RocAucBinary()],\n",
    "                cbs=callbacks,\n",
    "                loss_func= FocalLossFlat()).to_fp16()"
   ]
  },
  {
   "cell_type": "code",
   "execution_count": 10,
   "metadata": {
    "scrolled": true
   },
   "outputs": [
    {
     "data": {
      "text/html": [],
      "text/plain": [
       "<IPython.core.display.HTML object>"
      ]
     },
     "metadata": {},
     "output_type": "display_data"
    },
    {
     "data": {
      "text/plain": [
       "SuggestedLRs(valley=0.0006918309954926372)"
      ]
     },
     "execution_count": 10,
     "metadata": {},
     "output_type": "execute_result"
    },
    {
     "data": {
      "image/png": "[encoded data removed]",
      "text/plain": [
       "<Figure size 432x288 with 1 Axes>"
      ]
     },
     "metadata": {
      "needs_background": "light"
     },
     "output_type": "display_data"
    }
   ],
   "source": [
    "learn.lr_find()"
   ]
  },
  {
   "cell_type": "code",
   "execution_count": 11,
   "metadata": {},
   "outputs": [
    {
     "data": {
      "text/html": [
       "<table border=\"1\" class=\"dataframe\">\n",
       "  <thead>\n",
       "    <tr style=\"text-align: left;\">\n",
       "      <th>epoch</th>\n",
       "      <th>train_loss</th>\n",
       "      <th>valid_loss</th>\n",
       "      <th>accuracy</th>\n",
       "      <th>precision_score</th>\n",
       "      <th>recall_score</th>\n",
       "      <th>f1_score</th>\n",
       "      <th>roc_auc_score</th>\n",
       "      <th>time</th>\n",
       "    </tr>\n",
       "  </thead>\n",
       "  <tbody>\n",
       "    <tr>\n",
       "      <td>0</td>\n",
       "      <td>0.871549</td>\n",
       "      <td>0.566812</td>\n",
       "      <td>0.747436</td>\n",
       "      <td>0.674503</td>\n",
       "      <td>0.956410</td>\n",
       "      <td>0.791092</td>\n",
       "      <td>0.923912</td>\n",
       "      <td>01:15</td>\n",
       "    </tr>\n",
       "  </tbody>\n",
       "</table>"
      ],
      "text/plain": [
       "<IPython.core.display.HTML object>"
      ]
     },
     "metadata": {},
     "output_type": "display_data"
    },
    {
     "name": "stdout",
     "output_type": "stream",
     "text": [
      "Better model found at epoch 0 with f1_score value: 0.7910922587486745.\n"
     ]
    },
    {
     "data": {
      "image/png": "[encoded data removed]",
      "text/plain": [
       "<Figure size 432x288 with 1 Axes>"
      ]
     },
     "metadata": {},
     "output_type": "display_data"
    },
    {
     "data": {
      "text/html": [
       "<table border=\"1\" class=\"dataframe\">\n",
       "  <thead>\n",
       "    <tr style=\"text-align: left;\">\n",
       "      <th>epoch</th>\n",
       "      <th>train_loss</th>\n",
       "      <th>valid_loss</th>\n",
       "      <th>accuracy</th>\n",
       "      <th>precision_score</th>\n",
       "      <th>recall_score</th>\n",
       "      <th>f1_score</th>\n",
       "      <th>roc_auc_score</th>\n",
       "      <th>time</th>\n",
       "    </tr>\n",
       "  </thead>\n",
       "  <tbody>\n",
       "    <tr>\n",
       "      <td>0</td>\n",
       "      <td>0.215606</td>\n",
       "      <td>0.168087</td>\n",
       "      <td>0.860256</td>\n",
       "      <td>0.948882</td>\n",
       "      <td>0.761538</td>\n",
       "      <td>0.844950</td>\n",
       "      <td>0.950743</td>\n",
       "      <td>01:15</td>\n",
       "    </tr>\n",
       "    <tr>\n",
       "      <td>1</td>\n",
       "      <td>0.146235</td>\n",
       "      <td>0.086084</td>\n",
       "      <td>0.897436</td>\n",
       "      <td>0.895408</td>\n",
       "      <td>0.900000</td>\n",
       "      <td>0.897698</td>\n",
       "      <td>0.956394</td>\n",
       "      <td>01:14</td>\n",
       "    </tr>\n",
       "    <tr>\n",
       "      <td>2</td>\n",
       "      <td>0.109178</td>\n",
       "      <td>0.124905</td>\n",
       "      <td>0.878205</td>\n",
       "      <td>0.945619</td>\n",
       "      <td>0.802564</td>\n",
       "      <td>0.868239</td>\n",
       "      <td>0.960181</td>\n",
       "      <td>01:16</td>\n",
       "    </tr>\n",
       "    <tr>\n",
       "      <td>3</td>\n",
       "      <td>0.088470</td>\n",
       "      <td>0.209527</td>\n",
       "      <td>0.720513</td>\n",
       "      <td>0.643333</td>\n",
       "      <td>0.989744</td>\n",
       "      <td>0.779798</td>\n",
       "      <td>0.961312</td>\n",
       "      <td>01:15</td>\n",
       "    </tr>\n",
       "    <tr>\n",
       "      <td>4</td>\n",
       "      <td>0.095734</td>\n",
       "      <td>0.146875</td>\n",
       "      <td>0.847436</td>\n",
       "      <td>0.968858</td>\n",
       "      <td>0.717949</td>\n",
       "      <td>0.824742</td>\n",
       "      <td>0.962433</td>\n",
       "      <td>01:16</td>\n",
       "    </tr>\n",
       "    <tr>\n",
       "      <td>5</td>\n",
       "      <td>0.086523</td>\n",
       "      <td>0.116999</td>\n",
       "      <td>0.874359</td>\n",
       "      <td>0.947853</td>\n",
       "      <td>0.792308</td>\n",
       "      <td>0.863128</td>\n",
       "      <td>0.960115</td>\n",
       "      <td>01:15</td>\n",
       "    </tr>\n",
       "    <tr>\n",
       "      <td>6</td>\n",
       "      <td>0.075971</td>\n",
       "      <td>0.130204</td>\n",
       "      <td>0.853846</td>\n",
       "      <td>0.792373</td>\n",
       "      <td>0.958974</td>\n",
       "      <td>0.867749</td>\n",
       "      <td>0.951082</td>\n",
       "      <td>01:16</td>\n",
       "    </tr>\n",
       "  </tbody>\n",
       "</table>"
      ],
      "text/plain": [
       "<IPython.core.display.HTML object>"
      ]
     },
     "metadata": {},
     "output_type": "display_data"
    },
    {
     "name": "stdout",
     "output_type": "stream",
     "text": [
      "Better model found at epoch 0 with f1_score value: 0.844950213371266.\n"
     ]
    },
    {
     "data": {
      "image/png": "[encoded data removed]",
      "text/plain": [
       "<Figure size 432x288 with 1 Axes>"
      ]
     },
     "metadata": {},
     "output_type": "display_data"
    },
    {
     "name": "stdout",
     "output_type": "stream",
     "text": [
      "Better model found at epoch 1 with f1_score value: 0.8976982097186701.\n",
      "No improvement since epoch 1: early stopping\n"
     ]
    }
   ],
   "source": [
    "learn.fine_tune(100,base_lr=3e-3)"
   ]
  },
  {
   "cell_type": "code",
   "execution_count": 12,
   "metadata": {},
   "outputs": [],
   "source": [
    "dfTest = pd.read_csv('../testSample.csv')"
   ]
  },
  {
   "cell_type": "code",
   "execution_count": 13,
   "metadata": {},
   "outputs": [],
   "source": [
    "def is_test(path):\n",
    "    name = path[1]\n",
    "    return (dfTest[dfTest['nombre_foto']==name])['set'].values[0]=='test'"
   ]
  },
  {
   "cell_type": "code",
   "execution_count": 14,
   "metadata": {},
   "outputs": [],
   "source": [
    "dbTest = DataBlock(blocks = (ImageBlock, CategoryBlock),\n",
    "                 splitter=FuncSplitter(is_test),\n",
    "                 get_x = ColReader(1,pref=\"../amd/\"),\n",
    "                 get_y=ColReader(3),\n",
    "                 item_tfms = [Resize(384)], # CropPad(200,200)\n",
    "                 batch_tfms=[*aug_transforms(size=224, min_scale=0.75,do_flip=True,flip_vert=True,\n",
    "                      max_rotate=2.,max_zoom=1.1, max_warp=0.05,p_affine=0.9, p_lighting=0.8), \n",
    "                             Normalize.from_stats(*imagenet_stats)])"
   ]
  },
  {
   "cell_type": "code",
   "execution_count": 15,
   "metadata": {},
   "outputs": [],
   "source": [
    "dlsTest = dbTest.dataloaders(dfTest.values,bs=64,num_workers=0)"
   ]
  },
  {
   "cell_type": "code",
   "execution_count": 16,
   "metadata": {},
   "outputs": [],
   "source": [
    "learn.dls = dlsTest"
   ]
  },
  {
   "cell_type": "code",
   "execution_count": 17,
   "metadata": {},
   "outputs": [
    {
     "data": {
      "text/html": [],
      "text/plain": [
       "<IPython.core.display.HTML object>"
      ]
     },
     "metadata": {},
     "output_type": "display_data"
    },
    {
     "name": "stdout",
     "output_type": "stream",
     "text": [
      "Better model found at epoch 0 with f1_score value: 0.9527873767258382.\n"
     ]
    },
    {
     "data": {
      "text/plain": [
       "(#6) [0.09421401470899582,0.8917948603630066,0.8843058350100603,0.9015384615384615,0.8928390045708482,0.9527873767258382]"
      ]
     },
     "execution_count": 17,
     "metadata": {},
     "output_type": "execute_result"
    }
   ],
   "source": [
    "learn.validate()"
   ]
  },
  {
   "cell_type": "markdown",
   "metadata": {},
   "source": [
    "# 384"
   ]
  },
  {
   "cell_type": "code",
   "execution_count": 6,
   "metadata": {},
   "outputs": [],
   "source": [
    "import torch\n",
    "callbacks = [\n",
    "    ShowGraphCallback(),\n",
    "    EarlyStoppingCallback(patience=5),\n",
    "    SaveModelCallback(fname='efficientnet_b3_384',monitor='f1_score'),\n",
    "    #ReduceLROnPlateau(patience=2)\n",
    "]"
   ]
  },
  {
   "cell_type": "code",
   "execution_count": 7,
   "metadata": {},
   "outputs": [],
   "source": [
    "db = DataBlock(blocks = (ImageBlock, CategoryBlock),\n",
    "                 splitter=FuncSplitter(is_valid),\n",
    "                 get_x = ColReader(1,pref=\"../amd/\"),\n",
    "                 get_y=ColReader(3),\n",
    "                 item_tfms = [Resize(512)], # CropPad(200,200)\n",
    "                 batch_tfms=[*aug_transforms(size=384, min_scale=0.75,do_flip=True,flip_vert=True,\n",
    "                      max_rotate=2.,max_zoom=1.1, max_warp=0.05,p_affine=0.9, p_lighting=0.8), \n",
    "                             Normalize.from_stats(*imagenet_stats)])"
   ]
  },
  {
   "cell_type": "code",
   "execution_count": 8,
   "metadata": {},
   "outputs": [],
   "source": [
    "dls = db.dataloaders(df.values,bs=32,num_workers=0)"
   ]
  },
  {
   "cell_type": "code",
   "execution_count": 9,
   "metadata": {},
   "outputs": [],
   "source": [
    "learn = Learner(dls,timm.create_model('efficientnet_b3',num_classes=2,pretrained=True,drop_rate=0.5),\n",
    "                metrics=[accuracy,Precision(),Recall(),F1Score(),RocAucBinary()],\n",
    "                cbs=callbacks,\n",
    "                loss_func= FocalLossFlat()).to_fp16()"
   ]
  },
  {
   "cell_type": "code",
   "execution_count": 11,
   "metadata": {},
   "outputs": [
    {
     "name": "stderr",
     "output_type": "stream",
     "text": [
      "/home/jonathan/.virtualenvs/segmentation/lib/python3.6/site-packages/fastai/learner.py:56: UserWarning: Saved filed doesn't contain an optimizer state.\n",
      "  elif with_opt: warn(\"Saved filed doesn't contain an optimizer state.\")\n"
     ]
    },
    {
     "data": {
      "text/plain": [
       "<fastai.learner.Learner at 0x7ff2bf6d0c50>"
      ]
     },
     "execution_count": 11,
     "metadata": {},
     "output_type": "execute_result"
    }
   ],
   "source": [
    "learn.load('efficientnet_b3_244')"
   ]
  },
  {
   "cell_type": "code",
   "execution_count": 13,
   "metadata": {},
   "outputs": [
    {
     "data": {
      "text/html": [],
      "text/plain": [
       "<IPython.core.display.HTML object>"
      ]
     },
     "metadata": {},
     "output_type": "display_data"
    },
    {
     "data": {
      "text/plain": [
       "SuggestedLRs(valley=9.120108734350652e-05)"
      ]
     },
     "execution_count": 13,
     "metadata": {},
     "output_type": "execute_result"
    },
    {
     "data": {
      "image/png": "[encoded data removed]",
      "text/plain": [
       "<Figure size 432x288 with 1 Axes>"
      ]
     },
     "metadata": {
      "needs_background": "light"
     },
     "output_type": "display_data"
    }
   ],
   "source": [
    "learn.lr_find()"
   ]
  },
  {
   "cell_type": "code",
   "execution_count": 14,
   "metadata": {},
   "outputs": [
    {
     "data": {
      "text/html": [
       "<table border=\"1\" class=\"dataframe\">\n",
       "  <thead>\n",
       "    <tr style=\"text-align: left;\">\n",
       "      <th>epoch</th>\n",
       "      <th>train_loss</th>\n",
       "      <th>valid_loss</th>\n",
       "      <th>accuracy</th>\n",
       "      <th>precision_score</th>\n",
       "      <th>recall_score</th>\n",
       "      <th>f1_score</th>\n",
       "      <th>roc_auc_score</th>\n",
       "      <th>time</th>\n",
       "    </tr>\n",
       "  </thead>\n",
       "  <tbody>\n",
       "    <tr>\n",
       "      <td>0</td>\n",
       "      <td>0.118616</td>\n",
       "      <td>0.084241</td>\n",
       "      <td>0.888462</td>\n",
       "      <td>0.946903</td>\n",
       "      <td>0.823077</td>\n",
       "      <td>0.880658</td>\n",
       "      <td>0.965033</td>\n",
       "      <td>01:50</td>\n",
       "    </tr>\n",
       "  </tbody>\n",
       "</table>"
      ],
      "text/plain": [
       "<IPython.core.display.HTML object>"
      ]
     },
     "metadata": {},
     "output_type": "display_data"
    },
    {
     "name": "stdout",
     "output_type": "stream",
     "text": [
      "Better model found at epoch 0 with f1_score value: 0.8806584362139918.\n"
     ]
    },
    {
     "data": {
      "image/png": "[encoded data removed]",
      "text/plain": [
       "<Figure size 432x288 with 1 Axes>"
      ]
     },
     "metadata": {},
     "output_type": "display_data"
    },
    {
     "data": {
      "text/html": [
       "<table border=\"1\" class=\"dataframe\">\n",
       "  <thead>\n",
       "    <tr style=\"text-align: left;\">\n",
       "      <th>epoch</th>\n",
       "      <th>train_loss</th>\n",
       "      <th>valid_loss</th>\n",
       "      <th>accuracy</th>\n",
       "      <th>precision_score</th>\n",
       "      <th>recall_score</th>\n",
       "      <th>f1_score</th>\n",
       "      <th>roc_auc_score</th>\n",
       "      <th>time</th>\n",
       "    </tr>\n",
       "  </thead>\n",
       "  <tbody>\n",
       "    <tr>\n",
       "      <td>0</td>\n",
       "      <td>0.088562</td>\n",
       "      <td>0.069997</td>\n",
       "      <td>0.900000</td>\n",
       "      <td>0.938202</td>\n",
       "      <td>0.856410</td>\n",
       "      <td>0.895442</td>\n",
       "      <td>0.966515</td>\n",
       "      <td>01:49</td>\n",
       "    </tr>\n",
       "    <tr>\n",
       "      <td>1</td>\n",
       "      <td>0.090026</td>\n",
       "      <td>0.066784</td>\n",
       "      <td>0.902564</td>\n",
       "      <td>0.926630</td>\n",
       "      <td>0.874359</td>\n",
       "      <td>0.899736</td>\n",
       "      <td>0.967140</td>\n",
       "      <td>01:51</td>\n",
       "    </tr>\n",
       "    <tr>\n",
       "      <td>2</td>\n",
       "      <td>0.081825</td>\n",
       "      <td>0.073836</td>\n",
       "      <td>0.893590</td>\n",
       "      <td>0.950147</td>\n",
       "      <td>0.830769</td>\n",
       "      <td>0.886457</td>\n",
       "      <td>0.967702</td>\n",
       "      <td>01:52</td>\n",
       "    </tr>\n",
       "    <tr>\n",
       "      <td>3</td>\n",
       "      <td>0.082751</td>\n",
       "      <td>0.065211</td>\n",
       "      <td>0.905128</td>\n",
       "      <td>0.931694</td>\n",
       "      <td>0.874359</td>\n",
       "      <td>0.902116</td>\n",
       "      <td>0.968228</td>\n",
       "      <td>01:52</td>\n",
       "    </tr>\n",
       "    <tr>\n",
       "      <td>4</td>\n",
       "      <td>0.082823</td>\n",
       "      <td>0.064388</td>\n",
       "      <td>0.906410</td>\n",
       "      <td>0.934247</td>\n",
       "      <td>0.874359</td>\n",
       "      <td>0.903311</td>\n",
       "      <td>0.967242</td>\n",
       "      <td>01:52</td>\n",
       "    </tr>\n",
       "    <tr>\n",
       "      <td>5</td>\n",
       "      <td>0.082295</td>\n",
       "      <td>0.065436</td>\n",
       "      <td>0.903846</td>\n",
       "      <td>0.946176</td>\n",
       "      <td>0.856410</td>\n",
       "      <td>0.899058</td>\n",
       "      <td>0.969467</td>\n",
       "      <td>01:52</td>\n",
       "    </tr>\n",
       "    <tr>\n",
       "      <td>6</td>\n",
       "      <td>0.074545</td>\n",
       "      <td>0.072273</td>\n",
       "      <td>0.893590</td>\n",
       "      <td>0.952802</td>\n",
       "      <td>0.828205</td>\n",
       "      <td>0.886145</td>\n",
       "      <td>0.969487</td>\n",
       "      <td>01:52</td>\n",
       "    </tr>\n",
       "    <tr>\n",
       "      <td>7</td>\n",
       "      <td>0.073589</td>\n",
       "      <td>0.067243</td>\n",
       "      <td>0.905128</td>\n",
       "      <td>0.943820</td>\n",
       "      <td>0.861538</td>\n",
       "      <td>0.900804</td>\n",
       "      <td>0.969359</td>\n",
       "      <td>01:52</td>\n",
       "    </tr>\n",
       "    <tr>\n",
       "      <td>8</td>\n",
       "      <td>0.073425</td>\n",
       "      <td>0.065017</td>\n",
       "      <td>0.906410</td>\n",
       "      <td>0.941504</td>\n",
       "      <td>0.866667</td>\n",
       "      <td>0.902537</td>\n",
       "      <td>0.968606</td>\n",
       "      <td>01:52</td>\n",
       "    </tr>\n",
       "    <tr>\n",
       "      <td>9</td>\n",
       "      <td>0.066182</td>\n",
       "      <td>0.075814</td>\n",
       "      <td>0.898718</td>\n",
       "      <td>0.956012</td>\n",
       "      <td>0.835897</td>\n",
       "      <td>0.891929</td>\n",
       "      <td>0.969126</td>\n",
       "      <td>01:51</td>\n",
       "    </tr>\n",
       "  </tbody>\n",
       "</table>"
      ],
      "text/plain": [
       "<IPython.core.display.HTML object>"
      ]
     },
     "metadata": {},
     "output_type": "display_data"
    },
    {
     "name": "stdout",
     "output_type": "stream",
     "text": [
      "Better model found at epoch 0 with f1_score value: 0.8954423592493297.\n"
     ]
    },
    {
     "data": {
      "image/png": "[encoded data removed]",
      "text/plain": [
       "<Figure size 432x288 with 1 Axes>"
      ]
     },
     "metadata": {},
     "output_type": "display_data"
    },
    {
     "name": "stdout",
     "output_type": "stream",
     "text": [
      "Better model found at epoch 1 with f1_score value: 0.899736147757256.\n",
      "Better model found at epoch 3 with f1_score value: 0.9021164021164021.\n",
      "Better model found at epoch 4 with f1_score value: 0.9033112582781457.\n",
      "No improvement since epoch 4: early stopping\n"
     ]
    }
   ],
   "source": [
    "learn.fine_tune(100,base_lr=1e-4)"
   ]
  },
  {
   "cell_type": "code",
   "execution_count": 15,
   "metadata": {},
   "outputs": [],
   "source": [
    "dfTest = pd.read_csv('../testSample.csv')"
   ]
  },
  {
   "cell_type": "code",
   "execution_count": 16,
   "metadata": {},
   "outputs": [],
   "source": [
    "def is_test(path):\n",
    "    name = path[1]\n",
    "    return (dfTest[dfTest['nombre_foto']==name])['set'].values[0]=='test'"
   ]
  },
  {
   "cell_type": "code",
   "execution_count": 17,
   "metadata": {},
   "outputs": [],
   "source": [
    "dbTest = DataBlock(blocks = (ImageBlock, CategoryBlock),\n",
    "                 splitter=FuncSplitter(is_test),\n",
    "                 get_x = ColReader(1,pref=\"../amd/\"),\n",
    "                 get_y=ColReader(3),\n",
    "                 item_tfms = [Resize(512)], # CropPad(200,200)\n",
    "                 batch_tfms=[*aug_transforms(size=384, min_scale=0.75,do_flip=True,flip_vert=True,\n",
    "                      max_rotate=2.,max_zoom=1.1, max_warp=0.05,p_affine=0.9, p_lighting=0.8), \n",
    "                             Normalize.from_stats(*imagenet_stats)])"
   ]
  },
  {
   "cell_type": "code",
   "execution_count": 18,
   "metadata": {},
   "outputs": [],
   "source": [
    "dlsTest = dbTest.dataloaders(dfTest.values,bs=64,num_workers=0)"
   ]
  },
  {
   "cell_type": "code",
   "execution_count": 19,
   "metadata": {},
   "outputs": [],
   "source": [
    "learn.dls = dlsTest"
   ]
  },
  {
   "cell_type": "code",
   "execution_count": 20,
   "metadata": {},
   "outputs": [
    {
     "data": {
      "text/html": [],
      "text/plain": [
       "<IPython.core.display.HTML object>"
      ]
     },
     "metadata": {},
     "output_type": "display_data"
    },
    {
     "name": "stdout",
     "output_type": "stream",
     "text": [
      "Better model found at epoch 0 with f1_score value: 0.9571271531886917.\n"
     ]
    },
    {
     "data": {
      "text/plain": [
       "(#6) [0.07974172383546829,0.8948717713356018,0.8993775933609959,0.8892307692307693,0.8942753996905622,0.9571271531886917]"
      ]
     },
     "execution_count": 20,
     "metadata": {},
     "output_type": "execute_result"
    }
   ],
   "source": [
    "learn.validate()"
   ]
  },
  {
   "cell_type": "markdown",
   "metadata": {},
   "source": [
    "# 512"
   ]
  },
  {
   "cell_type": "code",
   "execution_count": 6,
   "metadata": {},
   "outputs": [],
   "source": [
    "import torch\n",
    "callbacks = [\n",
    "    ShowGraphCallback(),\n",
    "    EarlyStoppingCallback(patience=5),\n",
    "    SaveModelCallback(fname='efficientnet_b3_512',monitor='f1_score'),\n",
    "    #ReduceLROnPlateau(patience=2)\n",
    "]"
   ]
  },
  {
   "cell_type": "code",
   "execution_count": 7,
   "metadata": {},
   "outputs": [],
   "source": [
    "db = DataBlock(blocks = (ImageBlock, CategoryBlock),\n",
    "                 splitter=FuncSplitter(is_valid),\n",
    "                 get_x = ColReader(1,pref=\"../amd/\"),\n",
    "                 get_y=ColReader(3),\n",
    "                 item_tfms = [Resize(640)], # CropPad(200,200)\n",
    "                 batch_tfms=[*aug_transforms(size=512, min_scale=0.75,do_flip=True,flip_vert=True,\n",
    "                      max_rotate=2.,max_zoom=1.1, max_warp=0.05,p_affine=0.9, p_lighting=0.8), \n",
    "                             Normalize.from_stats(*imagenet_stats)])"
   ]
  },
  {
   "cell_type": "code",
   "execution_count": 8,
   "metadata": {},
   "outputs": [],
   "source": [
    "dls = db.dataloaders(df.values,bs=8,num_workers=0)"
   ]
  },
  {
   "cell_type": "code",
   "execution_count": 9,
   "metadata": {},
   "outputs": [],
   "source": [
    "learn = Learner(dls,timm.create_model('efficientnet_b3',num_classes=2,pretrained=True,drop_rate=0.5),\n",
    "                metrics=[accuracy,Precision(),Recall(),F1Score(),RocAucBinary()],\n",
    "                cbs=callbacks,\n",
    "                loss_func= FocalLossFlat()).to_fp16()"
   ]
  },
  {
   "cell_type": "code",
   "execution_count": 10,
   "metadata": {},
   "outputs": [
    {
     "name": "stderr",
     "output_type": "stream",
     "text": [
      "/home/jonathan/.virtualenvs/segmentation/lib/python3.6/site-packages/fastai/learner.py:56: UserWarning: Saved filed doesn't contain an optimizer state.\n",
      "  elif with_opt: warn(\"Saved filed doesn't contain an optimizer state.\")\n"
     ]
    },
    {
     "data": {
      "text/plain": [
       "<fastai.learner.Learner at 0x7fe264337cc0>"
      ]
     },
     "execution_count": 10,
     "metadata": {},
     "output_type": "execute_result"
    }
   ],
   "source": [
    "learn.load('efficientnet_b3_384')"
   ]
  },
  {
   "cell_type": "code",
   "execution_count": 11,
   "metadata": {},
   "outputs": [
    {
     "data": {
      "text/html": [],
      "text/plain": [
       "<IPython.core.display.HTML object>"
      ]
     },
     "metadata": {},
     "output_type": "display_data"
    },
    {
     "data": {
      "text/plain": [
       "SuggestedLRs(valley=3.0199516913853586e-05)"
      ]
     },
     "execution_count": 11,
     "metadata": {},
     "output_type": "execute_result"
    },
    {
     "data": {
      "image/png": "[encoded data removed]",
      "text/plain": [
       "<Figure size 432x288 with 1 Axes>"
      ]
     },
     "metadata": {
      "needs_background": "light"
     },
     "output_type": "display_data"
    }
   ],
   "source": [
    "learn.lr_find()"
   ]
  },
  {
   "cell_type": "code",
   "execution_count": 12,
   "metadata": {},
   "outputs": [
    {
     "data": {
      "text/html": [
       "<table border=\"1\" class=\"dataframe\">\n",
       "  <thead>\n",
       "    <tr style=\"text-align: left;\">\n",
       "      <th>epoch</th>\n",
       "      <th>train_loss</th>\n",
       "      <th>valid_loss</th>\n",
       "      <th>accuracy</th>\n",
       "      <th>precision_score</th>\n",
       "      <th>recall_score</th>\n",
       "      <th>f1_score</th>\n",
       "      <th>roc_auc_score</th>\n",
       "      <th>time</th>\n",
       "    </tr>\n",
       "  </thead>\n",
       "  <tbody>\n",
       "    <tr>\n",
       "      <td>0</td>\n",
       "      <td>0.199571</td>\n",
       "      <td>0.108646</td>\n",
       "      <td>0.858974</td>\n",
       "      <td>0.934783</td>\n",
       "      <td>0.771795</td>\n",
       "      <td>0.845506</td>\n",
       "      <td>0.951427</td>\n",
       "      <td>03:58</td>\n",
       "    </tr>\n",
       "  </tbody>\n",
       "</table>"
      ],
      "text/plain": [
       "<IPython.core.display.HTML object>"
      ]
     },
     "metadata": {},
     "output_type": "display_data"
    },
    {
     "name": "stdout",
     "output_type": "stream",
     "text": [
      "Better model found at epoch 0 with f1_score value: 0.8455056179775281.\n"
     ]
    },
    {
     "data": {
      "image/png": "[encoded data removed]",
      "text/plain": [
       "<Figure size 432x288 with 1 Axes>"
      ]
     },
     "metadata": {},
     "output_type": "display_data"
    },
    {
     "data": {
      "text/html": [
       "<table border=\"1\" class=\"dataframe\">\n",
       "  <thead>\n",
       "    <tr style=\"text-align: left;\">\n",
       "      <th>epoch</th>\n",
       "      <th>train_loss</th>\n",
       "      <th>valid_loss</th>\n",
       "      <th>accuracy</th>\n",
       "      <th>precision_score</th>\n",
       "      <th>recall_score</th>\n",
       "      <th>f1_score</th>\n",
       "      <th>roc_auc_score</th>\n",
       "      <th>time</th>\n",
       "    </tr>\n",
       "  </thead>\n",
       "  <tbody>\n",
       "    <tr>\n",
       "      <td>0</td>\n",
       "      <td>0.089521</td>\n",
       "      <td>0.067549</td>\n",
       "      <td>0.905128</td>\n",
       "      <td>0.934066</td>\n",
       "      <td>0.871795</td>\n",
       "      <td>0.901857</td>\n",
       "      <td>0.967600</td>\n",
       "      <td>03:58</td>\n",
       "    </tr>\n",
       "    <tr>\n",
       "      <td>1</td>\n",
       "      <td>0.080410</td>\n",
       "      <td>0.079909</td>\n",
       "      <td>0.887179</td>\n",
       "      <td>0.952096</td>\n",
       "      <td>0.815385</td>\n",
       "      <td>0.878453</td>\n",
       "      <td>0.969675</td>\n",
       "      <td>03:58</td>\n",
       "    </tr>\n",
       "    <tr>\n",
       "      <td>2</td>\n",
       "      <td>0.072924</td>\n",
       "      <td>0.062026</td>\n",
       "      <td>0.906410</td>\n",
       "      <td>0.895262</td>\n",
       "      <td>0.920513</td>\n",
       "      <td>0.907712</td>\n",
       "      <td>0.969638</td>\n",
       "      <td>03:55</td>\n",
       "    </tr>\n",
       "    <tr>\n",
       "      <td>3</td>\n",
       "      <td>0.072568</td>\n",
       "      <td>0.062445</td>\n",
       "      <td>0.901282</td>\n",
       "      <td>0.935933</td>\n",
       "      <td>0.861538</td>\n",
       "      <td>0.897196</td>\n",
       "      <td>0.969691</td>\n",
       "      <td>03:54</td>\n",
       "    </tr>\n",
       "    <tr>\n",
       "      <td>4</td>\n",
       "      <td>0.064690</td>\n",
       "      <td>0.060072</td>\n",
       "      <td>0.915385</td>\n",
       "      <td>0.919689</td>\n",
       "      <td>0.910256</td>\n",
       "      <td>0.914948</td>\n",
       "      <td>0.969602</td>\n",
       "      <td>03:55</td>\n",
       "    </tr>\n",
       "    <tr>\n",
       "      <td>5</td>\n",
       "      <td>0.057261</td>\n",
       "      <td>0.068115</td>\n",
       "      <td>0.908974</td>\n",
       "      <td>0.886199</td>\n",
       "      <td>0.938462</td>\n",
       "      <td>0.911582</td>\n",
       "      <td>0.968369</td>\n",
       "      <td>03:52</td>\n",
       "    </tr>\n",
       "    <tr>\n",
       "      <td>6</td>\n",
       "      <td>0.059261</td>\n",
       "      <td>0.065391</td>\n",
       "      <td>0.907692</td>\n",
       "      <td>0.914062</td>\n",
       "      <td>0.900000</td>\n",
       "      <td>0.906977</td>\n",
       "      <td>0.970799</td>\n",
       "      <td>03:49</td>\n",
       "    </tr>\n",
       "    <tr>\n",
       "      <td>7</td>\n",
       "      <td>0.047991</td>\n",
       "      <td>0.070668</td>\n",
       "      <td>0.892308</td>\n",
       "      <td>0.929775</td>\n",
       "      <td>0.848718</td>\n",
       "      <td>0.887399</td>\n",
       "      <td>0.972242</td>\n",
       "      <td>03:50</td>\n",
       "    </tr>\n",
       "    <tr>\n",
       "      <td>8</td>\n",
       "      <td>0.050125</td>\n",
       "      <td>0.064377</td>\n",
       "      <td>0.897436</td>\n",
       "      <td>0.923497</td>\n",
       "      <td>0.866667</td>\n",
       "      <td>0.894180</td>\n",
       "      <td>0.971443</td>\n",
       "      <td>03:49</td>\n",
       "    </tr>\n",
       "    <tr>\n",
       "      <td>9</td>\n",
       "      <td>0.046403</td>\n",
       "      <td>0.072027</td>\n",
       "      <td>0.902564</td>\n",
       "      <td>0.931319</td>\n",
       "      <td>0.869231</td>\n",
       "      <td>0.899204</td>\n",
       "      <td>0.968810</td>\n",
       "      <td>03:49</td>\n",
       "    </tr>\n",
       "  </tbody>\n",
       "</table>"
      ],
      "text/plain": [
       "<IPython.core.display.HTML object>"
      ]
     },
     "metadata": {},
     "output_type": "display_data"
    },
    {
     "name": "stdout",
     "output_type": "stream",
     "text": [
      "Better model found at epoch 0 with f1_score value: 0.9018567639257294.\n"
     ]
    },
    {
     "data": {
      "image/png": "[encoded data removed]",
      "text/plain": [
       "<Figure size 432x288 with 1 Axes>"
      ]
     },
     "metadata": {},
     "output_type": "display_data"
    },
    {
     "name": "stdout",
     "output_type": "stream",
     "text": [
      "Better model found at epoch 2 with f1_score value: 0.9077117572692793.\n",
      "Better model found at epoch 4 with f1_score value: 0.9149484536082474.\n",
      "No improvement since epoch 4: early stopping\n"
     ]
    }
   ],
   "source": [
    "learn.fine_tune(100,base_lr=4e-4)"
   ]
  },
  {
   "cell_type": "code",
   "execution_count": 13,
   "metadata": {},
   "outputs": [],
   "source": [
    "dfTest = pd.read_csv('../testSample.csv')"
   ]
  },
  {
   "cell_type": "code",
   "execution_count": 14,
   "metadata": {},
   "outputs": [],
   "source": [
    "def is_test(path):\n",
    "    name = path[1]\n",
    "    return (dfTest[dfTest['nombre_foto']==name])['set'].values[0]=='test'"
   ]
  },
  {
   "cell_type": "code",
   "execution_count": 15,
   "metadata": {},
   "outputs": [],
   "source": [
    "dbTest = DataBlock(blocks = (ImageBlock, CategoryBlock),\n",
    "                 splitter=FuncSplitter(is_test),\n",
    "                 get_x = ColReader(1,pref=\"../amd/\"),\n",
    "                 get_y=ColReader(3),\n",
    "                 item_tfms = [Resize(640)], # CropPad(200,200)\n",
    "                 batch_tfms=[*aug_transforms(size=512, min_scale=0.75,do_flip=True,flip_vert=True,\n",
    "                      max_rotate=2.,max_zoom=1.1, max_warp=0.05,p_affine=0.9, p_lighting=0.8), \n",
    "                             Normalize.from_stats(*imagenet_stats)])"
   ]
  },
  {
   "cell_type": "code",
   "execution_count": 16,
   "metadata": {},
   "outputs": [],
   "source": [
    "dlsTest = dbTest.dataloaders(dfTest.values,bs=8,num_workers=0)"
   ]
  },
  {
   "cell_type": "code",
   "execution_count": 17,
   "metadata": {},
   "outputs": [],
   "source": [
    "learn.dls = dlsTest"
   ]
  },
  {
   "cell_type": "code",
   "execution_count": 18,
   "metadata": {},
   "outputs": [
    {
     "data": {
      "text/html": [],
      "text/plain": [
       "<IPython.core.display.HTML object>"
      ]
     },
     "metadata": {},
     "output_type": "display_data"
    },
    {
     "name": "stdout",
     "output_type": "stream",
     "text": [
      "Better model found at epoch 0 with f1_score value: 0.9656052596975673.\n"
     ]
    },
    {
     "data": {
      "text/plain": [
       "(#6) [0.06549865007400513,0.908717930316925,0.9190325972660357,0.8964102564102564,0.9075804776739356,0.9656052596975673]"
      ]
     },
     "execution_count": 18,
     "metadata": {},
     "output_type": "execute_result"
    }
   ],
   "source": [
    "learn.validate()"
   ]
  }
 ],
 "metadata": {
  "kernelspec": {
   "display_name": "Python 3",
   "language": "python",
   "name": "python3"
  },
  "language_info": {
   "codemirror_mode": {
    "name": "ipython",
    "version": 3
   },
   "file_extension": ".py",
   "mimetype": "text/x-python",
   "name": "python",
   "nbconvert_exporter": "python",
   "pygments_lexer": "ipython3",
   "version": "3.6.7"
  }
 },
 "nbformat": 4,
 "nbformat_minor": 4
}
