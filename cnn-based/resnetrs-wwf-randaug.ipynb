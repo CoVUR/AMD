{
 "cells": [
  {
   "cell_type": "code",
   "execution_count": 1,
   "metadata": {},
   "outputs": [],
   "source": [
    "from fastai.vision.all import *\n",
    "import fastai\n",
    "import timm\n",
    "import torch\n",
    "from wwf.vision import timm\n",
    "import albumentations as A\n",
    "transform = A.load(\"/media/newhd/OPTRetina/DMAE/autoalbument-amd/outputs/2021-11-24/10-32-22/policy/latest.json\")"
   ]
  },
  {
   "cell_type": "code",
   "execution_count": 2,
   "metadata": {},
   "outputs": [],
   "source": [
    "class AlbumentationsTransform(Transform):\n",
    "    def __init__(self, aug): self.aug = aug\n",
    "    def encodes(self, img: PILImage):\n",
    "        aug_img = self.aug(image=np.array(img))['image']\n",
    "        return PILImage.create(aug_img)"
   ]
  },
  {
   "cell_type": "code",
   "execution_count": 3,
   "metadata": {},
   "outputs": [],
   "source": [
    "torch.cuda.set_device(0)"
   ]
  },
  {
   "cell_type": "code",
   "execution_count": 4,
   "metadata": {},
   "outputs": [],
   "source": [
    "df = pd.read_csv('../trainValid.csv')"
   ]
  },
  {
   "cell_type": "code",
   "execution_count": 5,
   "metadata": {},
   "outputs": [
    {
     "data": {
      "text/html": [
       "<div>\n",
       "<style scoped>\n",
       "    .dataframe tbody tr th:only-of-type {\n",
       "        vertical-align: middle;\n",
       "    }\n",
       "\n",
       "    .dataframe tbody tr th {\n",
       "        vertical-align: top;\n",
       "    }\n",
       "\n",
       "    .dataframe thead th {\n",
       "        text-align: right;\n",
       "    }\n",
       "</style>\n",
       "<table border=\"1\" class=\"dataframe\">\n",
       "  <thead>\n",
       "    <tr style=\"text-align: right;\">\n",
       "      <th></th>\n",
       "      <th>Unnamed: 0</th>\n",
       "      <th>nombre_foto</th>\n",
       "      <th>grado de DMAE</th>\n",
       "      <th>binary</th>\n",
       "      <th>set</th>\n",
       "    </tr>\n",
       "  </thead>\n",
       "  <tbody>\n",
       "    <tr>\n",
       "      <th>0</th>\n",
       "      <td>61504</td>\n",
       "      <td>anonymized_231059.jpg</td>\n",
       "      <td>normal</td>\n",
       "      <td>0</td>\n",
       "      <td>training</td>\n",
       "    </tr>\n",
       "    <tr>\n",
       "      <th>1</th>\n",
       "      <td>176989</td>\n",
       "      <td>anonymized_442122.jpg</td>\n",
       "      <td>normal</td>\n",
       "      <td>0</td>\n",
       "      <td>training</td>\n",
       "    </tr>\n",
       "    <tr>\n",
       "      <th>2</th>\n",
       "      <td>133399</td>\n",
       "      <td>anonymized_363034.jpg</td>\n",
       "      <td>normal</td>\n",
       "      <td>0</td>\n",
       "      <td>training</td>\n",
       "    </tr>\n",
       "    <tr>\n",
       "      <th>3</th>\n",
       "      <td>220150</td>\n",
       "      <td>anonymized_519072.jpg</td>\n",
       "      <td>normal</td>\n",
       "      <td>0</td>\n",
       "      <td>training</td>\n",
       "    </tr>\n",
       "    <tr>\n",
       "      <th>4</th>\n",
       "      <td>155853</td>\n",
       "      <td>anonymized_403989.jpg</td>\n",
       "      <td>normal</td>\n",
       "      <td>0</td>\n",
       "      <td>training</td>\n",
       "    </tr>\n",
       "    <tr>\n",
       "      <th>...</th>\n",
       "      <td>...</td>\n",
       "      <td>...</td>\n",
       "      <td>...</td>\n",
       "      <td>...</td>\n",
       "      <td>...</td>\n",
       "    </tr>\n",
       "    <tr>\n",
       "      <th>7797</th>\n",
       "      <td>224854</td>\n",
       "      <td>anonymized_528388.jpg</td>\n",
       "      <td>tardia</td>\n",
       "      <td>1</td>\n",
       "      <td>validation</td>\n",
       "    </tr>\n",
       "    <tr>\n",
       "      <th>7798</th>\n",
       "      <td>225492</td>\n",
       "      <td>anonymized_529721.jpg</td>\n",
       "      <td>intermedia</td>\n",
       "      <td>1</td>\n",
       "      <td>validation</td>\n",
       "    </tr>\n",
       "    <tr>\n",
       "      <th>7799</th>\n",
       "      <td>226322</td>\n",
       "      <td>anonymized_531350.jpg</td>\n",
       "      <td>precoz</td>\n",
       "      <td>1</td>\n",
       "      <td>validation</td>\n",
       "    </tr>\n",
       "    <tr>\n",
       "      <th>7800</th>\n",
       "      <td>227489</td>\n",
       "      <td>anonymized_533460.jpg</td>\n",
       "      <td>tardia</td>\n",
       "      <td>1</td>\n",
       "      <td>validation</td>\n",
       "    </tr>\n",
       "    <tr>\n",
       "      <th>7801</th>\n",
       "      <td>227547</td>\n",
       "      <td>anonymized_533591.jpg</td>\n",
       "      <td>intermedia</td>\n",
       "      <td>1</td>\n",
       "      <td>validation</td>\n",
       "    </tr>\n",
       "  </tbody>\n",
       "</table>\n",
       "<p>7802 rows × 5 columns</p>\n",
       "</div>"
      ],
      "text/plain": [
       "      Unnamed: 0            nombre_foto grado de DMAE  binary         set\n",
       "0          61504  anonymized_231059.jpg        normal       0    training\n",
       "1         176989  anonymized_442122.jpg        normal       0    training\n",
       "2         133399  anonymized_363034.jpg        normal       0    training\n",
       "3         220150  anonymized_519072.jpg        normal       0    training\n",
       "4         155853  anonymized_403989.jpg        normal       0    training\n",
       "...          ...                    ...           ...     ...         ...\n",
       "7797      224854  anonymized_528388.jpg        tardia       1  validation\n",
       "7798      225492  anonymized_529721.jpg    intermedia       1  validation\n",
       "7799      226322  anonymized_531350.jpg        precoz       1  validation\n",
       "7800      227489  anonymized_533460.jpg        tardia       1  validation\n",
       "7801      227547  anonymized_533591.jpg    intermedia       1  validation\n",
       "\n",
       "[7802 rows x 5 columns]"
      ]
     },
     "execution_count": 5,
     "metadata": {},
     "output_type": "execute_result"
    }
   ],
   "source": [
    "df"
   ]
  },
  {
   "cell_type": "code",
   "execution_count": 6,
   "metadata": {},
   "outputs": [],
   "source": [
    "def is_valid(path):\n",
    "    name = path[1]\n",
    "    return (df[df['nombre_foto']==name])['set'].values[0]=='validation'"
   ]
  },
  {
   "cell_type": "markdown",
   "metadata": {},
   "source": [
    "# 224"
   ]
  },
  {
   "cell_type": "code",
   "execution_count": 7,
   "metadata": {},
   "outputs": [],
   "source": [
    "from fastai.vision.all import *\n",
    "callbacks = [\n",
    "    ShowGraphCallback(),\n",
    "    EarlyStoppingCallback(patience=5),\n",
    "    SaveModelCallback(fname='resnetrs224wwf_b',monitor='f1_score'),\n",
    "    #ReduceLROnPlateau(patience=2)\n",
    "]"
   ]
  },
  {
   "cell_type": "code",
   "execution_count": 8,
   "metadata": {},
   "outputs": [],
   "source": [
    "db = DataBlock(blocks = (ImageBlock, CategoryBlock),\n",
    "                 splitter=FuncSplitter(is_valid),\n",
    "                 get_x = ColReader(1,pref=\"../amd/\"),\n",
    "                 get_y=ColReader(3),\n",
    "                 item_tfms = [Resize(384),AlbumentationsTransform(transform[0])], # CropPad(200,200)\n",
    "                 batch_tfms=[*aug_transforms(size=224, min_scale=0.75,do_flip=True,flip_vert=True,\n",
    "                      max_rotate=2.,max_zoom=1.1, max_warp=0.05,p_affine=0.9, p_lighting=0.8), \n",
    "                             Normalize.from_stats(*imagenet_stats)])"
   ]
  },
  {
   "cell_type": "code",
   "execution_count": 9,
   "metadata": {},
   "outputs": [],
   "source": [
    "dls = db.dataloaders(df.values,bs=128,num_workers=0)"
   ]
  },
  {
   "cell_type": "code",
   "execution_count": 10,
   "metadata": {},
   "outputs": [],
   "source": [
    "learn = timm.timm_learner(dls,'resnetrs50',metrics=[accuracy,Precision(),Recall(),F1Score(),RocAucBinary()],\n",
    "                cbs=callbacks,\n",
    "                loss_func= FocalLossFlat()).to_fp16()"
   ]
  },
  {
   "cell_type": "code",
   "execution_count": 11,
   "metadata": {},
   "outputs": [
    {
     "data": {
      "text/html": [
       "<table border=\"1\" class=\"dataframe\">\n",
       "  <thead>\n",
       "    <tr style=\"text-align: left;\">\n",
       "      <th>epoch</th>\n",
       "      <th>train_loss</th>\n",
       "      <th>valid_loss</th>\n",
       "      <th>accuracy</th>\n",
       "      <th>precision_score</th>\n",
       "      <th>recall_score</th>\n",
       "      <th>f1_score</th>\n",
       "      <th>roc_auc_score</th>\n",
       "      <th>time</th>\n",
       "    </tr>\n",
       "  </thead>\n",
       "  <tbody>\n",
       "    <tr>\n",
       "      <td>0</td>\n",
       "      <td>0.740184</td>\n",
       "      <td>0.446383</td>\n",
       "      <td>0.742308</td>\n",
       "      <td>0.728814</td>\n",
       "      <td>0.771795</td>\n",
       "      <td>0.749689</td>\n",
       "      <td>0.819671</td>\n",
       "      <td>01:50</td>\n",
       "    </tr>\n",
       "  </tbody>\n",
       "</table>"
      ],
      "text/plain": [
       "<IPython.core.display.HTML object>"
      ]
     },
     "metadata": {},
     "output_type": "display_data"
    },
    {
     "name": "stdout",
     "output_type": "stream",
     "text": [
      "Better model found at epoch 0 with f1_score value: 0.7496886674968868.\n"
     ]
    },
    {
     "data": {
      "image/png": "[encoded data removed]",
      "text/plain": [
       "<Figure size 432x288 with 1 Axes>"
      ]
     },
     "metadata": {},
     "output_type": "display_data"
    },
    {
     "data": {
      "text/html": [
       "<table border=\"1\" class=\"dataframe\">\n",
       "  <thead>\n",
       "    <tr style=\"text-align: left;\">\n",
       "      <th>epoch</th>\n",
       "      <th>train_loss</th>\n",
       "      <th>valid_loss</th>\n",
       "      <th>accuracy</th>\n",
       "      <th>precision_score</th>\n",
       "      <th>recall_score</th>\n",
       "      <th>f1_score</th>\n",
       "      <th>roc_auc_score</th>\n",
       "      <th>time</th>\n",
       "    </tr>\n",
       "  </thead>\n",
       "  <tbody>\n",
       "    <tr>\n",
       "      <td>0</td>\n",
       "      <td>0.535718</td>\n",
       "      <td>0.279436</td>\n",
       "      <td>0.755128</td>\n",
       "      <td>0.723596</td>\n",
       "      <td>0.825641</td>\n",
       "      <td>0.771257</td>\n",
       "      <td>0.843596</td>\n",
       "      <td>01:54</td>\n",
       "    </tr>\n",
       "    <tr>\n",
       "      <td>1</td>\n",
       "      <td>0.502425</td>\n",
       "      <td>0.238433</td>\n",
       "      <td>0.801282</td>\n",
       "      <td>0.772622</td>\n",
       "      <td>0.853846</td>\n",
       "      <td>0.811206</td>\n",
       "      <td>0.871111</td>\n",
       "      <td>01:52</td>\n",
       "    </tr>\n",
       "    <tr>\n",
       "      <td>2</td>\n",
       "      <td>0.451668</td>\n",
       "      <td>0.238930</td>\n",
       "      <td>0.779487</td>\n",
       "      <td>0.744395</td>\n",
       "      <td>0.851282</td>\n",
       "      <td>0.794258</td>\n",
       "      <td>0.863886</td>\n",
       "      <td>01:52</td>\n",
       "    </tr>\n",
       "    <tr>\n",
       "      <td>3</td>\n",
       "      <td>0.407431</td>\n",
       "      <td>0.183466</td>\n",
       "      <td>0.808974</td>\n",
       "      <td>0.787589</td>\n",
       "      <td>0.846154</td>\n",
       "      <td>0.815822</td>\n",
       "      <td>0.889211</td>\n",
       "      <td>01:53</td>\n",
       "    </tr>\n",
       "    <tr>\n",
       "      <td>4</td>\n",
       "      <td>0.380163</td>\n",
       "      <td>0.195805</td>\n",
       "      <td>0.782051</td>\n",
       "      <td>0.782051</td>\n",
       "      <td>0.782051</td>\n",
       "      <td>0.782051</td>\n",
       "      <td>0.859826</td>\n",
       "      <td>01:54</td>\n",
       "    </tr>\n",
       "    <tr>\n",
       "      <td>5</td>\n",
       "      <td>0.365808</td>\n",
       "      <td>0.172134</td>\n",
       "      <td>0.782051</td>\n",
       "      <td>0.759434</td>\n",
       "      <td>0.825641</td>\n",
       "      <td>0.791155</td>\n",
       "      <td>0.873662</td>\n",
       "      <td>01:51</td>\n",
       "    </tr>\n",
       "    <tr>\n",
       "      <td>6</td>\n",
       "      <td>0.332642</td>\n",
       "      <td>0.155141</td>\n",
       "      <td>0.783333</td>\n",
       "      <td>0.796247</td>\n",
       "      <td>0.761538</td>\n",
       "      <td>0.778506</td>\n",
       "      <td>0.879645</td>\n",
       "      <td>01:49</td>\n",
       "    </tr>\n",
       "    <tr>\n",
       "      <td>7</td>\n",
       "      <td>0.316898</td>\n",
       "      <td>0.136175</td>\n",
       "      <td>0.793590</td>\n",
       "      <td>0.795866</td>\n",
       "      <td>0.789744</td>\n",
       "      <td>0.792793</td>\n",
       "      <td>0.883731</td>\n",
       "      <td>01:51</td>\n",
       "    </tr>\n",
       "    <tr>\n",
       "      <td>8</td>\n",
       "      <td>0.304515</td>\n",
       "      <td>0.156832</td>\n",
       "      <td>0.784615</td>\n",
       "      <td>0.808333</td>\n",
       "      <td>0.746154</td>\n",
       "      <td>0.776000</td>\n",
       "      <td>0.863353</td>\n",
       "      <td>01:53</td>\n",
       "    </tr>\n",
       "    <tr>\n",
       "      <td>9</td>\n",
       "      <td>0.281066</td>\n",
       "      <td>0.145643</td>\n",
       "      <td>0.789744</td>\n",
       "      <td>0.778325</td>\n",
       "      <td>0.810256</td>\n",
       "      <td>0.793970</td>\n",
       "      <td>0.876312</td>\n",
       "      <td>01:53</td>\n",
       "    </tr>\n",
       "    <tr>\n",
       "      <td>10</td>\n",
       "      <td>0.263645</td>\n",
       "      <td>0.151126</td>\n",
       "      <td>0.767949</td>\n",
       "      <td>0.730684</td>\n",
       "      <td>0.848718</td>\n",
       "      <td>0.785291</td>\n",
       "      <td>0.870302</td>\n",
       "      <td>01:53</td>\n",
       "    </tr>\n",
       "    <tr>\n",
       "      <td>11</td>\n",
       "      <td>0.243534</td>\n",
       "      <td>0.123852</td>\n",
       "      <td>0.821795</td>\n",
       "      <td>0.847645</td>\n",
       "      <td>0.784615</td>\n",
       "      <td>0.814913</td>\n",
       "      <td>0.891246</td>\n",
       "      <td>01:53</td>\n",
       "    </tr>\n",
       "    <tr>\n",
       "      <td>12</td>\n",
       "      <td>0.222043</td>\n",
       "      <td>0.132069</td>\n",
       "      <td>0.794872</td>\n",
       "      <td>0.842262</td>\n",
       "      <td>0.725641</td>\n",
       "      <td>0.779614</td>\n",
       "      <td>0.877058</td>\n",
       "      <td>01:53</td>\n",
       "    </tr>\n",
       "    <tr>\n",
       "      <td>13</td>\n",
       "      <td>0.199457</td>\n",
       "      <td>0.116285</td>\n",
       "      <td>0.805128</td>\n",
       "      <td>0.816489</td>\n",
       "      <td>0.787179</td>\n",
       "      <td>0.801567</td>\n",
       "      <td>0.893192</td>\n",
       "      <td>01:52</td>\n",
       "    </tr>\n",
       "    <tr>\n",
       "      <td>14</td>\n",
       "      <td>0.181336</td>\n",
       "      <td>0.111594</td>\n",
       "      <td>0.815385</td>\n",
       "      <td>0.815385</td>\n",
       "      <td>0.815385</td>\n",
       "      <td>0.815385</td>\n",
       "      <td>0.896893</td>\n",
       "      <td>01:52</td>\n",
       "    </tr>\n",
       "    <tr>\n",
       "      <td>15</td>\n",
       "      <td>0.165827</td>\n",
       "      <td>0.110310</td>\n",
       "      <td>0.811538</td>\n",
       "      <td>0.812339</td>\n",
       "      <td>0.810256</td>\n",
       "      <td>0.811297</td>\n",
       "      <td>0.893087</td>\n",
       "      <td>01:53</td>\n",
       "    </tr>\n",
       "    <tr>\n",
       "      <td>16</td>\n",
       "      <td>0.152620</td>\n",
       "      <td>0.096232</td>\n",
       "      <td>0.816667</td>\n",
       "      <td>0.844011</td>\n",
       "      <td>0.776923</td>\n",
       "      <td>0.809079</td>\n",
       "      <td>0.916762</td>\n",
       "      <td>01:52</td>\n",
       "    </tr>\n",
       "    <tr>\n",
       "      <td>17</td>\n",
       "      <td>0.140182</td>\n",
       "      <td>0.103404</td>\n",
       "      <td>0.832051</td>\n",
       "      <td>0.845333</td>\n",
       "      <td>0.812821</td>\n",
       "      <td>0.828758</td>\n",
       "      <td>0.903064</td>\n",
       "      <td>01:52</td>\n",
       "    </tr>\n",
       "    <tr>\n",
       "      <td>18</td>\n",
       "      <td>0.131151</td>\n",
       "      <td>0.098765</td>\n",
       "      <td>0.833333</td>\n",
       "      <td>0.825000</td>\n",
       "      <td>0.846154</td>\n",
       "      <td>0.835443</td>\n",
       "      <td>0.911857</td>\n",
       "      <td>01:53</td>\n",
       "    </tr>\n",
       "    <tr>\n",
       "      <td>19</td>\n",
       "      <td>0.122585</td>\n",
       "      <td>0.102427</td>\n",
       "      <td>0.833333</td>\n",
       "      <td>0.842105</td>\n",
       "      <td>0.820513</td>\n",
       "      <td>0.831169</td>\n",
       "      <td>0.904017</td>\n",
       "      <td>01:52</td>\n",
       "    </tr>\n",
       "    <tr>\n",
       "      <td>20</td>\n",
       "      <td>0.113475</td>\n",
       "      <td>0.095530</td>\n",
       "      <td>0.839744</td>\n",
       "      <td>0.875354</td>\n",
       "      <td>0.792308</td>\n",
       "      <td>0.831763</td>\n",
       "      <td>0.917110</td>\n",
       "      <td>01:52</td>\n",
       "    </tr>\n",
       "    <tr>\n",
       "      <td>21</td>\n",
       "      <td>0.108133</td>\n",
       "      <td>0.095727</td>\n",
       "      <td>0.837179</td>\n",
       "      <td>0.885630</td>\n",
       "      <td>0.774359</td>\n",
       "      <td>0.826265</td>\n",
       "      <td>0.920010</td>\n",
       "      <td>01:52</td>\n",
       "    </tr>\n",
       "    <tr>\n",
       "      <td>22</td>\n",
       "      <td>0.104649</td>\n",
       "      <td>0.099053</td>\n",
       "      <td>0.826923</td>\n",
       "      <td>0.878338</td>\n",
       "      <td>0.758974</td>\n",
       "      <td>0.814305</td>\n",
       "      <td>0.913199</td>\n",
       "      <td>01:53</td>\n",
       "    </tr>\n",
       "    <tr>\n",
       "      <td>23</td>\n",
       "      <td>0.102047</td>\n",
       "      <td>0.093457</td>\n",
       "      <td>0.848718</td>\n",
       "      <td>0.865591</td>\n",
       "      <td>0.825641</td>\n",
       "      <td>0.845144</td>\n",
       "      <td>0.920588</td>\n",
       "      <td>01:53</td>\n",
       "    </tr>\n",
       "    <tr>\n",
       "      <td>24</td>\n",
       "      <td>0.099544</td>\n",
       "      <td>0.094156</td>\n",
       "      <td>0.837179</td>\n",
       "      <td>0.852547</td>\n",
       "      <td>0.815385</td>\n",
       "      <td>0.833552</td>\n",
       "      <td>0.920174</td>\n",
       "      <td>01:52</td>\n",
       "    </tr>\n",
       "    <tr>\n",
       "      <td>25</td>\n",
       "      <td>0.096039</td>\n",
       "      <td>0.093115</td>\n",
       "      <td>0.855128</td>\n",
       "      <td>0.869333</td>\n",
       "      <td>0.835897</td>\n",
       "      <td>0.852288</td>\n",
       "      <td>0.922226</td>\n",
       "      <td>01:50</td>\n",
       "    </tr>\n",
       "    <tr>\n",
       "      <td>26</td>\n",
       "      <td>0.094793</td>\n",
       "      <td>0.089737</td>\n",
       "      <td>0.851282</td>\n",
       "      <td>0.858639</td>\n",
       "      <td>0.841026</td>\n",
       "      <td>0.849741</td>\n",
       "      <td>0.927942</td>\n",
       "      <td>01:51</td>\n",
       "    </tr>\n",
       "    <tr>\n",
       "      <td>27</td>\n",
       "      <td>0.095288</td>\n",
       "      <td>0.087305</td>\n",
       "      <td>0.851282</td>\n",
       "      <td>0.851282</td>\n",
       "      <td>0.851282</td>\n",
       "      <td>0.851282</td>\n",
       "      <td>0.931893</td>\n",
       "      <td>01:51</td>\n",
       "    </tr>\n",
       "    <tr>\n",
       "      <td>28</td>\n",
       "      <td>0.092808</td>\n",
       "      <td>0.100186</td>\n",
       "      <td>0.821795</td>\n",
       "      <td>0.876877</td>\n",
       "      <td>0.748718</td>\n",
       "      <td>0.807746</td>\n",
       "      <td>0.915641</td>\n",
       "      <td>01:51</td>\n",
       "    </tr>\n",
       "    <tr>\n",
       "      <td>29</td>\n",
       "      <td>0.091197</td>\n",
       "      <td>0.086374</td>\n",
       "      <td>0.857692</td>\n",
       "      <td>0.895184</td>\n",
       "      <td>0.810256</td>\n",
       "      <td>0.850606</td>\n",
       "      <td>0.934527</td>\n",
       "      <td>01:51</td>\n",
       "    </tr>\n",
       "    <tr>\n",
       "      <td>30</td>\n",
       "      <td>0.089011</td>\n",
       "      <td>0.084816</td>\n",
       "      <td>0.864103</td>\n",
       "      <td>0.901130</td>\n",
       "      <td>0.817949</td>\n",
       "      <td>0.857527</td>\n",
       "      <td>0.938402</td>\n",
       "      <td>01:51</td>\n",
       "    </tr>\n",
       "    <tr>\n",
       "      <td>31</td>\n",
       "      <td>0.087526</td>\n",
       "      <td>0.089260</td>\n",
       "      <td>0.828205</td>\n",
       "      <td>0.895062</td>\n",
       "      <td>0.743590</td>\n",
       "      <td>0.812325</td>\n",
       "      <td>0.929566</td>\n",
       "      <td>01:51</td>\n",
       "    </tr>\n",
       "    <tr>\n",
       "      <td>32</td>\n",
       "      <td>0.086503</td>\n",
       "      <td>0.090503</td>\n",
       "      <td>0.833333</td>\n",
       "      <td>0.857143</td>\n",
       "      <td>0.800000</td>\n",
       "      <td>0.827586</td>\n",
       "      <td>0.924560</td>\n",
       "      <td>01:51</td>\n",
       "    </tr>\n",
       "    <tr>\n",
       "      <td>33</td>\n",
       "      <td>0.083830</td>\n",
       "      <td>0.088054</td>\n",
       "      <td>0.846154</td>\n",
       "      <td>0.842640</td>\n",
       "      <td>0.851282</td>\n",
       "      <td>0.846939</td>\n",
       "      <td>0.930582</td>\n",
       "      <td>01:52</td>\n",
       "    </tr>\n",
       "    <tr>\n",
       "      <td>34</td>\n",
       "      <td>0.082540</td>\n",
       "      <td>0.087432</td>\n",
       "      <td>0.860256</td>\n",
       "      <td>0.876676</td>\n",
       "      <td>0.838462</td>\n",
       "      <td>0.857143</td>\n",
       "      <td>0.934799</td>\n",
       "      <td>01:51</td>\n",
       "    </tr>\n",
       "    <tr>\n",
       "      <td>35</td>\n",
       "      <td>0.082435</td>\n",
       "      <td>0.083166</td>\n",
       "      <td>0.860256</td>\n",
       "      <td>0.864935</td>\n",
       "      <td>0.853846</td>\n",
       "      <td>0.859355</td>\n",
       "      <td>0.937673</td>\n",
       "      <td>01:51</td>\n",
       "    </tr>\n",
       "    <tr>\n",
       "      <td>36</td>\n",
       "      <td>0.082342</td>\n",
       "      <td>0.086402</td>\n",
       "      <td>0.858974</td>\n",
       "      <td>0.876344</td>\n",
       "      <td>0.835897</td>\n",
       "      <td>0.855643</td>\n",
       "      <td>0.935427</td>\n",
       "      <td>01:51</td>\n",
       "    </tr>\n",
       "    <tr>\n",
       "      <td>37</td>\n",
       "      <td>0.080524</td>\n",
       "      <td>0.087492</td>\n",
       "      <td>0.846154</td>\n",
       "      <td>0.877095</td>\n",
       "      <td>0.805128</td>\n",
       "      <td>0.839572</td>\n",
       "      <td>0.933863</td>\n",
       "      <td>01:52</td>\n",
       "    </tr>\n",
       "    <tr>\n",
       "      <td>38</td>\n",
       "      <td>0.079217</td>\n",
       "      <td>0.087381</td>\n",
       "      <td>0.852564</td>\n",
       "      <td>0.866667</td>\n",
       "      <td>0.833333</td>\n",
       "      <td>0.849673</td>\n",
       "      <td>0.935102</td>\n",
       "      <td>01:51</td>\n",
       "    </tr>\n",
       "    <tr>\n",
       "      <td>39</td>\n",
       "      <td>0.077336</td>\n",
       "      <td>0.078289</td>\n",
       "      <td>0.867949</td>\n",
       "      <td>0.888889</td>\n",
       "      <td>0.841026</td>\n",
       "      <td>0.864295</td>\n",
       "      <td>0.948047</td>\n",
       "      <td>01:52</td>\n",
       "    </tr>\n",
       "    <tr>\n",
       "      <td>40</td>\n",
       "      <td>0.075907</td>\n",
       "      <td>0.084564</td>\n",
       "      <td>0.861538</td>\n",
       "      <td>0.902857</td>\n",
       "      <td>0.810256</td>\n",
       "      <td>0.854054</td>\n",
       "      <td>0.940256</td>\n",
       "      <td>01:51</td>\n",
       "    </tr>\n",
       "    <tr>\n",
       "      <td>41</td>\n",
       "      <td>0.077055</td>\n",
       "      <td>0.086141</td>\n",
       "      <td>0.856410</td>\n",
       "      <td>0.890449</td>\n",
       "      <td>0.812821</td>\n",
       "      <td>0.849866</td>\n",
       "      <td>0.938918</td>\n",
       "      <td>01:52</td>\n",
       "    </tr>\n",
       "    <tr>\n",
       "      <td>42</td>\n",
       "      <td>0.075269</td>\n",
       "      <td>0.083015</td>\n",
       "      <td>0.866667</td>\n",
       "      <td>0.918129</td>\n",
       "      <td>0.805128</td>\n",
       "      <td>0.857923</td>\n",
       "      <td>0.944698</td>\n",
       "      <td>01:51</td>\n",
       "    </tr>\n",
       "    <tr>\n",
       "      <td>43</td>\n",
       "      <td>0.076247</td>\n",
       "      <td>0.079538</td>\n",
       "      <td>0.874359</td>\n",
       "      <td>0.912429</td>\n",
       "      <td>0.828205</td>\n",
       "      <td>0.868280</td>\n",
       "      <td>0.945493</td>\n",
       "      <td>01:52</td>\n",
       "    </tr>\n",
       "    <tr>\n",
       "      <td>44</td>\n",
       "      <td>0.075096</td>\n",
       "      <td>0.086934</td>\n",
       "      <td>0.866667</td>\n",
       "      <td>0.884409</td>\n",
       "      <td>0.843590</td>\n",
       "      <td>0.863517</td>\n",
       "      <td>0.938909</td>\n",
       "      <td>01:51</td>\n",
       "    </tr>\n",
       "  </tbody>\n",
       "</table>"
      ],
      "text/plain": [
       "<IPython.core.display.HTML object>"
      ]
     },
     "metadata": {},
     "output_type": "display_data"
    },
    {
     "name": "stdout",
     "output_type": "stream",
     "text": [
      "Better model found at epoch 0 with f1_score value: 0.7712574850299401.\n"
     ]
    },
    {
     "data": {
      "image/png": "[encoded data removed]",
      "text/plain": [
       "<Figure size 432x288 with 1 Axes>"
      ]
     },
     "metadata": {},
     "output_type": "display_data"
    },
    {
     "name": "stdout",
     "output_type": "stream",
     "text": [
      "Better model found at epoch 1 with f1_score value: 0.8112058465286235.\n",
      "Better model found at epoch 3 with f1_score value: 0.8158220024721878.\n",
      "Better model found at epoch 17 with f1_score value: 0.8287581699346406.\n",
      "Better model found at epoch 18 with f1_score value: 0.8354430379746836.\n",
      "Better model found at epoch 23 with f1_score value: 0.8451443569553806.\n",
      "Better model found at epoch 25 with f1_score value: 0.8522875816993465.\n",
      "Better model found at epoch 30 with f1_score value: 0.85752688172043.\n",
      "Better model found at epoch 35 with f1_score value: 0.8593548387096773.\n",
      "Better model found at epoch 39 with f1_score value: 0.8642951251646903.\n",
      "Better model found at epoch 43 with f1_score value: 0.8682795698924731.\n",
      "No improvement since epoch 39: early stopping\n"
     ]
    }
   ],
   "source": [
    "learn.fine_tune(100,base_lr=1e-3)"
   ]
  },
  {
   "cell_type": "code",
   "execution_count": 12,
   "metadata": {},
   "outputs": [],
   "source": [
    "dfTest = pd.read_csv('../testSample.csv')"
   ]
  },
  {
   "cell_type": "code",
   "execution_count": 13,
   "metadata": {},
   "outputs": [],
   "source": [
    "def is_test(path):\n",
    "    name = path[1]\n",
    "    return (dfTest[dfTest['nombre_foto']==name])['set'].values[0]=='test'"
   ]
  },
  {
   "cell_type": "code",
   "execution_count": 14,
   "metadata": {},
   "outputs": [],
   "source": [
    "dbTest = DataBlock(blocks = (ImageBlock, CategoryBlock),\n",
    "                 splitter=FuncSplitter(is_test),\n",
    "                 get_x = ColReader(1,pref=\"../amd/\"),\n",
    "                 get_y=ColReader(3),\n",
    "                 item_tfms = [Resize(384)], # CropPad(200,200)\n",
    "                 batch_tfms=[*aug_transforms(size=224, min_scale=0.75,do_flip=True,flip_vert=True,\n",
    "                      max_rotate=2.,max_zoom=1.1, max_warp=0.05,p_affine=0.9, p_lighting=0.8), \n",
    "                             Normalize.from_stats(*imagenet_stats)])"
   ]
  },
  {
   "cell_type": "code",
   "execution_count": 15,
   "metadata": {},
   "outputs": [],
   "source": [
    "dlsTest = dbTest.dataloaders(dfTest.values,bs=128,num_workers=0)"
   ]
  },
  {
   "cell_type": "code",
   "execution_count": 16,
   "metadata": {},
   "outputs": [],
   "source": [
    "learn.dls = dlsTest"
   ]
  },
  {
   "cell_type": "code",
   "execution_count": 17,
   "metadata": {},
   "outputs": [
    {
     "data": {
      "text/html": [],
      "text/plain": [
       "<IPython.core.display.HTML object>"
      ]
     },
     "metadata": {},
     "output_type": "display_data"
    },
    {
     "name": "stdout",
     "output_type": "stream",
     "text": [
      "Better model found at epoch 0 with f1_score value: 0.9564554898093359.\n"
     ]
    },
    {
     "data": {
      "text/plain": [
       "(#6) [0.07320453971624374,0.882564127445221,0.9107929515418502,0.8482051282051282,0.8783855549654805,0.9564554898093359]"
      ]
     },
     "execution_count": 17,
     "metadata": {},
     "output_type": "execute_result"
    }
   ],
   "source": [
    "learn.validate()"
   ]
  },
  {
   "cell_type": "markdown",
   "metadata": {},
   "source": [
    "# 384"
   ]
  },
  {
   "cell_type": "code",
   "execution_count": 7,
   "metadata": {},
   "outputs": [],
   "source": [
    "import torch\n",
    "torch.cuda.set_device(1)\n",
    "callbacks = [\n",
    "    ShowGraphCallback(),\n",
    "    EarlyStoppingCallback(patience=5),\n",
    "    SaveModelCallback(fname='resnetrs384wwf_b',monitor='f1_score'),\n",
    "    #ReduceLROnPlateau(patience=2)\n",
    "]"
   ]
  },
  {
   "cell_type": "code",
   "execution_count": 8,
   "metadata": {},
   "outputs": [],
   "source": [
    "db = DataBlock(blocks = (ImageBlock, CategoryBlock),\n",
    "                 splitter=FuncSplitter(is_valid),\n",
    "                 get_x = ColReader(1,pref=\"../amd/\"),\n",
    "                 get_y=ColReader(3),\n",
    "                 item_tfms = [Resize(512),AlbumentationsTransform(transform[0])], # CropPad(200,200)\n",
    "                 batch_tfms=[*aug_transforms(size=384, min_scale=0.75,do_flip=True,flip_vert=True,\n",
    "                      max_rotate=2.,max_zoom=1.1, max_warp=0.05,p_affine=0.9, p_lighting=0.8), \n",
    "                             Normalize.from_stats(*imagenet_stats)])"
   ]
  },
  {
   "cell_type": "code",
   "execution_count": 9,
   "metadata": {},
   "outputs": [],
   "source": [
    "dls = db.dataloaders(df.values,bs=16,num_workers=0)"
   ]
  },
  {
   "cell_type": "code",
   "execution_count": 10,
   "metadata": {},
   "outputs": [],
   "source": [
    "learn = timm.timm_learner(dls,'resnetrs50',metrics=[accuracy,Precision(),Recall(),F1Score(),RocAucBinary()],\n",
    "                cbs=callbacks,\n",
    "                loss_func= FocalLossFlat()).to_fp16()"
   ]
  },
  {
   "cell_type": "code",
   "execution_count": 11,
   "metadata": {},
   "outputs": [
    {
     "name": "stderr",
     "output_type": "stream",
     "text": [
      "/home/jonathan/.virtualenvs/segmentation/lib/python3.6/site-packages/fastai/learner.py:56: UserWarning: Saved filed doesn't contain an optimizer state.\n",
      "  elif with_opt: warn(\"Saved filed doesn't contain an optimizer state.\")\n"
     ]
    },
    {
     "data": {
      "text/plain": [
       "<fastai.learner.Learner at 0x7fb5984e1f98>"
      ]
     },
     "execution_count": 11,
     "metadata": {},
     "output_type": "execute_result"
    }
   ],
   "source": [
    "learn.load('resnetrs224wwf_b')"
   ]
  },
  {
   "cell_type": "code",
   "execution_count": 12,
   "metadata": {},
   "outputs": [
    {
     "data": {
      "text/html": [
       "<table border=\"1\" class=\"dataframe\">\n",
       "  <thead>\n",
       "    <tr style=\"text-align: left;\">\n",
       "      <th>epoch</th>\n",
       "      <th>train_loss</th>\n",
       "      <th>valid_loss</th>\n",
       "      <th>accuracy</th>\n",
       "      <th>precision_score</th>\n",
       "      <th>recall_score</th>\n",
       "      <th>f1_score</th>\n",
       "      <th>roc_auc_score</th>\n",
       "      <th>time</th>\n",
       "    </tr>\n",
       "  </thead>\n",
       "  <tbody>\n",
       "    <tr>\n",
       "      <td>0</td>\n",
       "      <td>0.212970</td>\n",
       "      <td>0.195793</td>\n",
       "      <td>0.789744</td>\n",
       "      <td>0.767773</td>\n",
       "      <td>0.830769</td>\n",
       "      <td>0.798030</td>\n",
       "      <td>0.859681</td>\n",
       "      <td>02:13</td>\n",
       "    </tr>\n",
       "  </tbody>\n",
       "</table>"
      ],
      "text/plain": [
       "<IPython.core.display.HTML object>"
      ]
     },
     "metadata": {},
     "output_type": "display_data"
    },
    {
     "name": "stdout",
     "output_type": "stream",
     "text": [
      "Better model found at epoch 0 with f1_score value: 0.7980295566502463.\n"
     ]
    },
    {
     "data": {
      "image/png": "[encoded data removed]",
      "text/plain": [
       "<Figure size 432x288 with 1 Axes>"
      ]
     },
     "metadata": {},
     "output_type": "display_data"
    },
    {
     "data": {
      "text/html": [
       "<table border=\"1\" class=\"dataframe\">\n",
       "  <thead>\n",
       "    <tr style=\"text-align: left;\">\n",
       "      <th>epoch</th>\n",
       "      <th>train_loss</th>\n",
       "      <th>valid_loss</th>\n",
       "      <th>accuracy</th>\n",
       "      <th>precision_score</th>\n",
       "      <th>recall_score</th>\n",
       "      <th>f1_score</th>\n",
       "      <th>roc_auc_score</th>\n",
       "      <th>time</th>\n",
       "    </tr>\n",
       "  </thead>\n",
       "  <tbody>\n",
       "    <tr>\n",
       "      <td>0</td>\n",
       "      <td>0.121530</td>\n",
       "      <td>0.098588</td>\n",
       "      <td>0.829487</td>\n",
       "      <td>0.842667</td>\n",
       "      <td>0.810256</td>\n",
       "      <td>0.826144</td>\n",
       "      <td>0.912755</td>\n",
       "      <td>02:34</td>\n",
       "    </tr>\n",
       "    <tr>\n",
       "      <td>1</td>\n",
       "      <td>0.102226</td>\n",
       "      <td>0.089610</td>\n",
       "      <td>0.847436</td>\n",
       "      <td>0.844784</td>\n",
       "      <td>0.851282</td>\n",
       "      <td>0.848020</td>\n",
       "      <td>0.929250</td>\n",
       "      <td>02:33</td>\n",
       "    </tr>\n",
       "    <tr>\n",
       "      <td>2</td>\n",
       "      <td>0.109067</td>\n",
       "      <td>0.089577</td>\n",
       "      <td>0.856410</td>\n",
       "      <td>0.875676</td>\n",
       "      <td>0.830769</td>\n",
       "      <td>0.852632</td>\n",
       "      <td>0.924513</td>\n",
       "      <td>02:34</td>\n",
       "    </tr>\n",
       "    <tr>\n",
       "      <td>3</td>\n",
       "      <td>0.099543</td>\n",
       "      <td>0.090345</td>\n",
       "      <td>0.838462</td>\n",
       "      <td>0.814286</td>\n",
       "      <td>0.876923</td>\n",
       "      <td>0.844444</td>\n",
       "      <td>0.929083</td>\n",
       "      <td>02:33</td>\n",
       "    </tr>\n",
       "    <tr>\n",
       "      <td>4</td>\n",
       "      <td>0.103839</td>\n",
       "      <td>0.085055</td>\n",
       "      <td>0.862821</td>\n",
       "      <td>0.869452</td>\n",
       "      <td>0.853846</td>\n",
       "      <td>0.861578</td>\n",
       "      <td>0.936292</td>\n",
       "      <td>02:33</td>\n",
       "    </tr>\n",
       "    <tr>\n",
       "      <td>5</td>\n",
       "      <td>0.099382</td>\n",
       "      <td>0.089696</td>\n",
       "      <td>0.861538</td>\n",
       "      <td>0.943396</td>\n",
       "      <td>0.769231</td>\n",
       "      <td>0.847458</td>\n",
       "      <td>0.937755</td>\n",
       "      <td>02:33</td>\n",
       "    </tr>\n",
       "    <tr>\n",
       "      <td>6</td>\n",
       "      <td>0.092207</td>\n",
       "      <td>0.084770</td>\n",
       "      <td>0.855128</td>\n",
       "      <td>0.830549</td>\n",
       "      <td>0.892308</td>\n",
       "      <td>0.860321</td>\n",
       "      <td>0.939237</td>\n",
       "      <td>02:34</td>\n",
       "    </tr>\n",
       "    <tr>\n",
       "      <td>7</td>\n",
       "      <td>0.095067</td>\n",
       "      <td>0.083313</td>\n",
       "      <td>0.853846</td>\n",
       "      <td>0.868984</td>\n",
       "      <td>0.833333</td>\n",
       "      <td>0.850785</td>\n",
       "      <td>0.938813</td>\n",
       "      <td>02:34</td>\n",
       "    </tr>\n",
       "    <tr>\n",
       "      <td>8</td>\n",
       "      <td>0.088532</td>\n",
       "      <td>0.085123</td>\n",
       "      <td>0.864103</td>\n",
       "      <td>0.869792</td>\n",
       "      <td>0.856410</td>\n",
       "      <td>0.863049</td>\n",
       "      <td>0.940325</td>\n",
       "      <td>02:33</td>\n",
       "    </tr>\n",
       "    <tr>\n",
       "      <td>9</td>\n",
       "      <td>0.100209</td>\n",
       "      <td>0.083816</td>\n",
       "      <td>0.862821</td>\n",
       "      <td>0.881402</td>\n",
       "      <td>0.838462</td>\n",
       "      <td>0.859396</td>\n",
       "      <td>0.938540</td>\n",
       "      <td>02:34</td>\n",
       "    </tr>\n",
       "    <tr>\n",
       "      <td>10</td>\n",
       "      <td>0.085254</td>\n",
       "      <td>0.083945</td>\n",
       "      <td>0.865385</td>\n",
       "      <td>0.905983</td>\n",
       "      <td>0.815385</td>\n",
       "      <td>0.858300</td>\n",
       "      <td>0.943984</td>\n",
       "      <td>02:33</td>\n",
       "    </tr>\n",
       "    <tr>\n",
       "      <td>11</td>\n",
       "      <td>0.090116</td>\n",
       "      <td>0.085438</td>\n",
       "      <td>0.860256</td>\n",
       "      <td>0.898017</td>\n",
       "      <td>0.812821</td>\n",
       "      <td>0.853297</td>\n",
       "      <td>0.940753</td>\n",
       "      <td>02:33</td>\n",
       "    </tr>\n",
       "    <tr>\n",
       "      <td>12</td>\n",
       "      <td>0.091876</td>\n",
       "      <td>0.082225</td>\n",
       "      <td>0.867949</td>\n",
       "      <td>0.899721</td>\n",
       "      <td>0.828205</td>\n",
       "      <td>0.862483</td>\n",
       "      <td>0.943222</td>\n",
       "      <td>02:33</td>\n",
       "    </tr>\n",
       "    <tr>\n",
       "      <td>13</td>\n",
       "      <td>0.083856</td>\n",
       "      <td>0.084576</td>\n",
       "      <td>0.866667</td>\n",
       "      <td>0.920588</td>\n",
       "      <td>0.802564</td>\n",
       "      <td>0.857534</td>\n",
       "      <td>0.940352</td>\n",
       "      <td>02:34</td>\n",
       "    </tr>\n",
       "    <tr>\n",
       "      <td>14</td>\n",
       "      <td>0.086034</td>\n",
       "      <td>0.079732</td>\n",
       "      <td>0.873077</td>\n",
       "      <td>0.877922</td>\n",
       "      <td>0.866667</td>\n",
       "      <td>0.872258</td>\n",
       "      <td>0.942857</td>\n",
       "      <td>02:34</td>\n",
       "    </tr>\n",
       "    <tr>\n",
       "      <td>15</td>\n",
       "      <td>0.083427</td>\n",
       "      <td>0.081973</td>\n",
       "      <td>0.869231</td>\n",
       "      <td>0.909091</td>\n",
       "      <td>0.820513</td>\n",
       "      <td>0.862534</td>\n",
       "      <td>0.943166</td>\n",
       "      <td>02:34</td>\n",
       "    </tr>\n",
       "    <tr>\n",
       "      <td>16</td>\n",
       "      <td>0.094482</td>\n",
       "      <td>0.081759</td>\n",
       "      <td>0.855128</td>\n",
       "      <td>0.850633</td>\n",
       "      <td>0.861538</td>\n",
       "      <td>0.856051</td>\n",
       "      <td>0.944096</td>\n",
       "      <td>02:34</td>\n",
       "    </tr>\n",
       "    <tr>\n",
       "      <td>17</td>\n",
       "      <td>0.080341</td>\n",
       "      <td>0.080175</td>\n",
       "      <td>0.867949</td>\n",
       "      <td>0.886792</td>\n",
       "      <td>0.843590</td>\n",
       "      <td>0.864652</td>\n",
       "      <td>0.946180</td>\n",
       "      <td>02:34</td>\n",
       "    </tr>\n",
       "    <tr>\n",
       "      <td>18</td>\n",
       "      <td>0.090713</td>\n",
       "      <td>0.080574</td>\n",
       "      <td>0.875641</td>\n",
       "      <td>0.899183</td>\n",
       "      <td>0.846154</td>\n",
       "      <td>0.871863</td>\n",
       "      <td>0.948830</td>\n",
       "      <td>02:33</td>\n",
       "    </tr>\n",
       "    <tr>\n",
       "      <td>19</td>\n",
       "      <td>0.082080</td>\n",
       "      <td>0.081456</td>\n",
       "      <td>0.864103</td>\n",
       "      <td>0.877660</td>\n",
       "      <td>0.846154</td>\n",
       "      <td>0.861619</td>\n",
       "      <td>0.942722</td>\n",
       "      <td>02:33</td>\n",
       "    </tr>\n",
       "  </tbody>\n",
       "</table>"
      ],
      "text/plain": [
       "<IPython.core.display.HTML object>"
      ]
     },
     "metadata": {},
     "output_type": "display_data"
    },
    {
     "name": "stdout",
     "output_type": "stream",
     "text": [
      "Better model found at epoch 0 with f1_score value: 0.8261437908496733.\n"
     ]
    },
    {
     "data": {
      "image/png": "[encoded data removed]",
      "text/plain": [
       "<Figure size 432x288 with 1 Axes>"
      ]
     },
     "metadata": {},
     "output_type": "display_data"
    },
    {
     "name": "stdout",
     "output_type": "stream",
     "text": [
      "Better model found at epoch 1 with f1_score value: 0.8480204342273308.\n",
      "Better model found at epoch 2 with f1_score value: 0.8526315789473685.\n",
      "Better model found at epoch 4 with f1_score value: 0.8615782664941785.\n",
      "Better model found at epoch 8 with f1_score value: 0.8630490956072352.\n",
      "Better model found at epoch 14 with f1_score value: 0.8722580645161291.\n",
      "No improvement since epoch 14: early stopping\n"
     ]
    }
   ],
   "source": [
    "learn.fine_tune(100,base_lr=3e-3)"
   ]
  },
  {
   "cell_type": "code",
   "execution_count": 12,
   "metadata": {},
   "outputs": [],
   "source": [
    "dfTest = pd.read_csv('../testSample.csv')"
   ]
  },
  {
   "cell_type": "code",
   "execution_count": 13,
   "metadata": {},
   "outputs": [],
   "source": [
    "def is_test(path):\n",
    "    name = path[1]\n",
    "    return (dfTest[dfTest['nombre_foto']==name])['set'].values[0]=='test'"
   ]
  },
  {
   "cell_type": "code",
   "execution_count": 14,
   "metadata": {},
   "outputs": [],
   "source": [
    "dbTest = DataBlock(blocks = (ImageBlock, CategoryBlock),\n",
    "                 splitter=FuncSplitter(is_test),\n",
    "                 get_x = ColReader(1,pref=\"../amd/\"),\n",
    "                 get_y=ColReader(3),\n",
    "                 item_tfms = [Resize(512)], # CropPad(200,200)\n",
    "                 batch_tfms=[*aug_transforms(size=384, min_scale=0.75,do_flip=True,flip_vert=True,\n",
    "                      max_rotate=2.,max_zoom=1.1, max_warp=0.05,p_affine=0.9, p_lighting=0.8), \n",
    "                             Normalize.from_stats(*imagenet_stats)])"
   ]
  },
  {
   "cell_type": "code",
   "execution_count": 15,
   "metadata": {},
   "outputs": [],
   "source": [
    "dlsTest = dbTest.dataloaders(dfTest.values,bs=32,num_workers=0)"
   ]
  },
  {
   "cell_type": "code",
   "execution_count": 16,
   "metadata": {},
   "outputs": [],
   "source": [
    "learn.dls = dlsTest"
   ]
  },
  {
   "cell_type": "code",
   "execution_count": 17,
   "metadata": {},
   "outputs": [
    {
     "data": {
      "text/html": [],
      "text/plain": [
       "<IPython.core.display.HTML object>"
      ]
     },
     "metadata": {},
     "output_type": "display_data"
    },
    {
     "name": "stdout",
     "output_type": "stream",
     "text": [
      "Better model found at epoch 0 with f1_score value: 0.9637517422748192.\n"
     ]
    },
    {
     "data": {
      "text/plain": [
       "(#6) [0.06593360006809235,0.9005128145217896,0.8972533062054934,0.9046153846153846,0.9009193054136874,0.9637517422748192]"
      ]
     },
     "execution_count": 17,
     "metadata": {},
     "output_type": "execute_result"
    }
   ],
   "source": [
    "learn.validate()"
   ]
  },
  {
   "cell_type": "markdown",
   "metadata": {},
   "source": [
    "# 512"
   ]
  },
  {
   "cell_type": "code",
   "execution_count": 18,
   "metadata": {},
   "outputs": [],
   "source": [
    "import torch\n",
    "torch.cuda.set_device(1)\n",
    "callbacks = [\n",
    "    ShowGraphCallback(),\n",
    "    EarlyStoppingCallback(patience=5),\n",
    "    SaveModelCallback(fname='resnetrs512wwf_b',monitor='f1_score'),\n",
    "    #ReduceLROnPlateau(patience=2)\n",
    "]"
   ]
  },
  {
   "cell_type": "code",
   "execution_count": 19,
   "metadata": {},
   "outputs": [],
   "source": [
    "db = DataBlock(blocks = (ImageBlock, CategoryBlock),\n",
    "                 splitter=FuncSplitter(is_valid),\n",
    "                 get_x = ColReader(1,pref=\"../amd/\"),\n",
    "                 get_y=ColReader(3),\n",
    "                 item_tfms = [Resize(640),AlbumentationsTransform(transform[0])], # CropPad(200,200)\n",
    "                 batch_tfms=[*aug_transforms(size=512, min_scale=0.75,do_flip=True,flip_vert=True,\n",
    "                      max_rotate=2.,max_zoom=1.1, max_warp=0.05,p_affine=0.9, p_lighting=0.8), \n",
    "                             Normalize.from_stats(*imagenet_stats)])"
   ]
  },
  {
   "cell_type": "code",
   "execution_count": 20,
   "metadata": {},
   "outputs": [],
   "source": [
    "dls = db.dataloaders(df.values,bs=8,num_workers=0)"
   ]
  },
  {
   "cell_type": "code",
   "execution_count": 21,
   "metadata": {},
   "outputs": [],
   "source": [
    "learn = timm.timm_learner(dls,'resnetrs50',metrics=[accuracy,Precision(),Recall(),F1Score(),RocAucBinary()],\n",
    "                cbs=callbacks,\n",
    "                loss_func= FocalLossFlat()).to_fp16()"
   ]
  },
  {
   "cell_type": "code",
   "execution_count": 22,
   "metadata": {},
   "outputs": [
    {
     "name": "stderr",
     "output_type": "stream",
     "text": [
      "/home/jonathan/.virtualenvs/segmentation/lib/python3.6/site-packages/fastai/learner.py:56: UserWarning: Saved filed doesn't contain an optimizer state.\n",
      "  elif with_opt: warn(\"Saved filed doesn't contain an optimizer state.\")\n"
     ]
    },
    {
     "data": {
      "text/plain": [
       "<fastai.learner.Learner at 0x7f075469db70>"
      ]
     },
     "execution_count": 22,
     "metadata": {},
     "output_type": "execute_result"
    }
   ],
   "source": [
    "learn.load('resnetrs384wwf_b')"
   ]
  },
  {
   "cell_type": "code",
   "execution_count": 23,
   "metadata": {},
   "outputs": [
    {
     "data": {
      "text/html": [],
      "text/plain": [
       "<IPython.core.display.HTML object>"
      ]
     },
     "metadata": {},
     "output_type": "display_data"
    },
    {
     "data": {
      "text/plain": [
       "SuggestedLRs(valley=0.0020892962347716093)"
      ]
     },
     "execution_count": 23,
     "metadata": {},
     "output_type": "execute_result"
    },
    {
     "data": {
      "image/png": "[encoded data removed]",
      "text/plain": [
       "<Figure size 432x288 with 1 Axes>"
      ]
     },
     "metadata": {
      "needs_background": "light"
     },
     "output_type": "display_data"
    }
   ],
   "source": [
    "learn.lr_find()"
   ]
  },
  {
   "cell_type": "code",
   "execution_count": 24,
   "metadata": {},
   "outputs": [
    {
     "data": {
      "text/html": [
       "<table border=\"1\" class=\"dataframe\">\n",
       "  <thead>\n",
       "    <tr style=\"text-align: left;\">\n",
       "      <th>epoch</th>\n",
       "      <th>train_loss</th>\n",
       "      <th>valid_loss</th>\n",
       "      <th>accuracy</th>\n",
       "      <th>precision_score</th>\n",
       "      <th>recall_score</th>\n",
       "      <th>f1_score</th>\n",
       "      <th>roc_auc_score</th>\n",
       "      <th>time</th>\n",
       "    </tr>\n",
       "  </thead>\n",
       "  <tbody>\n",
       "    <tr>\n",
       "      <td>0</td>\n",
       "      <td>0.107975</td>\n",
       "      <td>0.092150</td>\n",
       "      <td>0.862821</td>\n",
       "      <td>0.900850</td>\n",
       "      <td>0.815385</td>\n",
       "      <td>0.855989</td>\n",
       "      <td>0.933675</td>\n",
       "      <td>03:51</td>\n",
       "    </tr>\n",
       "  </tbody>\n",
       "</table>"
      ],
      "text/plain": [
       "<IPython.core.display.HTML object>"
      ]
     },
     "metadata": {},
     "output_type": "display_data"
    },
    {
     "name": "stdout",
     "output_type": "stream",
     "text": [
      "Better model found at epoch 0 with f1_score value: 0.8559892328398385.\n"
     ]
    },
    {
     "data": {
      "image/png": "[encoded data removed]",
      "text/plain": [
       "<Figure size 432x288 with 1 Axes>"
      ]
     },
     "metadata": {},
     "output_type": "display_data"
    },
    {
     "data": {
      "text/html": [
       "<table border=\"1\" class=\"dataframe\">\n",
       "  <thead>\n",
       "    <tr style=\"text-align: left;\">\n",
       "      <th>epoch</th>\n",
       "      <th>train_loss</th>\n",
       "      <th>valid_loss</th>\n",
       "      <th>accuracy</th>\n",
       "      <th>precision_score</th>\n",
       "      <th>recall_score</th>\n",
       "      <th>f1_score</th>\n",
       "      <th>roc_auc_score</th>\n",
       "      <th>time</th>\n",
       "    </tr>\n",
       "  </thead>\n",
       "  <tbody>\n",
       "    <tr>\n",
       "      <td>0</td>\n",
       "      <td>0.108527</td>\n",
       "      <td>0.085474</td>\n",
       "      <td>0.857692</td>\n",
       "      <td>0.884298</td>\n",
       "      <td>0.823077</td>\n",
       "      <td>0.852590</td>\n",
       "      <td>0.936226</td>\n",
       "      <td>06:03</td>\n",
       "    </tr>\n",
       "    <tr>\n",
       "      <td>1</td>\n",
       "      <td>0.098119</td>\n",
       "      <td>0.082102</td>\n",
       "      <td>0.852564</td>\n",
       "      <td>0.891738</td>\n",
       "      <td>0.802564</td>\n",
       "      <td>0.844804</td>\n",
       "      <td>0.943373</td>\n",
       "      <td>06:02</td>\n",
       "    </tr>\n",
       "    <tr>\n",
       "      <td>2</td>\n",
       "      <td>0.100798</td>\n",
       "      <td>0.086461</td>\n",
       "      <td>0.847436</td>\n",
       "      <td>0.897361</td>\n",
       "      <td>0.784615</td>\n",
       "      <td>0.837209</td>\n",
       "      <td>0.940381</td>\n",
       "      <td>05:57</td>\n",
       "    </tr>\n",
       "    <tr>\n",
       "      <td>3</td>\n",
       "      <td>0.098192</td>\n",
       "      <td>0.084843</td>\n",
       "      <td>0.848718</td>\n",
       "      <td>0.884181</td>\n",
       "      <td>0.802564</td>\n",
       "      <td>0.841398</td>\n",
       "      <td>0.941259</td>\n",
       "      <td>05:59</td>\n",
       "    </tr>\n",
       "    <tr>\n",
       "      <td>4</td>\n",
       "      <td>0.086882</td>\n",
       "      <td>0.084524</td>\n",
       "      <td>0.870513</td>\n",
       "      <td>0.887399</td>\n",
       "      <td>0.848718</td>\n",
       "      <td>0.867628</td>\n",
       "      <td>0.937548</td>\n",
       "      <td>06:00</td>\n",
       "    </tr>\n",
       "    <tr>\n",
       "      <td>5</td>\n",
       "      <td>0.090437</td>\n",
       "      <td>0.086261</td>\n",
       "      <td>0.862821</td>\n",
       "      <td>0.898592</td>\n",
       "      <td>0.817949</td>\n",
       "      <td>0.856376</td>\n",
       "      <td>0.936673</td>\n",
       "      <td>05:59</td>\n",
       "    </tr>\n",
       "    <tr>\n",
       "      <td>6</td>\n",
       "      <td>0.101042</td>\n",
       "      <td>0.081644</td>\n",
       "      <td>0.862821</td>\n",
       "      <td>0.837709</td>\n",
       "      <td>0.900000</td>\n",
       "      <td>0.867738</td>\n",
       "      <td>0.943649</td>\n",
       "      <td>05:52</td>\n",
       "    </tr>\n",
       "    <tr>\n",
       "      <td>7</td>\n",
       "      <td>0.104672</td>\n",
       "      <td>0.093408</td>\n",
       "      <td>0.844872</td>\n",
       "      <td>0.889855</td>\n",
       "      <td>0.787179</td>\n",
       "      <td>0.835374</td>\n",
       "      <td>0.929020</td>\n",
       "      <td>04:38</td>\n",
       "    </tr>\n",
       "    <tr>\n",
       "      <td>8</td>\n",
       "      <td>0.097958</td>\n",
       "      <td>0.084890</td>\n",
       "      <td>0.871795</td>\n",
       "      <td>0.898352</td>\n",
       "      <td>0.838462</td>\n",
       "      <td>0.867374</td>\n",
       "      <td>0.942429</td>\n",
       "      <td>05:39</td>\n",
       "    </tr>\n",
       "    <tr>\n",
       "      <td>9</td>\n",
       "      <td>0.091748</td>\n",
       "      <td>0.081990</td>\n",
       "      <td>0.870513</td>\n",
       "      <td>0.863980</td>\n",
       "      <td>0.879487</td>\n",
       "      <td>0.871665</td>\n",
       "      <td>0.943494</td>\n",
       "      <td>05:43</td>\n",
       "    </tr>\n",
       "    <tr>\n",
       "      <td>10</td>\n",
       "      <td>0.094378</td>\n",
       "      <td>0.074356</td>\n",
       "      <td>0.893590</td>\n",
       "      <td>0.875306</td>\n",
       "      <td>0.917949</td>\n",
       "      <td>0.896120</td>\n",
       "      <td>0.954017</td>\n",
       "      <td>05:43</td>\n",
       "    </tr>\n",
       "    <tr>\n",
       "      <td>11</td>\n",
       "      <td>0.098765</td>\n",
       "      <td>0.088191</td>\n",
       "      <td>0.850000</td>\n",
       "      <td>0.905045</td>\n",
       "      <td>0.782051</td>\n",
       "      <td>0.839065</td>\n",
       "      <td>0.934454</td>\n",
       "      <td>05:38</td>\n",
       "    </tr>\n",
       "    <tr>\n",
       "      <td>12</td>\n",
       "      <td>0.088859</td>\n",
       "      <td>0.078049</td>\n",
       "      <td>0.873077</td>\n",
       "      <td>0.866499</td>\n",
       "      <td>0.882051</td>\n",
       "      <td>0.874206</td>\n",
       "      <td>0.947936</td>\n",
       "      <td>04:34</td>\n",
       "    </tr>\n",
       "    <tr>\n",
       "      <td>13</td>\n",
       "      <td>0.092375</td>\n",
       "      <td>0.080437</td>\n",
       "      <td>0.876923</td>\n",
       "      <td>0.880829</td>\n",
       "      <td>0.871795</td>\n",
       "      <td>0.876289</td>\n",
       "      <td>0.943803</td>\n",
       "      <td>04:37</td>\n",
       "    </tr>\n",
       "    <tr>\n",
       "      <td>14</td>\n",
       "      <td>0.092616</td>\n",
       "      <td>0.091488</td>\n",
       "      <td>0.847436</td>\n",
       "      <td>0.944262</td>\n",
       "      <td>0.738462</td>\n",
       "      <td>0.828777</td>\n",
       "      <td>0.940983</td>\n",
       "      <td>04:42</td>\n",
       "    </tr>\n",
       "    <tr>\n",
       "      <td>15</td>\n",
       "      <td>0.087065</td>\n",
       "      <td>0.075639</td>\n",
       "      <td>0.883333</td>\n",
       "      <td>0.905149</td>\n",
       "      <td>0.856410</td>\n",
       "      <td>0.880105</td>\n",
       "      <td>0.951203</td>\n",
       "      <td>04:43</td>\n",
       "    </tr>\n",
       "  </tbody>\n",
       "</table>"
      ],
      "text/plain": [
       "<IPython.core.display.HTML object>"
      ]
     },
     "metadata": {},
     "output_type": "display_data"
    },
    {
     "name": "stdout",
     "output_type": "stream",
     "text": [
      "Better model found at epoch 0 with f1_score value: 0.8525896414342629.\n"
     ]
    },
    {
     "data": {
      "image/png": "[encoded data removed]",
      "text/plain": [
       "<Figure size 432x288 with 1 Axes>"
      ]
     },
     "metadata": {},
     "output_type": "display_data"
    },
    {
     "name": "stdout",
     "output_type": "stream",
     "text": [
      "Better model found at epoch 4 with f1_score value: 0.8676277850589778.\n",
      "Better model found at epoch 6 with f1_score value: 0.8677379480840544.\n",
      "Better model found at epoch 9 with f1_score value: 0.8716645489199492.\n",
      "Better model found at epoch 10 with f1_score value: 0.8961201501877346.\n",
      "No improvement since epoch 10: early stopping\n"
     ]
    }
   ],
   "source": [
    "learn.fine_tune(100,base_lr=1e-3)"
   ]
  },
  {
   "cell_type": "code",
   "execution_count": 25,
   "metadata": {},
   "outputs": [],
   "source": [
    "dfTest = pd.read_csv('../testSample.csv')"
   ]
  },
  {
   "cell_type": "code",
   "execution_count": 26,
   "metadata": {},
   "outputs": [],
   "source": [
    "def is_test(path):\n",
    "    name = path[1]\n",
    "    return (dfTest[dfTest['nombre_foto']==name])['set'].values[0]=='test'"
   ]
  },
  {
   "cell_type": "code",
   "execution_count": 27,
   "metadata": {},
   "outputs": [],
   "source": [
    "dbTest = DataBlock(blocks = (ImageBlock, CategoryBlock),\n",
    "                 splitter=FuncSplitter(is_test),\n",
    "                 get_x = ColReader(1,pref=\"../amd/\"),\n",
    "                 get_y=ColReader(3),\n",
    "                 item_tfms = [Resize(640)], # CropPad(200,200)\n",
    "                 batch_tfms=[*aug_transforms(size=512, min_scale=0.75,do_flip=True,flip_vert=True,\n",
    "                      max_rotate=2.,max_zoom=1.1, max_warp=0.05,p_affine=0.9, p_lighting=0.8), \n",
    "                             Normalize.from_stats(*imagenet_stats)])"
   ]
  },
  {
   "cell_type": "code",
   "execution_count": 28,
   "metadata": {},
   "outputs": [],
   "source": [
    "dlsTest = dbTest.dataloaders(dfTest.values,bs=8,num_workers=0)"
   ]
  },
  {
   "cell_type": "code",
   "execution_count": 29,
   "metadata": {},
   "outputs": [],
   "source": [
    "learn.dls = dlsTest"
   ]
  },
  {
   "cell_type": "code",
   "execution_count": 30,
   "metadata": {},
   "outputs": [
    {
     "data": {
      "text/html": [],
      "text/plain": [
       "<IPython.core.display.HTML object>"
      ]
     },
     "metadata": {},
     "output_type": "display_data"
    },
    {
     "name": "stdout",
     "output_type": "stream",
     "text": [
      "Better model found at epoch 0 with f1_score value: 0.9627387245233399.\n"
     ]
    },
    {
     "data": {
      "text/plain": [
       "(#6) [0.06818683445453644,0.8969230651855469,0.8901209677419355,0.9056410256410257,0.8978139298423996,0.9627387245233399]"
      ]
     },
     "execution_count": 30,
     "metadata": {},
     "output_type": "execute_result"
    }
   ],
   "source": [
    "learn.validate()"
   ]
  },
  {
   "cell_type": "code",
   "execution_count": null,
   "metadata": {},
   "outputs": [],
   "source": []
  }
 ],
 "metadata": {
  "kernelspec": {
   "display_name": "Python 3",
   "language": "python",
   "name": "python3"
  },
  "language_info": {
   "codemirror_mode": {
    "name": "ipython",
    "version": 3
   },
   "file_extension": ".py",
   "mimetype": "text/x-python",
   "name": "python",
   "nbconvert_exporter": "python",
   "pygments_lexer": "ipython3",
   "version": "3.6.7"
  }
 },
 "nbformat": 4,
 "nbformat_minor": 4
}
