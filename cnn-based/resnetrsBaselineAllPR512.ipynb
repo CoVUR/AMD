{
 "cells": [
  {
   "cell_type": "code",
   "execution_count": 1,
   "metadata": {
    "scrolled": true
   },
   "outputs": [
    {
     "name": "stderr",
     "output_type": "stream",
     "text": [
      "/home/jonathan/.virtualenvs/segmentation/lib/python3.6/site-packages/fastai/learner.py:56: UserWarning: Saved filed doesn't contain an optimizer state.\n",
      "  elif with_opt: warn(\"Saved filed doesn't contain an optimizer state.\")\n"
     ]
    },
    {
     "data": {
      "text/html": [],
      "text/plain": [
       "<IPython.core.display.HTML object>"
      ]
     },
     "metadata": {},
     "output_type": "display_data"
    },
    {
     "data": {
      "image/png": "[encoded data removed]",
      "text/plain": [
       "<Figure size 432x288 with 1 Axes>"
      ]
     },
     "metadata": {
      "needs_background": "light"
     },
     "output_type": "display_data"
    }
   ],
   "source": [
    "#!/usr/bin/env python\n",
    "# coding: utf-8\n",
    "\n",
    "# In[1]:\n",
    "\n",
    "\n",
    "from fastai.vision.all import *\n",
    "import fastai\n",
    "import timm\n",
    "\n",
    "\n",
    "# In[2]:\n",
    "\n",
    "\n",
    "import torch\n",
    "torch.cuda.set_device(2)\n",
    "\n",
    "\n",
    "# In[3]:\n",
    "\n",
    "\n",
    "from fastai.vision.all import *\n",
    "callbacks = [\n",
    "    ShowGraphCallback(),\n",
    "    EarlyStoppingCallback(patience=5),\n",
    "    SaveModelCallback(fname='resnetrsBaselineAllPR512',monitor='cohen_kappa_score'),\n",
    "    ReduceLROnPlateau(patience=2)\n",
    "]\n",
    "\n",
    "\n",
    "# In[4]:\n",
    "\n",
    "\n",
    "dfValid = pd.read_csv('../dr_kaggle_and_ics_dataset_split_training.csv')\n",
    "\n",
    "\n",
    "# In[5]:\n",
    "\n",
    "\n",
    "\n",
    "\n",
    "# In[6]:\n",
    "\n",
    "\n",
    "dfValid\n",
    "\n",
    "\n",
    "# In[7]:\n",
    "\n",
    "\n",
    "kwownFiles = []\n",
    "for x in dfValid.image_id:\n",
    "    if((os.path.exists('../images/transformed_512x512_color_rgb_filter_none/'+x))):\n",
    "        kwownFiles.append(x)\n",
    "\n",
    "\n",
    "# In[8]:\n",
    "\n",
    "\n",
    "dfKeep = dfValid[dfValid['image_id'].isin(kwownFiles)]\n",
    "\n",
    "\n",
    "# In[9]:\n",
    "\n",
    "\n",
    "dfValid = dfKeep\n",
    "\n",
    "# In[10]:\n",
    "\n",
    "\n",
    "def dr_extended_to_aptos(x):\n",
    "    if(x=='normal'):\n",
    "        return 0\n",
    "    if(x=='leve'):\n",
    "        return 1\n",
    "    if(x=='moderada'):\n",
    "        return 2\n",
    "    if(x=='severa'):\n",
    "        return 3\n",
    "    if(x=='proliferativa'):\n",
    "        return 4\n",
    "    else:\n",
    "        return 5\n",
    "\n",
    "\n",
    "# In[11]:\n",
    "\n",
    "\n",
    "dfValid['aptos']=dfValid['dr_extended'].apply(lambda x: dr_extended_to_aptos(x))\n",
    "\n",
    "\n",
    "# In[12]:\n",
    "\n",
    "\n",
    "dfValid\n",
    "\n",
    "def is_valid(path):\n",
    "    name = path[0]\n",
    "    return (dfValid[dfValid['image_id']==name])['split'].values[0]=='validation'\n",
    "# In[13]:\n",
    "\n",
    "\n",
    "dbTrain3 = DataBlock(blocks = (ImageBlock, CategoryBlock),\n",
    "                 splitter=FuncSplitter(is_valid),\n",
    "                 get_x = ColReader(0,pref=\"../images/transformed_512x512_color_rgb_filter_none/\"),\n",
    "                 get_y=ColReader(6),\n",
    "                 item_tfms = [Resize(640)], # CropPad(200,200)\n",
    "                 batch_tfms=[*aug_transforms(size=512, min_scale=0.75,do_flip=True,flip_vert=True,\n",
    "                      max_rotate=2.,max_zoom=1.1, max_warp=0.05,p_affine=0.9, p_lighting=0.8), \n",
    "                             Normalize.from_stats(*imagenet_stats)])\n",
    "\n",
    "\n",
    "# In[14]:\n",
    "\n",
    "\n",
    "dlsTrain3 = dbTrain3.dataloaders(dfValid.values,bs=8,num_workers=0)\n",
    "\n",
    "\n",
    "# In[15]:\n",
    "\n",
    "\n",
    "\n",
    "learn = Learner(dlsTrain3,timm.create_model('resnetrs50',num_classes=6,pretrained=True,drop_rate=0.5),\n",
    "                metrics=[accuracy,CohenKappa(weights='quadratic')],cbs=callbacks,\n",
    "                loss_func= FocalLossFlat()).to_fp16()\n",
    "\n",
    "\n",
    "# In[16]:\n",
    "\n",
    "\n",
    "learn.load('resnetrsBaselineAllPR384D05')\n",
    "\n",
    "\n",
    "# In[17]:\n",
    "\n",
    "\n",
    "learn.freeze()\n",
    "learn.lr_find()\n",
    "\n"
   ]
  },
  {
   "cell_type": "code",
   "execution_count": 3,
   "metadata": {},
   "outputs": [
    {
     "data": {
      "text/html": [],
      "text/plain": [
       "<IPython.core.display.HTML object>"
      ]
     },
     "metadata": {},
     "output_type": "display_data"
    },
    {
     "data": {
      "text/plain": [
       "SuggestedLRs(lr_min=1.0964781722577755e-07, lr_steep=1.3182567499825382e-06)"
      ]
     },
     "execution_count": 3,
     "metadata": {},
     "output_type": "execute_result"
    },
    {
     "data": {
      "image/png": "[encoded data removed]",
      "text/plain": [
       "<Figure size 432x288 with 1 Axes>"
      ]
     },
     "metadata": {
      "needs_background": "light"
     },
     "output_type": "display_data"
    }
   ],
   "source": [
    "learn.lr_find()"
   ]
  },
  {
   "cell_type": "code",
   "execution_count": 4,
   "metadata": {},
   "outputs": [
    {
     "data": {
      "text/html": [
       "<table border=\"1\" class=\"dataframe\">\n",
       "  <thead>\n",
       "    <tr style=\"text-align: left;\">\n",
       "      <th>epoch</th>\n",
       "      <th>train_loss</th>\n",
       "      <th>valid_loss</th>\n",
       "      <th>accuracy</th>\n",
       "      <th>cohen_kappa_score</th>\n",
       "      <th>time</th>\n",
       "    </tr>\n",
       "  </thead>\n",
       "  <tbody>\n",
       "    <tr>\n",
       "      <td>0</td>\n",
       "      <td>0.150212</td>\n",
       "      <td>0.168406</td>\n",
       "      <td>0.887312</td>\n",
       "      <td>0.726203</td>\n",
       "      <td>52:36</td>\n",
       "    </tr>\n",
       "  </tbody>\n",
       "</table>"
      ],
      "text/plain": [
       "<IPython.core.display.HTML object>"
      ]
     },
     "metadata": {},
     "output_type": "display_data"
    },
    {
     "name": "stdout",
     "output_type": "stream",
     "text": [
      "Better model found at epoch 0 with cohen_kappa_score value: 0.7262032842842283.\n"
     ]
    },
    {
     "data": {
      "image/png": "[encoded data removed]",
      "text/plain": [
       "<Figure size 432x288 with 1 Axes>"
      ]
     },
     "metadata": {},
     "output_type": "display_data"
    },
    {
     "data": {
      "text/html": [
       "<table border=\"1\" class=\"dataframe\">\n",
       "  <thead>\n",
       "    <tr style=\"text-align: left;\">\n",
       "      <th>epoch</th>\n",
       "      <th>train_loss</th>\n",
       "      <th>valid_loss</th>\n",
       "      <th>accuracy</th>\n",
       "      <th>cohen_kappa_score</th>\n",
       "      <th>time</th>\n",
       "    </tr>\n",
       "  </thead>\n",
       "  <tbody>\n",
       "    <tr>\n",
       "      <td>0</td>\n",
       "      <td>0.120051</td>\n",
       "      <td>0.168736</td>\n",
       "      <td>0.887693</td>\n",
       "      <td>0.729170</td>\n",
       "      <td>52:04</td>\n",
       "    </tr>\n",
       "    <tr>\n",
       "      <td>1</td>\n",
       "      <td>0.169623</td>\n",
       "      <td>0.166910</td>\n",
       "      <td>0.886740</td>\n",
       "      <td>0.730894</td>\n",
       "      <td>50:51</td>\n",
       "    </tr>\n",
       "    <tr>\n",
       "      <td>2</td>\n",
       "      <td>0.118522</td>\n",
       "      <td>0.164735</td>\n",
       "      <td>0.887883</td>\n",
       "      <td>0.725987</td>\n",
       "      <td>54:15</td>\n",
       "    </tr>\n",
       "    <tr>\n",
       "      <td>3</td>\n",
       "      <td>0.134448</td>\n",
       "      <td>0.163628</td>\n",
       "      <td>0.886836</td>\n",
       "      <td>0.733005</td>\n",
       "      <td>1:06:38</td>\n",
       "    </tr>\n",
       "    <tr>\n",
       "      <td>4</td>\n",
       "      <td>0.139466</td>\n",
       "      <td>0.163248</td>\n",
       "      <td>0.888455</td>\n",
       "      <td>0.735112</td>\n",
       "      <td>1:05:51</td>\n",
       "    </tr>\n",
       "    <tr>\n",
       "      <td>5</td>\n",
       "      <td>0.133007</td>\n",
       "      <td>0.166111</td>\n",
       "      <td>0.887883</td>\n",
       "      <td>0.731966</td>\n",
       "      <td>1:02:24</td>\n",
       "    </tr>\n",
       "    <tr>\n",
       "      <td>6</td>\n",
       "      <td>0.130236</td>\n",
       "      <td>0.163404</td>\n",
       "      <td>0.885788</td>\n",
       "      <td>0.738127</td>\n",
       "      <td>1:04:00</td>\n",
       "    </tr>\n",
       "    <tr>\n",
       "      <td>7</td>\n",
       "      <td>0.142084</td>\n",
       "      <td>0.164114</td>\n",
       "      <td>0.887312</td>\n",
       "      <td>0.738295</td>\n",
       "      <td>1:03:23</td>\n",
       "    </tr>\n",
       "    <tr>\n",
       "      <td>8</td>\n",
       "      <td>0.142358</td>\n",
       "      <td>0.162103</td>\n",
       "      <td>0.887407</td>\n",
       "      <td>0.729705</td>\n",
       "      <td>1:03:30</td>\n",
       "    </tr>\n",
       "    <tr>\n",
       "      <td>9</td>\n",
       "      <td>0.133803</td>\n",
       "      <td>0.161397</td>\n",
       "      <td>0.887693</td>\n",
       "      <td>0.743289</td>\n",
       "      <td>1:03:04</td>\n",
       "    </tr>\n",
       "    <tr>\n",
       "      <td>10</td>\n",
       "      <td>0.150361</td>\n",
       "      <td>0.167389</td>\n",
       "      <td>0.887121</td>\n",
       "      <td>0.738749</td>\n",
       "      <td>1:01:32</td>\n",
       "    </tr>\n",
       "    <tr>\n",
       "      <td>11</td>\n",
       "      <td>0.127940</td>\n",
       "      <td>0.166291</td>\n",
       "      <td>0.887312</td>\n",
       "      <td>0.743018</td>\n",
       "      <td>1:01:34</td>\n",
       "    </tr>\n",
       "    <tr>\n",
       "      <td>12</td>\n",
       "      <td>0.135256</td>\n",
       "      <td>0.162516</td>\n",
       "      <td>0.886455</td>\n",
       "      <td>0.745438</td>\n",
       "      <td>1:01:30</td>\n",
       "    </tr>\n",
       "    <tr>\n",
       "      <td>13</td>\n",
       "      <td>0.116693</td>\n",
       "      <td>0.163518</td>\n",
       "      <td>0.887598</td>\n",
       "      <td>0.742308</td>\n",
       "      <td>1:01:31</td>\n",
       "    </tr>\n",
       "    <tr>\n",
       "      <td>14</td>\n",
       "      <td>0.145327</td>\n",
       "      <td>0.169056</td>\n",
       "      <td>0.887217</td>\n",
       "      <td>0.733974</td>\n",
       "      <td>1:01:31</td>\n",
       "    </tr>\n",
       "  </tbody>\n",
       "</table>"
      ],
      "text/plain": [
       "<IPython.core.display.HTML object>"
      ]
     },
     "metadata": {},
     "output_type": "display_data"
    },
    {
     "name": "stdout",
     "output_type": "stream",
     "text": [
      "Better model found at epoch 0 with cohen_kappa_score value: 0.7291700484366728.\n"
     ]
    },
    {
     "data": {
      "image/png": "[encoded data removed]",
      "text/plain": [
       "<Figure size 432x288 with 1 Axes>"
      ]
     },
     "metadata": {},
     "output_type": "display_data"
    },
    {
     "name": "stdout",
     "output_type": "stream",
     "text": [
      "Better model found at epoch 1 with cohen_kappa_score value: 0.7308940891896087.\n",
      "Better model found at epoch 3 with cohen_kappa_score value: 0.7330047798994441.\n",
      "Better model found at epoch 4 with cohen_kappa_score value: 0.7351120463127883.\n",
      "Better model found at epoch 6 with cohen_kappa_score value: 0.7381273386515692.\n",
      "Epoch 6: reducing lr to 4.541094974292777e-08\n",
      "Better model found at epoch 7 with cohen_kappa_score value: 0.7382946701840751.\n",
      "Better model found at epoch 9 with cohen_kappa_score value: 0.7432893193768602.\n",
      "Epoch 11: reducing lr to 7.145846851139753e-08\n",
      "Better model found at epoch 12 with cohen_kappa_score value: 0.7454383096955512.\n",
      "Epoch 13: reducing lr to 8.372775624081619e-08\n",
      "No improvement since epoch 9: early stopping\n"
     ]
    }
   ],
   "source": [
    "# In[ ]:\n",
    "\n",
    "\n",
    "learn.fine_tune(100,base_lr=3e-6,wd=1e-3)"
   ]
  },
  {
   "cell_type": "code",
   "execution_count": null,
   "metadata": {},
   "outputs": [],
   "source": []
  }
 ],
 "metadata": {
  "kernelspec": {
   "display_name": "Python 3",
   "language": "python",
   "name": "python3"
  },
  "language_info": {
   "codemirror_mode": {
    "name": "ipython",
    "version": 3
   },
   "file_extension": ".py",
   "mimetype": "text/x-python",
   "name": "python",
   "nbconvert_exporter": "python",
   "pygments_lexer": "ipython3",
   "version": "3.6.7"
  }
 },
 "nbformat": 4,
 "nbformat_minor": 4
}
