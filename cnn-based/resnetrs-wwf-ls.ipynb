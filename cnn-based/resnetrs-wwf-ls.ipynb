{
 "cells": [
  {
   "cell_type": "code",
   "execution_count": 1,
   "metadata": {},
   "outputs": [],
   "source": [
    "from fastai.vision.all import *\n",
    "import fastai\n",
    "import timm\n",
    "import torch\n",
    "from wwf.vision import timm"
   ]
  },
  {
   "cell_type": "code",
   "execution_count": 2,
   "metadata": {},
   "outputs": [],
   "source": [
    "torch.cuda.set_device(0)"
   ]
  },
  {
   "cell_type": "code",
   "execution_count": 3,
   "metadata": {},
   "outputs": [],
   "source": [
    "df = pd.read_csv('../trainValid.csv')"
   ]
  },
  {
   "cell_type": "code",
   "execution_count": 4,
   "metadata": {},
   "outputs": [
    {
     "data": {
      "text/html": [
       "<div>\n",
       "<style scoped>\n",
       "    .dataframe tbody tr th:only-of-type {\n",
       "        vertical-align: middle;\n",
       "    }\n",
       "\n",
       "    .dataframe tbody tr th {\n",
       "        vertical-align: top;\n",
       "    }\n",
       "\n",
       "    .dataframe thead th {\n",
       "        text-align: right;\n",
       "    }\n",
       "</style>\n",
       "<table border=\"1\" class=\"dataframe\">\n",
       "  <thead>\n",
       "    <tr style=\"text-align: right;\">\n",
       "      <th></th>\n",
       "      <th>Unnamed: 0</th>\n",
       "      <th>nombre_foto</th>\n",
       "      <th>grado de DMAE</th>\n",
       "      <th>binary</th>\n",
       "      <th>set</th>\n",
       "    </tr>\n",
       "  </thead>\n",
       "  <tbody>\n",
       "    <tr>\n",
       "      <th>0</th>\n",
       "      <td>61504</td>\n",
       "      <td>anonymized_231059.jpg</td>\n",
       "      <td>normal</td>\n",
       "      <td>0</td>\n",
       "      <td>training</td>\n",
       "    </tr>\n",
       "    <tr>\n",
       "      <th>1</th>\n",
       "      <td>176989</td>\n",
       "      <td>anonymized_442122.jpg</td>\n",
       "      <td>normal</td>\n",
       "      <td>0</td>\n",
       "      <td>training</td>\n",
       "    </tr>\n",
       "    <tr>\n",
       "      <th>2</th>\n",
       "      <td>133399</td>\n",
       "      <td>anonymized_363034.jpg</td>\n",
       "      <td>normal</td>\n",
       "      <td>0</td>\n",
       "      <td>training</td>\n",
       "    </tr>\n",
       "    <tr>\n",
       "      <th>3</th>\n",
       "      <td>220150</td>\n",
       "      <td>anonymized_519072.jpg</td>\n",
       "      <td>normal</td>\n",
       "      <td>0</td>\n",
       "      <td>training</td>\n",
       "    </tr>\n",
       "    <tr>\n",
       "      <th>4</th>\n",
       "      <td>155853</td>\n",
       "      <td>anonymized_403989.jpg</td>\n",
       "      <td>normal</td>\n",
       "      <td>0</td>\n",
       "      <td>training</td>\n",
       "    </tr>\n",
       "    <tr>\n",
       "      <th>...</th>\n",
       "      <td>...</td>\n",
       "      <td>...</td>\n",
       "      <td>...</td>\n",
       "      <td>...</td>\n",
       "      <td>...</td>\n",
       "    </tr>\n",
       "    <tr>\n",
       "      <th>7797</th>\n",
       "      <td>224854</td>\n",
       "      <td>anonymized_528388.jpg</td>\n",
       "      <td>tardia</td>\n",
       "      <td>1</td>\n",
       "      <td>validation</td>\n",
       "    </tr>\n",
       "    <tr>\n",
       "      <th>7798</th>\n",
       "      <td>225492</td>\n",
       "      <td>anonymized_529721.jpg</td>\n",
       "      <td>intermedia</td>\n",
       "      <td>1</td>\n",
       "      <td>validation</td>\n",
       "    </tr>\n",
       "    <tr>\n",
       "      <th>7799</th>\n",
       "      <td>226322</td>\n",
       "      <td>anonymized_531350.jpg</td>\n",
       "      <td>precoz</td>\n",
       "      <td>1</td>\n",
       "      <td>validation</td>\n",
       "    </tr>\n",
       "    <tr>\n",
       "      <th>7800</th>\n",
       "      <td>227489</td>\n",
       "      <td>anonymized_533460.jpg</td>\n",
       "      <td>tardia</td>\n",
       "      <td>1</td>\n",
       "      <td>validation</td>\n",
       "    </tr>\n",
       "    <tr>\n",
       "      <th>7801</th>\n",
       "      <td>227547</td>\n",
       "      <td>anonymized_533591.jpg</td>\n",
       "      <td>intermedia</td>\n",
       "      <td>1</td>\n",
       "      <td>validation</td>\n",
       "    </tr>\n",
       "  </tbody>\n",
       "</table>\n",
       "<p>7802 rows × 5 columns</p>\n",
       "</div>"
      ],
      "text/plain": [
       "      Unnamed: 0            nombre_foto grado de DMAE  binary         set\n",
       "0          61504  anonymized_231059.jpg        normal       0    training\n",
       "1         176989  anonymized_442122.jpg        normal       0    training\n",
       "2         133399  anonymized_363034.jpg        normal       0    training\n",
       "3         220150  anonymized_519072.jpg        normal       0    training\n",
       "4         155853  anonymized_403989.jpg        normal       0    training\n",
       "...          ...                    ...           ...     ...         ...\n",
       "7797      224854  anonymized_528388.jpg        tardia       1  validation\n",
       "7798      225492  anonymized_529721.jpg    intermedia       1  validation\n",
       "7799      226322  anonymized_531350.jpg        precoz       1  validation\n",
       "7800      227489  anonymized_533460.jpg        tardia       1  validation\n",
       "7801      227547  anonymized_533591.jpg    intermedia       1  validation\n",
       "\n",
       "[7802 rows x 5 columns]"
      ]
     },
     "execution_count": 4,
     "metadata": {},
     "output_type": "execute_result"
    }
   ],
   "source": [
    "df"
   ]
  },
  {
   "cell_type": "code",
   "execution_count": 5,
   "metadata": {},
   "outputs": [],
   "source": [
    "def is_valid(path):\n",
    "    name = path[1]\n",
    "    return (df[df['nombre_foto']==name])['set'].values[0]=='validation'"
   ]
  },
  {
   "cell_type": "markdown",
   "metadata": {},
   "source": [
    "# 224"
   ]
  },
  {
   "cell_type": "code",
   "execution_count": 6,
   "metadata": {},
   "outputs": [],
   "source": [
    "from fastai.vision.all import *\n",
    "callbacks = [\n",
    "    ShowGraphCallback(),\n",
    "    EarlyStoppingCallback(patience=5),\n",
    "    SaveModelCallback(fname='resnetrs224wwf_ls',monitor='f1_score'),\n",
    "    #ReduceLROnPlateau(patience=2)\n",
    "]"
   ]
  },
  {
   "cell_type": "code",
   "execution_count": 7,
   "metadata": {},
   "outputs": [],
   "source": [
    "db = DataBlock(blocks = (ImageBlock, CategoryBlock),\n",
    "                 splitter=FuncSplitter(is_valid),\n",
    "                 get_x = ColReader(1,pref=\"../amd/\"),\n",
    "                 get_y=ColReader(3),\n",
    "                 item_tfms = [Resize(384)], # CropPad(200,200)\n",
    "                 batch_tfms=[*aug_transforms(size=224, min_scale=0.75,do_flip=True,flip_vert=True,\n",
    "                      max_rotate=2.,max_zoom=1.1, max_warp=0.05,p_affine=0.9, p_lighting=0.8), \n",
    "                             Normalize.from_stats(*imagenet_stats)])"
   ]
  },
  {
   "cell_type": "code",
   "execution_count": 8,
   "metadata": {},
   "outputs": [],
   "source": [
    "dls = db.dataloaders(df.values,bs=128,num_workers=0)"
   ]
  },
  {
   "cell_type": "code",
   "execution_count": 9,
   "metadata": {},
   "outputs": [],
   "source": [
    "learn = timm.timm_learner(dls,'resnetrs50',metrics=[accuracy,Precision(),Recall(),F1Score(),RocAucBinary()],\n",
    "                cbs=callbacks,\n",
    "                loss_func= LabelSmoothingCrossEntropy()).to_fp16()"
   ]
  },
  {
   "cell_type": "code",
   "execution_count": 10,
   "metadata": {
    "scrolled": true
   },
   "outputs": [
    {
     "data": {
      "text/html": [],
      "text/plain": [
       "<IPython.core.display.HTML object>"
      ]
     },
     "metadata": {},
     "output_type": "display_data"
    },
    {
     "data": {
      "text/plain": [
       "SuggestedLRs(valley=0.0008317637839354575)"
      ]
     },
     "execution_count": 10,
     "metadata": {},
     "output_type": "execute_result"
    },
    {
     "data": {
      "image/png": "[encoded data removed]",
      "text/plain": [
       "<Figure size 432x288 with 1 Axes>"
      ]
     },
     "metadata": {
      "needs_background": "light"
     },
     "output_type": "display_data"
    }
   ],
   "source": [
    "learn.lr_find()"
   ]
  },
  {
   "cell_type": "code",
   "execution_count": 11,
   "metadata": {},
   "outputs": [
    {
     "data": {
      "text/html": [
       "<table border=\"1\" class=\"dataframe\">\n",
       "  <thead>\n",
       "    <tr style=\"text-align: left;\">\n",
       "      <th>epoch</th>\n",
       "      <th>train_loss</th>\n",
       "      <th>valid_loss</th>\n",
       "      <th>accuracy</th>\n",
       "      <th>precision_score</th>\n",
       "      <th>recall_score</th>\n",
       "      <th>f1_score</th>\n",
       "      <th>roc_auc_score</th>\n",
       "      <th>time</th>\n",
       "    </tr>\n",
       "  </thead>\n",
       "  <tbody>\n",
       "    <tr>\n",
       "      <td>0</td>\n",
       "      <td>0.935339</td>\n",
       "      <td>0.563454</td>\n",
       "      <td>0.810256</td>\n",
       "      <td>0.828804</td>\n",
       "      <td>0.782051</td>\n",
       "      <td>0.804749</td>\n",
       "      <td>0.881571</td>\n",
       "      <td>01:09</td>\n",
       "    </tr>\n",
       "    <tr>\n",
       "      <td>1</td>\n",
       "      <td>0.800742</td>\n",
       "      <td>0.600942</td>\n",
       "      <td>0.803846</td>\n",
       "      <td>0.888525</td>\n",
       "      <td>0.694872</td>\n",
       "      <td>0.779856</td>\n",
       "      <td>0.888435</td>\n",
       "      <td>01:08</td>\n",
       "    </tr>\n",
       "    <tr>\n",
       "      <td>2</td>\n",
       "      <td>0.712949</td>\n",
       "      <td>0.511994</td>\n",
       "      <td>0.826923</td>\n",
       "      <td>0.899687</td>\n",
       "      <td>0.735897</td>\n",
       "      <td>0.809591</td>\n",
       "      <td>0.901492</td>\n",
       "      <td>01:10</td>\n",
       "    </tr>\n",
       "  </tbody>\n",
       "</table>"
      ],
      "text/plain": [
       "<IPython.core.display.HTML object>"
      ]
     },
     "metadata": {},
     "output_type": "display_data"
    },
    {
     "name": "stdout",
     "output_type": "stream",
     "text": [
      "Better model found at epoch 0 with f1_score value: 0.8047493403693932.\n"
     ]
    },
    {
     "data": {
      "image/png": "[encoded data removed]",
      "text/plain": [
       "<Figure size 432x288 with 1 Axes>"
      ]
     },
     "metadata": {},
     "output_type": "display_data"
    },
    {
     "name": "stdout",
     "output_type": "stream",
     "text": [
      "Better model found at epoch 2 with f1_score value: 0.8095909732016926.\n"
     ]
    },
    {
     "data": {
      "text/html": [
       "<table border=\"1\" class=\"dataframe\">\n",
       "  <thead>\n",
       "    <tr style=\"text-align: left;\">\n",
       "      <th>epoch</th>\n",
       "      <th>train_loss</th>\n",
       "      <th>valid_loss</th>\n",
       "      <th>accuracy</th>\n",
       "      <th>precision_score</th>\n",
       "      <th>recall_score</th>\n",
       "      <th>f1_score</th>\n",
       "      <th>roc_auc_score</th>\n",
       "      <th>time</th>\n",
       "    </tr>\n",
       "  </thead>\n",
       "  <tbody>\n",
       "    <tr>\n",
       "      <td>0</td>\n",
       "      <td>0.562666</td>\n",
       "      <td>0.481866</td>\n",
       "      <td>0.839744</td>\n",
       "      <td>0.907692</td>\n",
       "      <td>0.756410</td>\n",
       "      <td>0.825175</td>\n",
       "      <td>0.910927</td>\n",
       "      <td>01:15</td>\n",
       "    </tr>\n",
       "    <tr>\n",
       "      <td>1</td>\n",
       "      <td>0.543134</td>\n",
       "      <td>0.464080</td>\n",
       "      <td>0.852564</td>\n",
       "      <td>0.896254</td>\n",
       "      <td>0.797436</td>\n",
       "      <td>0.843962</td>\n",
       "      <td>0.911713</td>\n",
       "      <td>01:13</td>\n",
       "    </tr>\n",
       "    <tr>\n",
       "      <td>2</td>\n",
       "      <td>0.532281</td>\n",
       "      <td>0.454828</td>\n",
       "      <td>0.855128</td>\n",
       "      <td>0.890141</td>\n",
       "      <td>0.810256</td>\n",
       "      <td>0.848322</td>\n",
       "      <td>0.915996</td>\n",
       "      <td>01:13</td>\n",
       "    </tr>\n",
       "    <tr>\n",
       "      <td>3</td>\n",
       "      <td>0.518983</td>\n",
       "      <td>0.447012</td>\n",
       "      <td>0.856410</td>\n",
       "      <td>0.873656</td>\n",
       "      <td>0.833333</td>\n",
       "      <td>0.853018</td>\n",
       "      <td>0.917867</td>\n",
       "      <td>01:13</td>\n",
       "    </tr>\n",
       "    <tr>\n",
       "      <td>4</td>\n",
       "      <td>0.501948</td>\n",
       "      <td>0.442557</td>\n",
       "      <td>0.858974</td>\n",
       "      <td>0.876344</td>\n",
       "      <td>0.835897</td>\n",
       "      <td>0.855643</td>\n",
       "      <td>0.920582</td>\n",
       "      <td>01:13</td>\n",
       "    </tr>\n",
       "    <tr>\n",
       "      <td>5</td>\n",
       "      <td>0.492339</td>\n",
       "      <td>0.443742</td>\n",
       "      <td>0.850000</td>\n",
       "      <td>0.895652</td>\n",
       "      <td>0.792308</td>\n",
       "      <td>0.840816</td>\n",
       "      <td>0.923060</td>\n",
       "      <td>01:13</td>\n",
       "    </tr>\n",
       "    <tr>\n",
       "      <td>6</td>\n",
       "      <td>0.484748</td>\n",
       "      <td>0.438137</td>\n",
       "      <td>0.860256</td>\n",
       "      <td>0.893557</td>\n",
       "      <td>0.817949</td>\n",
       "      <td>0.854083</td>\n",
       "      <td>0.924211</td>\n",
       "      <td>01:13</td>\n",
       "    </tr>\n",
       "    <tr>\n",
       "      <td>7</td>\n",
       "      <td>0.473678</td>\n",
       "      <td>0.436897</td>\n",
       "      <td>0.861538</td>\n",
       "      <td>0.902857</td>\n",
       "      <td>0.810256</td>\n",
       "      <td>0.854054</td>\n",
       "      <td>0.927373</td>\n",
       "      <td>01:13</td>\n",
       "    </tr>\n",
       "    <tr>\n",
       "      <td>8</td>\n",
       "      <td>0.464318</td>\n",
       "      <td>0.432519</td>\n",
       "      <td>0.858974</td>\n",
       "      <td>0.876344</td>\n",
       "      <td>0.835897</td>\n",
       "      <td>0.855643</td>\n",
       "      <td>0.927202</td>\n",
       "      <td>01:14</td>\n",
       "    </tr>\n",
       "    <tr>\n",
       "      <td>9</td>\n",
       "      <td>0.461453</td>\n",
       "      <td>0.426994</td>\n",
       "      <td>0.864103</td>\n",
       "      <td>0.883784</td>\n",
       "      <td>0.838462</td>\n",
       "      <td>0.860526</td>\n",
       "      <td>0.929333</td>\n",
       "      <td>01:13</td>\n",
       "    </tr>\n",
       "    <tr>\n",
       "      <td>10</td>\n",
       "      <td>0.448977</td>\n",
       "      <td>0.438195</td>\n",
       "      <td>0.866667</td>\n",
       "      <td>0.920588</td>\n",
       "      <td>0.802564</td>\n",
       "      <td>0.857534</td>\n",
       "      <td>0.930023</td>\n",
       "      <td>01:13</td>\n",
       "    </tr>\n",
       "    <tr>\n",
       "      <td>11</td>\n",
       "      <td>0.440224</td>\n",
       "      <td>0.437097</td>\n",
       "      <td>0.857692</td>\n",
       "      <td>0.904348</td>\n",
       "      <td>0.800000</td>\n",
       "      <td>0.848980</td>\n",
       "      <td>0.929707</td>\n",
       "      <td>01:13</td>\n",
       "    </tr>\n",
       "    <tr>\n",
       "      <td>12</td>\n",
       "      <td>0.433831</td>\n",
       "      <td>0.426842</td>\n",
       "      <td>0.861538</td>\n",
       "      <td>0.924699</td>\n",
       "      <td>0.787179</td>\n",
       "      <td>0.850416</td>\n",
       "      <td>0.935983</td>\n",
       "      <td>01:13</td>\n",
       "    </tr>\n",
       "    <tr>\n",
       "      <td>13</td>\n",
       "      <td>0.422585</td>\n",
       "      <td>0.416845</td>\n",
       "      <td>0.871795</td>\n",
       "      <td>0.914286</td>\n",
       "      <td>0.820513</td>\n",
       "      <td>0.864865</td>\n",
       "      <td>0.937272</td>\n",
       "      <td>01:13</td>\n",
       "    </tr>\n",
       "    <tr>\n",
       "      <td>14</td>\n",
       "      <td>0.415352</td>\n",
       "      <td>0.407197</td>\n",
       "      <td>0.876923</td>\n",
       "      <td>0.884817</td>\n",
       "      <td>0.866667</td>\n",
       "      <td>0.875648</td>\n",
       "      <td>0.940585</td>\n",
       "      <td>01:13</td>\n",
       "    </tr>\n",
       "    <tr>\n",
       "      <td>15</td>\n",
       "      <td>0.411572</td>\n",
       "      <td>0.414768</td>\n",
       "      <td>0.874359</td>\n",
       "      <td>0.917143</td>\n",
       "      <td>0.823077</td>\n",
       "      <td>0.867568</td>\n",
       "      <td>0.939053</td>\n",
       "      <td>01:10</td>\n",
       "    </tr>\n",
       "    <tr>\n",
       "      <td>16</td>\n",
       "      <td>0.408899</td>\n",
       "      <td>0.423997</td>\n",
       "      <td>0.864103</td>\n",
       "      <td>0.927711</td>\n",
       "      <td>0.789744</td>\n",
       "      <td>0.853186</td>\n",
       "      <td>0.937880</td>\n",
       "      <td>01:10</td>\n",
       "    </tr>\n",
       "    <tr>\n",
       "      <td>17</td>\n",
       "      <td>0.398641</td>\n",
       "      <td>0.408481</td>\n",
       "      <td>0.876923</td>\n",
       "      <td>0.901639</td>\n",
       "      <td>0.846154</td>\n",
       "      <td>0.873016</td>\n",
       "      <td>0.940878</td>\n",
       "      <td>01:10</td>\n",
       "    </tr>\n",
       "    <tr>\n",
       "      <td>18</td>\n",
       "      <td>0.396969</td>\n",
       "      <td>0.410911</td>\n",
       "      <td>0.870513</td>\n",
       "      <td>0.911681</td>\n",
       "      <td>0.820513</td>\n",
       "      <td>0.863698</td>\n",
       "      <td>0.942748</td>\n",
       "      <td>01:09</td>\n",
       "    </tr>\n",
       "    <tr>\n",
       "      <td>19</td>\n",
       "      <td>0.390464</td>\n",
       "      <td>0.408406</td>\n",
       "      <td>0.869231</td>\n",
       "      <td>0.909091</td>\n",
       "      <td>0.820513</td>\n",
       "      <td>0.862534</td>\n",
       "      <td>0.943208</td>\n",
       "      <td>01:09</td>\n",
       "    </tr>\n",
       "  </tbody>\n",
       "</table>"
      ],
      "text/plain": [
       "<IPython.core.display.HTML object>"
      ]
     },
     "metadata": {},
     "output_type": "display_data"
    },
    {
     "name": "stdout",
     "output_type": "stream",
     "text": [
      "Better model found at epoch 0 with f1_score value: 0.8251748251748253.\n"
     ]
    },
    {
     "data": {
      "image/png": "[encoded data removed]",
      "text/plain": [
       "<Figure size 432x288 with 1 Axes>"
      ]
     },
     "metadata": {},
     "output_type": "display_data"
    },
    {
     "name": "stdout",
     "output_type": "stream",
     "text": [
      "Better model found at epoch 1 with f1_score value: 0.8439620081411126.\n",
      "Better model found at epoch 2 with f1_score value: 0.8483221476510069.\n",
      "Better model found at epoch 3 with f1_score value: 0.8530183727034121.\n",
      "Better model found at epoch 4 with f1_score value: 0.8556430446194226.\n",
      "Better model found at epoch 9 with f1_score value: 0.8605263157894737.\n",
      "Better model found at epoch 13 with f1_score value: 0.8648648648648648.\n",
      "Better model found at epoch 14 with f1_score value: 0.8756476683937824.\n",
      "No improvement since epoch 14: early stopping\n"
     ]
    }
   ],
   "source": [
    "learn.fine_tune(100,base_lr=1e-3,freeze_epochs=3)"
   ]
  },
  {
   "cell_type": "code",
   "execution_count": 12,
   "metadata": {},
   "outputs": [],
   "source": [
    "dfTest = pd.read_csv('../testSample.csv')"
   ]
  },
  {
   "cell_type": "code",
   "execution_count": 13,
   "metadata": {},
   "outputs": [],
   "source": [
    "def is_test(path):\n",
    "    name = path[1]\n",
    "    return (dfTest[dfTest['nombre_foto']==name])['set'].values[0]=='test'"
   ]
  },
  {
   "cell_type": "code",
   "execution_count": 14,
   "metadata": {},
   "outputs": [],
   "source": [
    "dbTest = DataBlock(blocks = (ImageBlock, CategoryBlock),\n",
    "                 splitter=FuncSplitter(is_test),\n",
    "                 get_x = ColReader(1,pref=\"../amd/\"),\n",
    "                 get_y=ColReader(3),\n",
    "                 item_tfms = [Resize(384)], # CropPad(200,200)\n",
    "                 batch_tfms=[*aug_transforms(size=224, min_scale=0.75,do_flip=True,flip_vert=True,\n",
    "                      max_rotate=2.,max_zoom=1.1, max_warp=0.05,p_affine=0.9, p_lighting=0.8), \n",
    "                             Normalize.from_stats(*imagenet_stats)])"
   ]
  },
  {
   "cell_type": "code",
   "execution_count": 15,
   "metadata": {},
   "outputs": [],
   "source": [
    "dlsTest = dbTest.dataloaders(dfTest.values,bs=128,num_workers=0)"
   ]
  },
  {
   "cell_type": "code",
   "execution_count": 16,
   "metadata": {},
   "outputs": [],
   "source": [
    "learn.dls = dlsTest"
   ]
  },
  {
   "cell_type": "code",
   "execution_count": null,
   "metadata": {},
   "outputs": [
    {
     "data": {
      "text/html": [
       "\n",
       "    <div>\n",
       "        <style>\n",
       "            /* Turns off some styling */\n",
       "            progress {\n",
       "                /* gets rid of default border in Firefox and Opera. */\n",
       "                border: none;\n",
       "                /* Needs to be in here for Safari polyfill so background images work as expected. */\n",
       "                background-size: auto;\n",
       "            }\n",
       "            .progress-bar-interrupted, .progress-bar-interrupted::-webkit-progress-bar {\n",
       "                background: #F44336;\n",
       "            }\n",
       "        </style>\n",
       "      <progress value='3' class='' max='16' style='width:300px; height:20px; vertical-align: middle;'></progress>\n",
       "      18.75% [3/16 00:02<00:11 0.3905]\n",
       "    </div>\n",
       "    "
      ],
      "text/plain": [
       "<IPython.core.display.HTML object>"
      ]
     },
     "metadata": {},
     "output_type": "display_data"
    }
   ],
   "source": [
    "learn.validate()"
   ]
  },
  {
   "cell_type": "markdown",
   "metadata": {},
   "source": [
    "# 384"
   ]
  },
  {
   "cell_type": "code",
   "execution_count": 6,
   "metadata": {},
   "outputs": [],
   "source": [
    "import torch\n",
    "torch.cuda.set_device(1)\n",
    "callbacks = [\n",
    "    ShowGraphCallback(),\n",
    "    EarlyStoppingCallback(patience=5),\n",
    "    SaveModelCallback(fname='resnetrs384wwf_ls',monitor='f1_score'),\n",
    "    #ReduceLROnPlateau(patience=2)\n",
    "]"
   ]
  },
  {
   "cell_type": "code",
   "execution_count": 7,
   "metadata": {},
   "outputs": [],
   "source": [
    "db = DataBlock(blocks = (ImageBlock, CategoryBlock),\n",
    "                 splitter=FuncSplitter(is_valid),\n",
    "                 get_x = ColReader(1,pref=\"../amd/\"),\n",
    "                 get_y=ColReader(3),\n",
    "                 item_tfms = [Resize(512)], # CropPad(200,200)\n",
    "                 batch_tfms=[*aug_transforms(size=384, min_scale=0.75,do_flip=True,flip_vert=True,\n",
    "                      max_rotate=2.,max_zoom=1.1, max_warp=0.05,p_affine=0.9, p_lighting=0.8), \n",
    "                             Normalize.from_stats(*imagenet_stats)])"
   ]
  },
  {
   "cell_type": "code",
   "execution_count": 8,
   "metadata": {},
   "outputs": [],
   "source": [
    "dls = db.dataloaders(df.values,bs=32,num_workers=0)"
   ]
  },
  {
   "cell_type": "code",
   "execution_count": 9,
   "metadata": {},
   "outputs": [],
   "source": [
    "learn = timm.timm_learner(dls,'resnetrs50',metrics=[accuracy,Precision(),Recall(),F1Score(),RocAucBinary()],\n",
    "                cbs=callbacks,\n",
    "                loss_func= LabelSmoothingCrossEntropy()).to_fp16()"
   ]
  },
  {
   "cell_type": "code",
   "execution_count": 10,
   "metadata": {},
   "outputs": [
    {
     "name": "stderr",
     "output_type": "stream",
     "text": [
      "/home/jonathan/.virtualenvs/segmentation/lib/python3.6/site-packages/fastai/learner.py:56: UserWarning: Saved filed doesn't contain an optimizer state.\n",
      "  elif with_opt: warn(\"Saved filed doesn't contain an optimizer state.\")\n"
     ]
    },
    {
     "data": {
      "text/plain": [
       "<fastai.learner.Learner at 0x7f500390efd0>"
      ]
     },
     "execution_count": 10,
     "metadata": {},
     "output_type": "execute_result"
    }
   ],
   "source": [
    "learn.load('resnetrs224wwf_ls')"
   ]
  },
  {
   "cell_type": "code",
   "execution_count": 11,
   "metadata": {},
   "outputs": [
    {
     "data": {
      "text/html": [],
      "text/plain": [
       "<IPython.core.display.HTML object>"
      ]
     },
     "metadata": {},
     "output_type": "display_data"
    },
    {
     "data": {
      "text/plain": [
       "SuggestedLRs(valley=0.0003981071640737355)"
      ]
     },
     "execution_count": 11,
     "metadata": {},
     "output_type": "execute_result"
    },
    {
     "data": {
      "image/png": "[encoded data removed]",
      "text/plain": [
       "<Figure size 432x288 with 1 Axes>"
      ]
     },
     "metadata": {
      "needs_background": "light"
     },
     "output_type": "display_data"
    }
   ],
   "source": [
    "learn.lr_find()"
   ]
  },
  {
   "cell_type": "code",
   "execution_count": 12,
   "metadata": {},
   "outputs": [
    {
     "data": {
      "text/html": [
       "<table border=\"1\" class=\"dataframe\">\n",
       "  <thead>\n",
       "    <tr style=\"text-align: left;\">\n",
       "      <th>epoch</th>\n",
       "      <th>train_loss</th>\n",
       "      <th>valid_loss</th>\n",
       "      <th>accuracy</th>\n",
       "      <th>precision_score</th>\n",
       "      <th>recall_score</th>\n",
       "      <th>f1_score</th>\n",
       "      <th>roc_auc_score</th>\n",
       "      <th>time</th>\n",
       "    </tr>\n",
       "  </thead>\n",
       "  <tbody>\n",
       "    <tr>\n",
       "      <td>0</td>\n",
       "      <td>0.134358</td>\n",
       "      <td>0.125473</td>\n",
       "      <td>0.820513</td>\n",
       "      <td>0.900641</td>\n",
       "      <td>0.720513</td>\n",
       "      <td>0.800570</td>\n",
       "      <td>0.910322</td>\n",
       "      <td>01:36</td>\n",
       "    </tr>\n",
       "  </tbody>\n",
       "</table>"
      ],
      "text/plain": [
       "<IPython.core.display.HTML object>"
      ]
     },
     "metadata": {},
     "output_type": "display_data"
    },
    {
     "name": "stdout",
     "output_type": "stream",
     "text": [
      "Better model found at epoch 0 with f1_score value: 0.8005698005698006.\n"
     ]
    },
    {
     "data": {
      "image/png": "[encoded data removed]",
      "text/plain": [
       "<Figure size 432x288 with 1 Axes>"
      ]
     },
     "metadata": {},
     "output_type": "display_data"
    },
    {
     "data": {
      "text/html": [
       "<table border=\"1\" class=\"dataframe\">\n",
       "  <thead>\n",
       "    <tr style=\"text-align: left;\">\n",
       "      <th>epoch</th>\n",
       "      <th>train_loss</th>\n",
       "      <th>valid_loss</th>\n",
       "      <th>accuracy</th>\n",
       "      <th>precision_score</th>\n",
       "      <th>recall_score</th>\n",
       "      <th>f1_score</th>\n",
       "      <th>roc_auc_score</th>\n",
       "      <th>time</th>\n",
       "    </tr>\n",
       "  </thead>\n",
       "  <tbody>\n",
       "    <tr>\n",
       "      <td>0</td>\n",
       "      <td>0.090035</td>\n",
       "      <td>0.082429</td>\n",
       "      <td>0.869231</td>\n",
       "      <td>0.913793</td>\n",
       "      <td>0.815385</td>\n",
       "      <td>0.861789</td>\n",
       "      <td>0.943264</td>\n",
       "      <td>01:52</td>\n",
       "    </tr>\n",
       "    <tr>\n",
       "      <td>1</td>\n",
       "      <td>0.080924</td>\n",
       "      <td>0.077781</td>\n",
       "      <td>0.878205</td>\n",
       "      <td>0.913165</td>\n",
       "      <td>0.835897</td>\n",
       "      <td>0.872825</td>\n",
       "      <td>0.948938</td>\n",
       "      <td>01:51</td>\n",
       "    </tr>\n",
       "    <tr>\n",
       "      <td>2</td>\n",
       "      <td>0.083689</td>\n",
       "      <td>0.077497</td>\n",
       "      <td>0.880769</td>\n",
       "      <td>0.940653</td>\n",
       "      <td>0.812821</td>\n",
       "      <td>0.872077</td>\n",
       "      <td>0.951824</td>\n",
       "      <td>01:51</td>\n",
       "    </tr>\n",
       "    <tr>\n",
       "      <td>3</td>\n",
       "      <td>0.082064</td>\n",
       "      <td>0.075229</td>\n",
       "      <td>0.896154</td>\n",
       "      <td>0.945245</td>\n",
       "      <td>0.841026</td>\n",
       "      <td>0.890095</td>\n",
       "      <td>0.954168</td>\n",
       "      <td>01:52</td>\n",
       "    </tr>\n",
       "    <tr>\n",
       "      <td>4</td>\n",
       "      <td>0.078546</td>\n",
       "      <td>0.076489</td>\n",
       "      <td>0.891026</td>\n",
       "      <td>0.913279</td>\n",
       "      <td>0.864103</td>\n",
       "      <td>0.888011</td>\n",
       "      <td>0.949057</td>\n",
       "      <td>01:51</td>\n",
       "    </tr>\n",
       "    <tr>\n",
       "      <td>5</td>\n",
       "      <td>0.069698</td>\n",
       "      <td>0.075142</td>\n",
       "      <td>0.885897</td>\n",
       "      <td>0.919220</td>\n",
       "      <td>0.846154</td>\n",
       "      <td>0.881175</td>\n",
       "      <td>0.953531</td>\n",
       "      <td>01:51</td>\n",
       "    </tr>\n",
       "    <tr>\n",
       "      <td>6</td>\n",
       "      <td>0.073993</td>\n",
       "      <td>0.078582</td>\n",
       "      <td>0.888462</td>\n",
       "      <td>0.949555</td>\n",
       "      <td>0.820513</td>\n",
       "      <td>0.880330</td>\n",
       "      <td>0.956256</td>\n",
       "      <td>01:52</td>\n",
       "    </tr>\n",
       "    <tr>\n",
       "      <td>7</td>\n",
       "      <td>0.068722</td>\n",
       "      <td>0.080695</td>\n",
       "      <td>0.879487</td>\n",
       "      <td>0.948485</td>\n",
       "      <td>0.802564</td>\n",
       "      <td>0.869444</td>\n",
       "      <td>0.953961</td>\n",
       "      <td>01:51</td>\n",
       "    </tr>\n",
       "    <tr>\n",
       "      <td>8</td>\n",
       "      <td>0.064554</td>\n",
       "      <td>0.074832</td>\n",
       "      <td>0.891026</td>\n",
       "      <td>0.886076</td>\n",
       "      <td>0.897436</td>\n",
       "      <td>0.891720</td>\n",
       "      <td>0.951923</td>\n",
       "      <td>01:51</td>\n",
       "    </tr>\n",
       "    <tr>\n",
       "      <td>9</td>\n",
       "      <td>0.063177</td>\n",
       "      <td>0.085940</td>\n",
       "      <td>0.888462</td>\n",
       "      <td>0.954955</td>\n",
       "      <td>0.815385</td>\n",
       "      <td>0.879668</td>\n",
       "      <td>0.955894</td>\n",
       "      <td>01:51</td>\n",
       "    </tr>\n",
       "    <tr>\n",
       "      <td>10</td>\n",
       "      <td>0.062411</td>\n",
       "      <td>0.078258</td>\n",
       "      <td>0.897436</td>\n",
       "      <td>0.937853</td>\n",
       "      <td>0.851282</td>\n",
       "      <td>0.892473</td>\n",
       "      <td>0.955950</td>\n",
       "      <td>01:51</td>\n",
       "    </tr>\n",
       "    <tr>\n",
       "      <td>11</td>\n",
       "      <td>0.066404</td>\n",
       "      <td>0.078934</td>\n",
       "      <td>0.894872</td>\n",
       "      <td>0.937500</td>\n",
       "      <td>0.846154</td>\n",
       "      <td>0.889488</td>\n",
       "      <td>0.957058</td>\n",
       "      <td>01:52</td>\n",
       "    </tr>\n",
       "    <tr>\n",
       "      <td>12</td>\n",
       "      <td>0.063274</td>\n",
       "      <td>0.083817</td>\n",
       "      <td>0.880769</td>\n",
       "      <td>0.920680</td>\n",
       "      <td>0.833333</td>\n",
       "      <td>0.874832</td>\n",
       "      <td>0.948396</td>\n",
       "      <td>01:52</td>\n",
       "    </tr>\n",
       "    <tr>\n",
       "      <td>13</td>\n",
       "      <td>0.057772</td>\n",
       "      <td>0.075965</td>\n",
       "      <td>0.910256</td>\n",
       "      <td>0.944444</td>\n",
       "      <td>0.871795</td>\n",
       "      <td>0.906667</td>\n",
       "      <td>0.960460</td>\n",
       "      <td>01:53</td>\n",
       "    </tr>\n",
       "  </tbody>\n",
       "</table>"
      ],
      "text/plain": [
       "<IPython.core.display.HTML object>"
      ]
     },
     "metadata": {},
     "output_type": "display_data"
    },
    {
     "name": "stdout",
     "output_type": "stream",
     "text": [
      "Better model found at epoch 0 with f1_score value: 0.8617886178861788.\n"
     ]
    },
    {
     "data": {
      "image/png": "[encoded data removed]",
      "text/plain": [
       "<Figure size 432x288 with 1 Axes>"
      ]
     },
     "metadata": {},
     "output_type": "display_data"
    },
    {
     "name": "stdout",
     "output_type": "stream",
     "text": [
      "Better model found at epoch 1 with f1_score value: 0.8728246318607764.\n",
      "Better model found at epoch 3 with f1_score value: 0.8900949796472185.\n",
      "Better model found at epoch 8 with f1_score value: 0.8917197452229298.\n",
      "Better model found at epoch 10 with f1_score value: 0.8924731182795698.\n",
      "Better model found at epoch 13 with f1_score value: 0.9066666666666667.\n",
      "No improvement since epoch 8: early stopping\n"
     ]
    }
   ],
   "source": [
    "learn.fine_tune(100,base_lr=3e-3)"
   ]
  },
  {
   "cell_type": "code",
   "execution_count": 13,
   "metadata": {},
   "outputs": [],
   "source": [
    "dfTest = pd.read_csv('../testSample.csv')"
   ]
  },
  {
   "cell_type": "code",
   "execution_count": 14,
   "metadata": {},
   "outputs": [],
   "source": [
    "def is_test(path):\n",
    "    name = path[1]\n",
    "    return (dfTest[dfTest['nombre_foto']==name])['set'].values[0]=='test'"
   ]
  },
  {
   "cell_type": "code",
   "execution_count": 15,
   "metadata": {},
   "outputs": [],
   "source": [
    "dbTest = DataBlock(blocks = (ImageBlock, CategoryBlock),\n",
    "                 splitter=FuncSplitter(is_test),\n",
    "                 get_x = ColReader(1,pref=\"../amd/\"),\n",
    "                 get_y=ColReader(3),\n",
    "                 item_tfms = [Resize(512)], # CropPad(200,200)\n",
    "                 batch_tfms=[*aug_transforms(size=384, min_scale=0.75,do_flip=True,flip_vert=True,\n",
    "                      max_rotate=2.,max_zoom=1.1, max_warp=0.05,p_affine=0.9, p_lighting=0.8), \n",
    "                             Normalize.from_stats(*imagenet_stats)])"
   ]
  },
  {
   "cell_type": "code",
   "execution_count": 16,
   "metadata": {},
   "outputs": [],
   "source": [
    "dlsTest = dbTest.dataloaders(dfTest.values,bs=64,num_workers=0)"
   ]
  },
  {
   "cell_type": "code",
   "execution_count": 17,
   "metadata": {},
   "outputs": [],
   "source": [
    "learn.dls = dlsTest"
   ]
  },
  {
   "cell_type": "code",
   "execution_count": 18,
   "metadata": {},
   "outputs": [
    {
     "data": {
      "text/html": [],
      "text/plain": [
       "<IPython.core.display.HTML object>"
      ]
     },
     "metadata": {},
     "output_type": "display_data"
    },
    {
     "name": "stdout",
     "output_type": "stream",
     "text": [
      "Better model found at epoch 0 with f1_score value: 0.9592915187376725.\n"
     ]
    },
    {
     "data": {
      "text/plain": [
       "(#6) [0.07671383768320084,0.8805128335952759,0.9159192825112108,0.837948717948718,0.8752008569898232,0.9592915187376725]"
      ]
     },
     "execution_count": 18,
     "metadata": {},
     "output_type": "execute_result"
    }
   ],
   "source": [
    "learn.validate()"
   ]
  },
  {
   "cell_type": "markdown",
   "metadata": {},
   "source": [
    "# 512"
   ]
  },
  {
   "cell_type": "code",
   "execution_count": 7,
   "metadata": {},
   "outputs": [],
   "source": [
    "import torch\n",
    "torch.cuda.set_device(1)\n",
    "callbacks = [\n",
    "    ShowGraphCallback(),\n",
    "    EarlyStoppingCallback(patience=5),\n",
    "    SaveModelCallback(fname='resnetrs512wwf_ls',monitor='f1_score'),\n",
    "    #ReduceLROnPlateau(patience=2)\n",
    "]"
   ]
  },
  {
   "cell_type": "code",
   "execution_count": 8,
   "metadata": {},
   "outputs": [],
   "source": [
    "db = DataBlock(blocks = (ImageBlock, CategoryBlock),\n",
    "                 splitter=FuncSplitter(is_valid),\n",
    "                 get_x = ColReader(1,pref=\"../amd/\"),\n",
    "                 get_y=ColReader(3),\n",
    "                 item_tfms = [Resize(640)], # CropPad(200,200)\n",
    "                 batch_tfms=[*aug_transforms(size=512, min_scale=0.75,do_flip=True,flip_vert=True,\n",
    "                      max_rotate=2.,max_zoom=1.1, max_warp=0.05,p_affine=0.9, p_lighting=0.8), \n",
    "                             Normalize.from_stats(*imagenet_stats)])"
   ]
  },
  {
   "cell_type": "code",
   "execution_count": 9,
   "metadata": {},
   "outputs": [],
   "source": [
    "dls = db.dataloaders(df.values,bs=8,num_workers=0)"
   ]
  },
  {
   "cell_type": "code",
   "execution_count": 11,
   "metadata": {},
   "outputs": [],
   "source": [
    "learn = timm.timm_learner(dls,'resnetrs50',metrics=[accuracy,Precision(),Recall(),F1Score(),RocAucBinary()],\n",
    "                cbs=callbacks,\n",
    "                loss_func= LabelSmoothingCrossEntropy()).to_fp16()"
   ]
  },
  {
   "cell_type": "code",
   "execution_count": 12,
   "metadata": {},
   "outputs": [
    {
     "name": "stderr",
     "output_type": "stream",
     "text": [
      "/home/jonathan/.virtualenvs/segmentation/lib/python3.6/site-packages/fastai/learner.py:56: UserWarning: Saved filed doesn't contain an optimizer state.\n",
      "  elif with_opt: warn(\"Saved filed doesn't contain an optimizer state.\")\n"
     ]
    },
    {
     "data": {
      "text/plain": [
       "<fastai.learner.Learner at 0x7ff7aa30f588>"
      ]
     },
     "execution_count": 12,
     "metadata": {},
     "output_type": "execute_result"
    }
   ],
   "source": [
    "learn.load('resnetrs384wwf_ls')"
   ]
  },
  {
   "cell_type": "code",
   "execution_count": 15,
   "metadata": {},
   "outputs": [
    {
     "data": {
      "text/html": [],
      "text/plain": [
       "<IPython.core.display.HTML object>"
      ]
     },
     "metadata": {},
     "output_type": "display_data"
    },
    {
     "data": {
      "text/plain": [
       "SuggestedLRs(valley=7.943282253108919e-05)"
      ]
     },
     "execution_count": 15,
     "metadata": {},
     "output_type": "execute_result"
    },
    {
     "data": {
      "image/png": "[encoded data removed]",
      "text/plain": [
       "<Figure size 432x288 with 1 Axes>"
      ]
     },
     "metadata": {
      "needs_background": "light"
     },
     "output_type": "display_data"
    }
   ],
   "source": [
    "learn.lr_find(start_lr=1e-09)"
   ]
  },
  {
   "cell_type": "code",
   "execution_count": 16,
   "metadata": {},
   "outputs": [
    {
     "data": {
      "text/html": [
       "<table border=\"1\" class=\"dataframe\">\n",
       "  <thead>\n",
       "    <tr style=\"text-align: left;\">\n",
       "      <th>epoch</th>\n",
       "      <th>train_loss</th>\n",
       "      <th>valid_loss</th>\n",
       "      <th>accuracy</th>\n",
       "      <th>precision_score</th>\n",
       "      <th>recall_score</th>\n",
       "      <th>f1_score</th>\n",
       "      <th>roc_auc_score</th>\n",
       "      <th>time</th>\n",
       "    </tr>\n",
       "  </thead>\n",
       "  <tbody>\n",
       "    <tr>\n",
       "      <td>0</td>\n",
       "      <td>0.095257</td>\n",
       "      <td>0.079316</td>\n",
       "      <td>0.879487</td>\n",
       "      <td>0.915730</td>\n",
       "      <td>0.835897</td>\n",
       "      <td>0.873995</td>\n",
       "      <td>0.949389</td>\n",
       "      <td>03:15</td>\n",
       "    </tr>\n",
       "  </tbody>\n",
       "</table>"
      ],
      "text/plain": [
       "<IPython.core.display.HTML object>"
      ]
     },
     "metadata": {},
     "output_type": "display_data"
    },
    {
     "name": "stdout",
     "output_type": "stream",
     "text": [
      "Better model found at epoch 0 with f1_score value: 0.873994638069705.\n"
     ]
    },
    {
     "data": {
      "image/png": "[encoded data removed]",
      "text/plain": [
       "<Figure size 432x288 with 1 Axes>"
      ]
     },
     "metadata": {},
     "output_type": "display_data"
    },
    {
     "data": {
      "text/html": [
       "<table border=\"1\" class=\"dataframe\">\n",
       "  <thead>\n",
       "    <tr style=\"text-align: left;\">\n",
       "      <th>epoch</th>\n",
       "      <th>train_loss</th>\n",
       "      <th>valid_loss</th>\n",
       "      <th>accuracy</th>\n",
       "      <th>precision_score</th>\n",
       "      <th>recall_score</th>\n",
       "      <th>f1_score</th>\n",
       "      <th>roc_auc_score</th>\n",
       "      <th>time</th>\n",
       "    </tr>\n",
       "  </thead>\n",
       "  <tbody>\n",
       "    <tr>\n",
       "      <td>0</td>\n",
       "      <td>0.088825</td>\n",
       "      <td>0.074094</td>\n",
       "      <td>0.888462</td>\n",
       "      <td>0.915068</td>\n",
       "      <td>0.856410</td>\n",
       "      <td>0.884768</td>\n",
       "      <td>0.953320</td>\n",
       "      <td>03:59</td>\n",
       "    </tr>\n",
       "    <tr>\n",
       "      <td>1</td>\n",
       "      <td>0.089530</td>\n",
       "      <td>0.072411</td>\n",
       "      <td>0.884615</td>\n",
       "      <td>0.916667</td>\n",
       "      <td>0.846154</td>\n",
       "      <td>0.880000</td>\n",
       "      <td>0.955822</td>\n",
       "      <td>03:54</td>\n",
       "    </tr>\n",
       "    <tr>\n",
       "      <td>2</td>\n",
       "      <td>0.086851</td>\n",
       "      <td>0.076595</td>\n",
       "      <td>0.882051</td>\n",
       "      <td>0.925714</td>\n",
       "      <td>0.830769</td>\n",
       "      <td>0.875676</td>\n",
       "      <td>0.955191</td>\n",
       "      <td>03:53</td>\n",
       "    </tr>\n",
       "    <tr>\n",
       "      <td>3</td>\n",
       "      <td>0.066211</td>\n",
       "      <td>0.075829</td>\n",
       "      <td>0.888462</td>\n",
       "      <td>0.934097</td>\n",
       "      <td>0.835897</td>\n",
       "      <td>0.882273</td>\n",
       "      <td>0.954750</td>\n",
       "      <td>03:53</td>\n",
       "    </tr>\n",
       "    <tr>\n",
       "      <td>4</td>\n",
       "      <td>0.091372</td>\n",
       "      <td>0.074574</td>\n",
       "      <td>0.883333</td>\n",
       "      <td>0.923513</td>\n",
       "      <td>0.835897</td>\n",
       "      <td>0.877524</td>\n",
       "      <td>0.955302</td>\n",
       "      <td>03:53</td>\n",
       "    </tr>\n",
       "    <tr>\n",
       "      <td>5</td>\n",
       "      <td>0.079353</td>\n",
       "      <td>0.072455</td>\n",
       "      <td>0.888462</td>\n",
       "      <td>0.929178</td>\n",
       "      <td>0.841026</td>\n",
       "      <td>0.882907</td>\n",
       "      <td>0.957344</td>\n",
       "      <td>03:53</td>\n",
       "    </tr>\n",
       "    <tr>\n",
       "      <td>6</td>\n",
       "      <td>0.077460</td>\n",
       "      <td>0.072099</td>\n",
       "      <td>0.889744</td>\n",
       "      <td>0.913043</td>\n",
       "      <td>0.861538</td>\n",
       "      <td>0.886544</td>\n",
       "      <td>0.956236</td>\n",
       "      <td>03:53</td>\n",
       "    </tr>\n",
       "    <tr>\n",
       "      <td>7</td>\n",
       "      <td>0.077569</td>\n",
       "      <td>0.070378</td>\n",
       "      <td>0.883333</td>\n",
       "      <td>0.911846</td>\n",
       "      <td>0.848718</td>\n",
       "      <td>0.879150</td>\n",
       "      <td>0.958557</td>\n",
       "      <td>03:53</td>\n",
       "    </tr>\n",
       "    <tr>\n",
       "      <td>8</td>\n",
       "      <td>0.078636</td>\n",
       "      <td>0.078829</td>\n",
       "      <td>0.880769</td>\n",
       "      <td>0.954128</td>\n",
       "      <td>0.800000</td>\n",
       "      <td>0.870293</td>\n",
       "      <td>0.956719</td>\n",
       "      <td>03:55</td>\n",
       "    </tr>\n",
       "    <tr>\n",
       "      <td>9</td>\n",
       "      <td>0.066827</td>\n",
       "      <td>0.072138</td>\n",
       "      <td>0.893590</td>\n",
       "      <td>0.927577</td>\n",
       "      <td>0.853846</td>\n",
       "      <td>0.889186</td>\n",
       "      <td>0.957972</td>\n",
       "      <td>03:59</td>\n",
       "    </tr>\n",
       "    <tr>\n",
       "      <td>10</td>\n",
       "      <td>0.079974</td>\n",
       "      <td>0.068481</td>\n",
       "      <td>0.897436</td>\n",
       "      <td>0.901554</td>\n",
       "      <td>0.892308</td>\n",
       "      <td>0.896907</td>\n",
       "      <td>0.958981</td>\n",
       "      <td>03:58</td>\n",
       "    </tr>\n",
       "    <tr>\n",
       "      <td>11</td>\n",
       "      <td>0.076006</td>\n",
       "      <td>0.078071</td>\n",
       "      <td>0.882051</td>\n",
       "      <td>0.951515</td>\n",
       "      <td>0.805128</td>\n",
       "      <td>0.872222</td>\n",
       "      <td>0.957502</td>\n",
       "      <td>03:59</td>\n",
       "    </tr>\n",
       "    <tr>\n",
       "      <td>12</td>\n",
       "      <td>0.088759</td>\n",
       "      <td>0.071112</td>\n",
       "      <td>0.898718</td>\n",
       "      <td>0.876513</td>\n",
       "      <td>0.928205</td>\n",
       "      <td>0.901619</td>\n",
       "      <td>0.960542</td>\n",
       "      <td>03:59</td>\n",
       "    </tr>\n",
       "    <tr>\n",
       "      <td>13</td>\n",
       "      <td>0.074022</td>\n",
       "      <td>0.071062</td>\n",
       "      <td>0.896154</td>\n",
       "      <td>0.937677</td>\n",
       "      <td>0.848718</td>\n",
       "      <td>0.890983</td>\n",
       "      <td>0.959852</td>\n",
       "      <td>03:59</td>\n",
       "    </tr>\n",
       "    <tr>\n",
       "      <td>14</td>\n",
       "      <td>0.079392</td>\n",
       "      <td>0.076429</td>\n",
       "      <td>0.889744</td>\n",
       "      <td>0.944444</td>\n",
       "      <td>0.828205</td>\n",
       "      <td>0.882514</td>\n",
       "      <td>0.959099</td>\n",
       "      <td>03:59</td>\n",
       "    </tr>\n",
       "    <tr>\n",
       "      <td>15</td>\n",
       "      <td>0.075639</td>\n",
       "      <td>0.070844</td>\n",
       "      <td>0.887179</td>\n",
       "      <td>0.928977</td>\n",
       "      <td>0.838462</td>\n",
       "      <td>0.881402</td>\n",
       "      <td>0.960013</td>\n",
       "      <td>03:59</td>\n",
       "    </tr>\n",
       "  </tbody>\n",
       "</table>"
      ],
      "text/plain": [
       "<IPython.core.display.HTML object>"
      ]
     },
     "metadata": {},
     "output_type": "display_data"
    },
    {
     "name": "stdout",
     "output_type": "stream",
     "text": [
      "Better model found at epoch 0 with f1_score value: 0.8847682119205298.\n"
     ]
    },
    {
     "data": {
      "image/png": "[encoded data removed]",
      "text/plain": [
       "<Figure size 432x288 with 1 Axes>"
      ]
     },
     "metadata": {},
     "output_type": "display_data"
    },
    {
     "name": "stdout",
     "output_type": "stream",
     "text": [
      "Better model found at epoch 6 with f1_score value: 0.8865435356200527.\n",
      "Better model found at epoch 9 with f1_score value: 0.8891855807743659.\n",
      "Better model found at epoch 10 with f1_score value: 0.8969072164948454.\n",
      "Better model found at epoch 12 with f1_score value: 0.9016189290161893.\n",
      "No improvement since epoch 10: early stopping\n"
     ]
    }
   ],
   "source": [
    "learn.fine_tune(100,base_lr=3e-4)"
   ]
  },
  {
   "cell_type": "code",
   "execution_count": 17,
   "metadata": {},
   "outputs": [],
   "source": [
    "dfTest = pd.read_csv('../testSample.csv')"
   ]
  },
  {
   "cell_type": "code",
   "execution_count": 18,
   "metadata": {},
   "outputs": [],
   "source": [
    "def is_test(path):\n",
    "    name = path[1]\n",
    "    return (dfTest[dfTest['nombre_foto']==name])['set'].values[0]=='test'"
   ]
  },
  {
   "cell_type": "code",
   "execution_count": 19,
   "metadata": {},
   "outputs": [],
   "source": [
    "dbTest = DataBlock(blocks = (ImageBlock, CategoryBlock),\n",
    "                 splitter=FuncSplitter(is_test),\n",
    "                 get_x = ColReader(1,pref=\"../amd/\"),\n",
    "                 get_y=ColReader(3),\n",
    "                 item_tfms = [Resize(640)], # CropPad(200,200)\n",
    "                 batch_tfms=[*aug_transforms(size=512, min_scale=0.75,do_flip=True,flip_vert=True,\n",
    "                      max_rotate=2.,max_zoom=1.1, max_warp=0.05,p_affine=0.9, p_lighting=0.8), \n",
    "                             Normalize.from_stats(*imagenet_stats)])"
   ]
  },
  {
   "cell_type": "code",
   "execution_count": 20,
   "metadata": {},
   "outputs": [],
   "source": [
    "dlsTest = dbTest.dataloaders(dfTest.values,bs=8,num_workers=0)"
   ]
  },
  {
   "cell_type": "code",
   "execution_count": 21,
   "metadata": {},
   "outputs": [],
   "source": [
    "learn.dls = dlsTest"
   ]
  },
  {
   "cell_type": "code",
   "execution_count": 22,
   "metadata": {},
   "outputs": [
    {
     "data": {
      "text/html": [],
      "text/plain": [
       "<IPython.core.display.HTML object>"
      ]
     },
     "metadata": {},
     "output_type": "display_data"
    },
    {
     "name": "stdout",
     "output_type": "stream",
     "text": [
      "Better model found at epoch 0 with f1_score value: 0.9625351742274819.\n"
     ]
    },
    {
     "data": {
      "text/plain": [
       "(#6) [0.07059400528669357,0.8928205370903015,0.8747553816046967,0.916923076923077,0.8953430145217828,0.9625351742274819]"
      ]
     },
     "execution_count": 22,
     "metadata": {},
     "output_type": "execute_result"
    }
   ],
   "source": [
    "learn.validate()"
   ]
  },
  {
   "cell_type": "code",
   "execution_count": 19,
   "metadata": {},
   "outputs": [
    {
     "data": {
      "text/html": [
       "\n",
       "    <div>\n",
       "        <style>\n",
       "            /* Turns off some styling */\n",
       "            progress {\n",
       "                /* gets rid of default border in Firefox and Opera. */\n",
       "                border: none;\n",
       "                /* Needs to be in here for Safari polyfill so background images work as expected. */\n",
       "                background-size: auto;\n",
       "            }\n",
       "            .progress-bar-interrupted, .progress-bar-interrupted::-webkit-progress-bar {\n",
       "                background: #F44336;\n",
       "            }\n",
       "        </style>\n",
       "      <progress value='0' class='' max='100' style='width:300px; height:20px; vertical-align: middle;'></progress>\n",
       "      \n",
       "    </div>\n",
       "    \n"
      ],
      "text/plain": [
       "<IPython.core.display.HTML object>"
      ]
     },
     "metadata": {},
     "output_type": "display_data"
    },
    {
     "data": {
      "text/html": [],
      "text/plain": [
       "<IPython.core.display.HTML object>"
      ]
     },
     "metadata": {},
     "output_type": "display_data"
    }
   ],
   "source": [
    "preds,y=learn.tta()"
   ]
  },
  {
   "cell_type": "code",
   "execution_count": 20,
   "metadata": {},
   "outputs": [],
   "source": [
    "from sklearn.metrics import precision_score, recall_score, f1_score"
   ]
  },
  {
   "cell_type": "code",
   "execution_count": 21,
   "metadata": {},
   "outputs": [],
   "source": [
    "import numpy as np"
   ]
  },
  {
   "cell_type": "code",
   "execution_count": 22,
   "metadata": {},
   "outputs": [
    {
     "data": {
      "text/plain": [
       "tensor([0, 0, 0,  ..., 1, 1, 0])"
      ]
     },
     "execution_count": 22,
     "metadata": {},
     "output_type": "execute_result"
    }
   ],
   "source": [
    "np.argmax(preds,axis=1)"
   ]
  },
  {
   "cell_type": "code",
   "execution_count": 23,
   "metadata": {},
   "outputs": [
    {
     "data": {
      "text/plain": [
       "0.9001040582726326"
      ]
     },
     "execution_count": 23,
     "metadata": {},
     "output_type": "execute_result"
    }
   ],
   "source": [
    "f1_score(np.argmax(preds,axis=1),y)"
   ]
  },
  {
   "cell_type": "code",
   "execution_count": 24,
   "metadata": {},
   "outputs": [
    {
     "data": {
      "text/plain": [
       "0.8871794871794871"
      ]
     },
     "execution_count": 24,
     "metadata": {},
     "output_type": "execute_result"
    }
   ],
   "source": [
    "precision_score(np.argmax(preds,axis=1),y)"
   ]
  },
  {
   "cell_type": "code",
   "execution_count": 25,
   "metadata": {},
   "outputs": [
    {
     "data": {
      "text/plain": [
       "0.9134107708553326"
      ]
     },
     "execution_count": 25,
     "metadata": {},
     "output_type": "execute_result"
    }
   ],
   "source": [
    "recall_score(np.argmax(preds,axis=1),y)"
   ]
  },
  {
   "cell_type": "code",
   "execution_count": null,
   "metadata": {},
   "outputs": [],
   "source": []
  }
 ],
 "metadata": {
  "kernelspec": {
   "display_name": "Python 3",
   "language": "python",
   "name": "python3"
  },
  "language_info": {
   "codemirror_mode": {
    "name": "ipython",
    "version": 3
   },
   "file_extension": ".py",
   "mimetype": "text/x-python",
   "name": "python",
   "nbconvert_exporter": "python",
   "pygments_lexer": "ipython3",
   "version": "3.6.7"
  }
 },
 "nbformat": 4,
 "nbformat_minor": 4
}
